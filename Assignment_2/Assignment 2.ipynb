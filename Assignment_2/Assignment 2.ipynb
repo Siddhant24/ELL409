{
 "cells": [
  {
   "cell_type": "code",
   "execution_count": 1,
   "metadata": {},
   "outputs": [],
   "source": [
    "import numpy as np\n",
    "import matplotlib.pyplot as plt\n",
    "import pandas as pd\n",
    "import random"
   ]
  },
  {
   "cell_type": "markdown",
   "metadata": {},
   "source": [
    "# Assignment\n",
    "Algorithms to implement: \n",
    "- Linear Models:\n",
    "- Logistic Models \n",
    "- Perceptron\n",
    "- FLDA\n",
    "- Multi-Class Discriminative Models\n",
    "- Support Vector Machines"
   ]
  },
  {
   "cell_type": "markdown",
   "metadata": {},
   "source": [
    "# Linear Models\n",
    "We'll try to find an aribitrary hyperplane that works for linearly seperable data\n",
    "\n",
    "##### Kernel:\n",
    "    - Can project data onto a greater polynomial space\n",
    "    - Can also try to reduce the data to a small dimensional subspace [PCA]\n",
    "##### Training:\n",
    "    - Solve Normal Equations of W*\n",
    "    - Search for W* using Gradient Descent\n",
    "    - Search for W* using Perceptron algorithm    \n",
    "##### Expectation:\n",
    "    - When data is projected upward onto a very large polynomial superspace, the data will become linearly seperable and hence we'll be able to find a good hyperplane : Overfitting\n",
    "    - When data is projected inward onto a very small subspace, there is no linear seperability and these algos stop working\n",
    "    \n",
    "    "
   ]
  },
  {
   "cell_type": "markdown",
   "metadata": {},
   "source": [
    "# Adaptations\n",
    "When the data isn't perfectly linearly seperable, say there is a region in between that contains both classes, then we need quantifications of linear seperability, and updates in our algorithms.\n",
    "##### Logistic Models\n",
    "    - Sigmoid of WX is the cost of misclassification, rather than 1 as for linear model (under both 0-1 and MS loss)\n",
    "    VERIFY\n",
    "    - Works best when class-conditional densities are gaussians\n",
    "    - reduces to a linear model for linearly seperable data\n",
    "\n",
    "##### Fischer Discriminant Analysis\n",
    "    - Is another way of choosing the classifying hyperplane. This method tries to maximize the projected intra-class variance with respect to the projected inter-class variance.\n",
    "\n",
    "##### Support Vector Machines\n",
    "    - Choose that hyper plane that maximizes distance from points, and also seperates them.\n"
   ]
  },
  {
   "cell_type": "code",
   "execution_count": null,
   "metadata": {},
   "outputs": [],
   "source": []
  }
 ],
 "metadata": {
  "kernelspec": {
   "display_name": "Python 3",
   "language": "python",
   "name": "python3"
  },
  "language_info": {
   "codemirror_mode": {
    "name": "ipython",
    "version": 3
   },
   "file_extension": ".py",
   "mimetype": "text/x-python",
   "name": "python",
   "nbconvert_exporter": "python",
   "pygments_lexer": "ipython3",
   "version": "3.6.5"
  }
 },
 "nbformat": 4,
 "nbformat_minor": 2
}
