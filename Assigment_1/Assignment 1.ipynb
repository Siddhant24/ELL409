{
 "cells": [
  {
   "cell_type": "code",
   "execution_count": 5,
   "metadata": {},
   "outputs": [],
   "source": [
    "import numpy as np\n",
    "import pandas as pd\n",
    "import matplotlib as plt"
   ]
  },
  {
   "cell_type": "code",
   "execution_count": 6,
   "metadata": {},
   "outputs": [
    {
     "name": "stdout",
     "output_type": "stream",
     "text": [
      "Requirement already up-to-date: pip in /anaconda3/lib/python3.6/site-packages (18.0)\n",
      "Requirement already satisfied: python-mnist in /anaconda3/lib/python3.6/site-packages (0.6)\n"
     ]
    }
   ],
   "source": [
    "import sys\n",
    "!{sys.executable} -m pip install --upgrade pip\n",
    "!{sys.executable} -m pip install python-mnist\n",
    "\n"
   ]
  },
  {
   "cell_type": "code",
   "execution_count": 7,
   "metadata": {},
   "outputs": [],
   "source": [
    "from mnist import MNIST\n",
    "mndata = MNIST('fashion_data')\n",
    "imagesTrain,labelsTrain = mndata.load_training()\n",
    "imagesTest, labelsTest = mndata.load_testing()\n"
   ]
  },
  {
   "cell_type": "code",
   "execution_count": 82,
   "metadata": {},
   "outputs": [
    {
     "data": {
      "text/plain": [
       "10000"
      ]
     },
     "execution_count": 82,
     "metadata": {},
     "output_type": "execute_result"
    }
   ],
   "source": [
    "len(imagesTest)"
   ]
  },
  {
   "cell_type": "code",
   "execution_count": 85,
   "metadata": {},
   "outputs": [
    {
     "name": "stdout",
     "output_type": "stream",
     "text": [
      "(48000, 784) (48000,)\n",
      "(12000, 784) (12000,)\n",
      "(10000, 784) (10000,)\n"
     ]
    }
   ],
   "source": [
    "X_test = np.array(imagesTest)\n",
    "y_test = np.array(labelsTest)\n",
    "\n",
    "import random\n",
    "\n",
    "n = len(imagesTrain)\n",
    "indices = np.random.permutation(n)\n",
    "trainingIndex = indices[:int(4*n/5)]\n",
    "validationIndex = indices[int(4*n/5):]\n",
    "\n",
    "X_train = np.array(imagesTrain)[trainingIndex]\n",
    "y_train = np.array(labelsTrain)[trainingIndex]\n",
    "\n",
    "X_val = np.array(imagesTrain)[validationIndex]\n",
    "y_val = np.array(labelsTrain)[validationIndex]\n",
    "\n",
    "\n",
    "\n",
    "\n",
    "print(X_train.shape, y_train.shape)\n",
    "print(X_val.shape, y_val.shape)\n",
    "print(X_test.shape, y_test.shape)"
   ]
  },
  {
   "cell_type": "code",
   "execution_count": 74,
   "metadata": {},
   "outputs": [],
   "source": [
    "#KNN\n",
    "def euclideanDistance (x,y):\n",
    "    if len(x.shape)==1: return np.sqrt(np.sum(np.square(x-y)))\n",
    "    else: return np.sqrt(np.sum((np.square(x - y)), axis = 1))\n",
    "\n",
    "'''\n",
    "def getKNeighbours(testX, X, K, distanceMetric):\n",
    "    dists = distanceMetric(X, testX);\n",
    "    ind = np.argpartition(dists, K)[0:K]\n",
    "    return ind\n",
    "'''\n",
    "\n",
    "def getKNeighbours(testX, X, K, distanceMetric):\n",
    "    #testX is a matrix\n",
    "    dists = np.array([distanceMetric(X, testx) for testx in testX])\n",
    "    ind = np.argpartition(dists, K, axis = 1)[:, 0:K]\n",
    "    return ind\n",
    "\n",
    "\n",
    "def knnClassifier(testX,trainX,trainY, K, distanceMetric):    \n",
    "    indices = getKNeighbours(testX, trainX, K, distanceMetric)\n",
    "    freqs = np.array([trainY[index] for index in indices])\n",
    "    predY = [np.bincount(freq).argmax() for freq in freqs]\n",
    "    return np.array(predY)\n",
    "\n",
    "             "
   ]
  },
  {
   "cell_type": "code",
   "execution_count": 81,
   "metadata": {},
   "outputs": [],
   "source": [
    "def accuracy(prediction, actual):\n",
    "    return np.sum(prediction==actual)/prediction.shape[0]\n",
    "\n",
    "\n",
    "    \n"
   ]
  },
  {
   "cell_type": "code",
   "execution_count": 80,
   "metadata": {},
   "outputs": [
    {
     "name": "stdout",
     "output_type": "stream",
     "text": [
      "n_samples =  5\n",
      "accuracy:  1.0\n",
      "time taken:  21.380165100097656\n",
      "accuracy:  0.8\n",
      "time taken:  16.710981130599976\n",
      "accuracy:  0.8\n",
      "time taken:  17.796616077423096\n",
      "accuracy:  0.8\n",
      "time taken:  12.47257113456726\n"
     ]
    }
   ],
   "source": [
    "import time\n",
    "import random\n",
    "\n",
    "\n",
    "n_samples = 5\n",
    "print(\"n_samples = \", n_samples)\n",
    "indices = random.sample(range(1, 10000), n_samples)\n",
    "\n",
    "for K in [1000, 100, 25, 5]:\n",
    "    start = time.time()\n",
    "    y_pred = knnClassifier(X_test[indices], X_train, y_train, K, euclideanDistance )\n",
    "    acc = accuracy(y_pred, y_test[indices])\n",
    "    end = time.time()\n",
    "    #print(\"K: \", K)\n",
    "    print(\"accuracy: \", acc)\n",
    "    print(\"time taken: \", end-start)\n"
   ]
  }
 ],
 "metadata": {
  "kernelspec": {
   "display_name": "Python 3",
   "language": "python",
   "name": "python3"
  },
  "language_info": {
   "codemirror_mode": {
    "name": "ipython",
    "version": 3
   },
   "file_extension": ".py",
   "mimetype": "text/x-python",
   "name": "python",
   "nbconvert_exporter": "python",
   "pygments_lexer": "ipython3",
   "version": "3.6.5"
  }
 },
 "nbformat": 4,
 "nbformat_minor": 2
}
