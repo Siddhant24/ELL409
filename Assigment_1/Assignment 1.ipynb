{
 "cells": [
  {
   "cell_type": "code",
   "execution_count": 5,
   "metadata": {},
   "outputs": [],
   "source": [
    "import numpy as np\n",
    "import pandas as pd\n",
    "import matplotlib as plt\n",
    "\n",
    "import time\n",
    "import random"
   ]
  },
  {
   "cell_type": "code",
   "execution_count": 6,
   "metadata": {},
   "outputs": [
    {
     "name": "stdout",
     "output_type": "stream",
     "text": [
      "Requirement already up-to-date: pip in /anaconda3/lib/python3.6/site-packages (18.0)\n",
      "Requirement already satisfied: python-mnist in /anaconda3/lib/python3.6/site-packages (0.6)\n"
     ]
    }
   ],
   "source": [
    "import sys\n",
    "!{sys.executable} -m pip install --upgrade pip\n",
    "!{sys.executable} -m pip install python-mnist\n",
    "\n"
   ]
  },
  {
   "cell_type": "code",
   "execution_count": 133,
   "metadata": {},
   "outputs": [],
   "source": [
    "#KNN\n",
    "\n",
    "\n",
    "def euclideanDistance (x,y):\n",
    "    if len(x.shape)==1: return np.sqrt(np.sum(np.square(x-y)))\n",
    "    else: return np.sqrt(np.sum((np.square(x - y)), axis = 1))\n",
    "\n",
    "'''\n",
    "def getKNeighbours(testX, X, K, distanceMetric):\n",
    "    dists = distanceMetric(X, testX);\n",
    "    ind = np.argpartition(dists, K)[0:K]\n",
    "    return ind\n",
    "'''\n",
    "\n",
    "def getKNeighbours(testX, X, K, distanceMetric):\n",
    "    #testX is a matrix\n",
    "    dists = np.array([distanceMetric(X, testx) for testx in testX])\n",
    "    ind = np.argpartition(dists, K, axis = 1)[:, 0:K]\n",
    "    return ind\n",
    "\n",
    "\n",
    "def knnClassifier(testX,trainX,trainY, K, distanceMetric):    \n",
    "    indices = getKNeighbours(testX, trainX, K, distanceMetric)\n",
    "    freqs = np.array([trainY[index] for index in indices])\n",
    "    predY = [np.bincount(freq).argmax() for freq in freqs]\n",
    "    return np.array(predY)\n",
    "\n",
    "             "
   ]
  },
  {
   "cell_type": "code",
   "execution_count": 81,
   "metadata": {},
   "outputs": [],
   "source": [
    "#Evaluation Metrics\n",
    "\n",
    "def accuracy(prediction, actual):\n",
    "    return np.sum(prediction==actual)/prediction.shape[0]\n",
    "\n",
    "#How to define with multi-class recall, precision and F1 score?\n",
    "    \n"
   ]
  },
  {
   "cell_type": "code",
   "execution_count": 122,
   "metadata": {},
   "outputs": [
    {
     "name": "stdout",
     "output_type": "stream",
     "text": [
      "Train, Validation, Test\n",
      "(48000, 784) (48000,)\n",
      "(12000, 784) (12000,)\n",
      "(10000, 784) (10000,)\n"
     ]
    }
   ],
   "source": [
    "\n",
    "#FMNIST Data\n",
    "\n",
    "from mnist import MNIST\n",
    "mndata = MNIST('fashion_data')\n",
    "imagesTrain,labelsTrain = mndata.load_training()\n",
    "imagesTest, labelsTest = mndata.load_testing()\n",
    "\n",
    "\n",
    "X_test = np.array(imagesTest)\n",
    "y_test = np.array(labelsTest)\n",
    "\n",
    "import random\n",
    "n = len(imagesTrain)\n",
    "indices = np.random.permutation(n)\n",
    "\n",
    "trainingIndex = indices[:int(4*n/5)]\n",
    "validationIndex = indices[int(4*n/5):]\n",
    "\n",
    "X_train = np.array(imagesTrain)[trainingIndex]\n",
    "y_train = np.array(labelsTrain)[trainingIndex]\n",
    "\n",
    "X_val = np.array(imagesTrain)[validationIndex]\n",
    "y_val = np.array(labelsTrain)[validationIndex]\n",
    "\n",
    "\n",
    "print(\"Train, Validation, Test\")\n",
    "print(X_train.shape, y_train.shape)\n",
    "print(X_val.shape, y_val.shape)\n",
    "print(X_test.shape, y_test.shape)"
   ]
  },
  {
   "cell_type": "code",
   "execution_count": 80,
   "metadata": {},
   "outputs": [
    {
     "name": "stdout",
     "output_type": "stream",
     "text": [
      "n_samples =  5\n",
      "accuracy:  1.0\n",
      "time taken:  21.380165100097656\n",
      "accuracy:  0.8\n",
      "time taken:  16.710981130599976\n",
      "accuracy:  0.8\n",
      "time taken:  17.796616077423096\n",
      "accuracy:  0.8\n",
      "time taken:  12.47257113456726\n"
     ]
    }
   ],
   "source": [
    "n_samples = 5\n",
    "print(\"n_samples = \", n_samples)\n",
    "indices = random.sample(range(1, 10000), n_samples)\n",
    "\n",
    "for K in [1000, 100, 25, 5]:\n",
    "    start = time.time()\n",
    "    y_pred = knnClassifier(X_test[indices], X_train, y_train, K, euclideanDistance )\n",
    "    acc = accuracy(y_pred, y_test[indices])\n",
    "    end = time.time()\n",
    "    #print(\"K: \", K)\n",
    "    print(\"accuracy: \", acc)\n",
    "    print(\"time taken: \", end-start)\n"
   ]
  },
  {
   "cell_type": "code",
   "execution_count": 131,
   "metadata": {},
   "outputs": [
    {
     "name": "stdout",
     "output_type": "stream",
     "text": [
      "GROUPED Mean\n",
      "               TEST1     TEST2     TEST3\n",
      "Health                                  \n",
      "HEALTHY     1.941325  0.010299  1.867746\n",
      "MEDICATION  1.386771  1.601348  0.001291\n",
      "SURGERY     0.003511  1.725762  1.494196\n",
      "GROUPED Standard Deviation\n",
      "               TEST1     TEST2     TEST3\n",
      "Health                                  \n",
      "HEALTHY     0.997133  0.224879  0.910033\n",
      "MEDICATION  1.201548  1.267593  0.225420\n",
      "SURGERY     0.229398  1.308038  1.370244\n",
      "\n",
      "Train, Validation, Test\n",
      "(2000, 3) (2000,)\n",
      "(500, 3) (500,)\n",
      "(500, 3) (500,)\n"
     ]
    }
   ],
   "source": [
    "##MEDICAL DATA\n",
    "\n",
    "medicalData = pd.read_csv('Medical_data.csv')\n",
    "#print(data.info())\n",
    "print(\"GROUPED Mean\")\n",
    "print(medicalData[['Health', 'TEST1', 'TEST2', 'TEST3']].groupby('Health').mean())\n",
    "print(\"GROUPED Standard Deviation\")\n",
    "print(medicalData[['Health', 'TEST1', 'TEST2', 'TEST3']].groupby('Health').std())\n",
    "\n",
    "medicalData['Health'] = medicalData['Health'].map({'HEALTHY': 0, 'MEDICATION': 1, 'SURGERY': 2}).astype(int)\n",
    "# Healthy == 0\n",
    "# Medication == 1\n",
    "# Surgery == 2\n",
    "\n",
    "X = data.values[::, 1::]\n",
    "y = data.values[::, 0].astype(int)\n",
    "\n",
    "n = X.shape[0]\n",
    "indices = np.random.permutation(n)\n",
    "trainingIndex = indices[:int(4*n/6)]\n",
    "validationIndex = indices[int(4*n/6): int(5*n/6)]\n",
    "testIndex = indices[int(5*n/6):]\n",
    "\n",
    "X_train = X[trainingIndex]\n",
    "y_train = y[trainingIndex]\n",
    "\n",
    "X_val = X[validationIndex]\n",
    "y_val = y[validationIndex]\n",
    "\n",
    "X_test = X[testIndex]\n",
    "y_test = y[testIndex]\n",
    "\n",
    "print()\n",
    "print(\"Train, Validation, Test\")\n",
    "print(X_train.shape, y_train.shape)\n",
    "print(X_val.shape, y_val.shape)\n",
    "print(X_test.shape, y_test.shape)\n",
    "\n",
    "\n"
   ]
  },
  {
   "cell_type": "code",
   "execution_count": 144,
   "metadata": {},
   "outputs": [
    {
     "name": "stdout",
     "output_type": "stream",
     "text": [
      "K:  1\n",
      "accuracy_validation:  0.874\n",
      "K:  3\n",
      "accuracy_validation:  0.892\n",
      "K:  10\n",
      "accuracy_validation:  0.904\n",
      "K:  30\n",
      "accuracy_validation:  0.902\n",
      "K:  100\n",
      "accuracy_validation:  0.888\n",
      "K:  300\n",
      "accuracy_validation:  0.856\n",
      "\n",
      "\n",
      "\n",
      "\n",
      "K:  10\n",
      "accuracy_test:  0.906\n"
     ]
    }
   ],
   "source": [
    "for K in [1, 3, 10, 30, 100, 300]:\n",
    "    start = time.time()\n",
    "    y_pred = knnClassifier(X_val, X_train, y_train, K, euclideanDistance )\n",
    "    acc = accuracy(y_pred, y_val)\n",
    "    end = time.time()\n",
    "    print(\"K: \", K)\n",
    "    print(\"accuracy_validation: \", acc)\n",
    "    #print(\"time taken: \", end-start)\n",
    "\n",
    "print(\"\\n\\n\\n\")\n",
    "#Accuracy peaks for K=10\n",
    "y_pred = knnClassifier(X_test, X_train, y_train, 10, euclideanDistance )\n",
    "acc = accuracy(y_pred, y_test)\n",
    "print(\"K: \", 10)\n",
    "print(\"accuracy_test: \", acc)\n",
    "\n"
   ]
  },
  {
   "cell_type": "code",
   "execution_count": null,
   "metadata": {},
   "outputs": [],
   "source": []
  }
 ],
 "metadata": {
  "kernelspec": {
   "display_name": "Python 3",
   "language": "python",
   "name": "python3"
  },
  "language_info": {
   "codemirror_mode": {
    "name": "ipython",
    "version": 3
   },
   "file_extension": ".py",
   "mimetype": "text/x-python",
   "name": "python",
   "nbconvert_exporter": "python",
   "pygments_lexer": "ipython3",
   "version": "3.6.5"
  }
 },
 "nbformat": 4,
 "nbformat_minor": 2
}
