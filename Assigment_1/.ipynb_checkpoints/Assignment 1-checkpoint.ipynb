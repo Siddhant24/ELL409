{
 "cells": [
  {
   "cell_type": "code",
   "execution_count": 5,
   "metadata": {},
   "outputs": [
    {
     "name": "stdout",
     "output_type": "stream",
     "text": [
      "The autoreload extension is already loaded. To reload it, use:\n",
      "  %reload_ext autoreload\n"
     ]
    }
   ],
   "source": [
    "%load_ext autoreload\n",
    "%autoreload 2\n",
    "#Reloads import libraries before every piece of code is run so that changes in function.py reflect immediately\n",
    "\n",
    "\n",
    "import numpy as np\n",
    "import pandas as pd\n",
    "import matplotlib as plt\n",
    "\n",
    "import time\n",
    "import random\n",
    "RANDOM_SEED = 42\n",
    "random.seed(RANDOM_SEED)\n",
    "np.random.seed(RANDOM_SEED)\n",
    "\n",
    "#import functions\n",
    "from functions import prepareFMNISTData, prepareRailwayData, prepareMedicalData\n",
    "from functions import euclideanDistance, manhattenDistance, chebyschevDistance\n",
    "from functions import accuracy\n",
    "from functions import knnClassifier, bayesClassifier, naiveBayesClassifier\n",
    "from functions import kNearestNeighboursEstimation, parzenWindowEstimation_gaussian\n",
    "\n",
    "# import sys\n",
    "# !{sys.executable} -m pip3 install --upgrade pip\n",
    "# !{sys.executable} -m pip3 install python-mnist\n"
   ]
  },
  {
   "cell_type": "code",
   "execution_count": null,
   "metadata": {},
   "outputs": [],
   "source": [
    "\n"
   ]
  },
  {
   "cell_type": "code",
   "execution_count": 2,
   "metadata": {},
   "outputs": [
    {
     "name": "stdout",
     "output_type": "stream",
     "text": [
      "n_samples =  30\n",
      "[0 0 0 0 0 0 0 0 0 0 0 0 0 0 0 0 0 0 0 0 0 0 0 0 0 0 0 0 0 0] [5 1 7 4 3 0 4 7 1 9 7 2 0 1 0 4 5 4 2 4 6 3 2 2 0 1 1 5 2 0]\n",
      "accuracy:  0.16666666666666666\n",
      "time taken:  7.5740578174591064\n"
     ]
    }
   ],
   "source": [
    "(X_train, y_train, X_val, y_val, X_test, y_test) = prepareFMNISTData(0);\n",
    "n_samples = 30\n",
    "print(\"n_samples = \", n_samples)\n",
    "indices = random.sample(range(0, 10000), n_samples)\n",
    "for K in [1]:\n",
    "    start = time.time()\n",
    "    y_pred = bayesClassifier(X_test[indices], X_train, y_train, parzenWindowEstimation_gaussian, K) \n",
    "    #print(y_pred, y_test[indices])\n",
    "    acc = accuracy(y_pred, y_test[indices])\n",
    "    end = time.time()\n",
    "    #print(\"K: \", K)\n",
    "    print(\"accuracy: \", acc)\n",
    "    print(\"time taken: \", end-start)\n"
   ]
  },
  {
   "cell_type": "code",
   "execution_count": 3,
   "metadata": {},
   "outputs": [
    {
     "name": "stdout",
     "output_type": "stream",
     "text": [
      "\n",
      "Train, Validation, Test\n",
      "(2000, 3) (2000,)\n",
      "(500, 3) (500,)\n",
      "(500, 3) (500,)\n"
     ]
    }
   ],
   "source": [
    "##MEDICAL DATA\n",
    "(X_train, y_train, X_val, y_val, X_test, y_test) = prepareMedicalData()\n",
    "print()\n",
    "print(\"Train, Validation, Test\")\n",
    "print(X_train.shape, y_train.shape)\n",
    "print(X_val.shape, y_val.shape)\n",
    "print(X_test.shape, y_test.shape)\n",
    "\n",
    "\n"
   ]
  },
  {
   "cell_type": "code",
   "execution_count": 4,
   "metadata": {},
   "outputs": [
    {
     "name": "stdout",
     "output_type": "stream",
     "text": [
      "K:  1\n",
      "accuracy_validation:  0.886\n",
      "K:  3\n",
      "accuracy_validation:  0.874\n",
      "K:  10\n",
      "accuracy_validation:  0.868\n",
      "K:  30\n",
      "accuracy_validation:  0.87\n",
      "K:  100\n",
      "accuracy_validation:  0.856\n",
      "K:  300\n",
      "accuracy_validation:  0.796\n",
      "\n",
      "\n",
      "\n",
      "\n",
      "K:  1\n",
      "accuracy_test:  0.88\n"
     ]
    }
   ],
   "source": [
    "#KNN\n",
    "(X_train, y_train, X_val, y_val, X_test, y_test) = prepareMedicalData(0)\n",
    "for K in [1, 3, 10, 30, 100, 300]:\n",
    "    start = time.time()\n",
    "    y_pred = knnClassifier(X_val, X_train, y_train, K, euclideanDistance )\n",
    "    acc = accuracy(y_pred, y_val)\n",
    "    end = time.time()\n",
    "    print(\"K: \", K)\n",
    "    print(\"accuracy_validation: \", acc)\n",
    "    #print(\"time taken: \", end-start)\n",
    "\n",
    "print(\"\\n\\n\\n\")\n",
    "#Accuracy peaks for K=1\n",
    "K = 1\n",
    "y_pred = knnClassifier(X_test, X_train, y_train, K, euclideanDistance )\n",
    "acc = accuracy(y_pred, y_test)\n",
    "print(\"K: \", K)\n",
    "print(\"accuracy_test: \", acc)\n",
    "\n"
   ]
  },
  {
   "cell_type": "code",
   "execution_count": 5,
   "metadata": {},
   "outputs": [
    {
     "name": "stdout",
     "output_type": "stream",
     "text": [
      "K:  1\n",
      "accuracy_validation:  0.882\n",
      "K:  3\n",
      "accuracy_validation:  0.87\n",
      "K:  10\n",
      "accuracy_validation:  0.87\n",
      "K:  30\n",
      "accuracy_validation:  0.874\n",
      "K:  100\n",
      "accuracy_validation:  0.858\n",
      "K:  300\n",
      "accuracy_validation:  0.802\n",
      "\n",
      "\n",
      "\n",
      "\n",
      "K:  1\n",
      "accuracy_test:  0.878\n"
     ]
    }
   ],
   "source": [
    "#Normalized KNN\n",
    "(X_train, y_train, X_val, y_val, X_test, y_test) = prepareMedicalData(1)\n",
    "for K in [1, 3, 10, 30, 100, 300]:\n",
    "    start = time.time()\n",
    "    y_pred = knnClassifier(X_val, X_train, y_train, K, euclideanDistance )\n",
    "    acc = accuracy(y_pred, y_val)\n",
    "    end = time.time()\n",
    "    print(\"K: \", K)\n",
    "    print(\"accuracy_validation: \", acc)\n",
    "    #print(\"time taken: \", end-start)\n",
    "\n",
    "print(\"\\n\\n\\n\")\n",
    "#Accuracy peaks for K=1\n",
    "K = 1\n",
    "y_pred = knnClassifier(X_test, X_train, y_train, K, euclideanDistance )\n",
    "acc = accuracy(y_pred, y_test)\n",
    "print(\"K: \", K)\n",
    "print(\"accuracy_test: \", acc)\n",
    "\n",
    "\n"
   ]
  },
  {
   "cell_type": "code",
   "execution_count": 6,
   "metadata": {},
   "outputs": [
    {
     "name": "stdout",
     "output_type": "stream",
     "text": [
      "H:  <ufunc 'sqrt'>\n",
      "accuracy_validation:  0.85\n",
      "time taken:  0.09196090698242188\n",
      "H:  <ufunc 'absolute'>\n",
      "accuracy_validation:  0.526\n",
      "time taken:  0.07190608978271484\n",
      "H:  <ufunc 'log'>\n",
      "accuracy_validation:  0.876\n",
      "time taken:  0.08338785171508789\n",
      "H:  <function <lambda> at 0x10b0ca730>\n",
      "accuracy_validation:  0.73\n",
      "time taken:  0.09158515930175781\n",
      "\n",
      "\n",
      "\n",
      "\n",
      "H:  <ufunc 'log'>\n",
      "accuracy_test:  0.86\n"
     ]
    }
   ],
   "source": [
    "#ParzenWindow  Bayes\n",
    "(X_train, y_train, X_val, y_val, X_test, y_test) = prepareMedicalData(1)\n",
    "for H in [np.sqrt, np.abs, np.log, lambda n: n/2]:\n",
    "    start = time.time()\n",
    "    y_pred = bayesClassifier(X_val, X_train, y_train, kNearestNeighboursEstimation, H)\n",
    "    \n",
    "    acc = accuracy(y_pred, y_val)\n",
    "    end = time.time()\n",
    "    print(\"H: \", H)\n",
    "    print(\"accuracy_validation: \", acc)\n",
    "    print(\"time taken: \", end-start)\n",
    "\n",
    "print(\"\\n\\n\\n\")\n",
    "#Accuracy peaks for H = 0.1\n",
    "H = np.log\n",
    "y_pred = bayesClassifier(X_test, X_train, y_train, kNearestNeighboursEstimation, H)\n",
    "acc = accuracy(y_pred, y_test)\n",
    "print(\"H: \", H)\n",
    "print(\"accuracy_test: \", acc)\n",
    "\n"
   ]
  },
  {
   "cell_type": "code",
   "execution_count": 7,
   "metadata": {},
   "outputs": [
    {
     "name": "stdout",
     "output_type": "stream",
     "text": [
      "H:  0.001\n",
      "accuracy_validation:  0.368\n",
      "time taken:  0.10215091705322266\n",
      "H:  0.003\n",
      "accuracy_validation:  0.664\n",
      "time taken:  0.09500885009765625\n",
      "H:  0.01\n",
      "accuracy_validation:  0.874\n",
      "time taken:  0.09470391273498535\n",
      "H:  0.03\n",
      "accuracy_validation:  0.884\n",
      "time taken:  0.10492205619812012\n",
      "H:  0.1\n",
      "accuracy_validation:  0.89\n",
      "time taken:  0.10155606269836426\n",
      "H:  0.3\n",
      "accuracy_validation:  0.882\n",
      "time taken:  0.10697698593139648\n",
      "H:  1\n",
      "accuracy_validation:  0.796\n",
      "time taken:  0.11120080947875977\n",
      "H:  3\n",
      "accuracy_validation:  0.716\n",
      "time taken:  0.10945320129394531\n",
      "H:  10\n",
      "accuracy_validation:  0.322\n",
      "time taken:  0.10027408599853516\n",
      "H:  30\n",
      "accuracy_validation:  0.322\n",
      "time taken:  0.10784316062927246\n",
      "H:  100\n",
      "accuracy_validation:  0.322\n",
      "time taken:  0.1041557788848877\n",
      "H:  300\n",
      "accuracy_validation:  0.322\n",
      "time taken:  0.10130476951599121\n",
      "\n",
      "\n",
      "\n",
      "\n",
      "H:  0.1\n",
      "accuracy_test:  0.882\n"
     ]
    }
   ],
   "source": [
    "#ParzenWindow Bayes\n",
    "(X_train, y_train, X_val, y_val, X_test, y_test) = prepareMedicalData(1)\n",
    "for H in [0.001, 0.003, 0.01, 0.03, 0.1, 0.3, 1, 3, 10, 30, 100, 300]:\n",
    "    start = time.time()\n",
    "    y_pred = bayesClassifier(X_val, X_train, y_train, parzenWindowEstimation_gaussian, H)\n",
    "    acc = accuracy(y_pred, y_val)\n",
    "    end = time.time()\n",
    "    print(\"H: \", H)\n",
    "    print(\"accuracy_validation: \", acc)\n",
    "    print(\"time taken: \", end-start)\n",
    "\n",
    "print(\"\\n\\n\\n\")\n",
    "#Accuracy peaks for H = 0.1\n",
    "H = 0.1\n",
    "y_pred = bayesClassifier(X_test, X_train, y_train, parzenWindowEstimation_gaussian, H)\n",
    "acc = accuracy(y_pred, y_test)\n",
    "print(\"H: \", H)\n",
    "print(\"accuracy_test: \", acc)\n",
    "\n",
    "\n"
   ]
  },
  {
   "cell_type": "code",
   "execution_count": 8,
   "metadata": {},
   "outputs": [
    {
     "name": "stdout",
     "output_type": "stream",
     "text": [
      "Train, Validation, Test\n",
      "(873, 5) (873,)\n",
      "(218, 5) (218,)\n",
      "(219, 5) (219,)\n"
     ]
    }
   ],
   "source": [
    "\n",
    "\n",
    "\n",
    "(X_train, y_train, X_val, y_val, X_test, y_test) = prepareRailwayData()\n",
    "#print(railwayData.head())\n",
    "#print()\n",
    "#print(\"GROUPED Mean\")\n",
    "#print(railwayData[['boarded', 'budget', 'preferredClass', 'memberCount', 'sex', 'age']].groupby('sex').mean())\n",
    "#print()\n",
    "print(\"Train, Validation, Test\")\n",
    "print(X_train.shape, y_train.shape)\n",
    "print(X_val.shape, y_val.shape)\n",
    "print(X_test.shape, y_test.shape)\n",
    "\n"
   ]
  },
  {
   "cell_type": "code",
   "execution_count": 11,
   "metadata": {},
   "outputs": [
    {
     "name": "stdout",
     "output_type": "stream",
     "text": [
      "K:  1\n",
      "accuracy_validation:  0.7155963302752294\n",
      "K:  3\n",
      "accuracy_validation:  0.7844036697247706\n",
      "K:  10\n",
      "accuracy_validation:  0.7477064220183486\n",
      "K:  30\n",
      "accuracy_validation:  0.7385321100917431\n",
      "K:  100\n",
      "accuracy_validation:  0.6788990825688074\n",
      "K:  300\n",
      "accuracy_validation:  0.6972477064220184\n",
      "\n",
      "\n",
      "\n",
      "\n",
      "K:  3\n",
      "accuracy_test:  0.6940639269406392\n"
     ]
    }
   ],
   "source": [
    "\n",
    "#Unnormalized KNN with Euclidean Distance\n",
    "(X_train, y_train, X_val, y_val, X_test, y_test) = prepareRailwayData(scale = 0)\n",
    "for K in [1, 3, 10, 30, 100, 300]:\n",
    "    start = time.time()\n",
    "    y_pred = knnClassifier(X_val, X_train, y_train, K, euclideanDistance )\n",
    "    acc = accuracy(y_pred, y_val)\n",
    "    end = time.time()\n",
    "    print(\"K: \", K)\n",
    "    print(\"accuracy_validation: \", acc)\n",
    "    #print(\"time taken: \", end-start)\n",
    "\n",
    "print(\"\\n\\n\\n\")\n",
    "#Accuracy peaks for K=3\n",
    "K = 3\n",
    "y_pred = knnClassifier(X_test, X_train, y_train, K, euclideanDistance )\n",
    "acc = accuracy(y_pred, y_test)\n",
    "print(\"K: \", K)\n",
    "print(\"accuracy_test: \", acc)\n",
    "\n"
   ]
  },
  {
   "cell_type": "code",
   "execution_count": 3,
   "metadata": {},
   "outputs": [
    {
     "name": "stdout",
     "output_type": "stream",
     "text": [
      "1234\n",
      "K:  1\n",
      "accuracy_validation:  0.7155963302752294\n",
      "1234\n",
      "K:  3\n",
      "accuracy_validation:  0.7889908256880734\n",
      "1234\n",
      "K:  10\n",
      "accuracy_validation:  0.7889908256880734\n",
      "1234\n",
      "K:  30\n",
      "accuracy_validation:  0.7935779816513762\n",
      "1234\n",
      "K:  100\n",
      "accuracy_validation:  0.7752293577981652\n",
      "1234\n",
      "K:  300\n",
      "accuracy_validation:  0.8027522935779816\n",
      "\n",
      "\n",
      "\n",
      "\n",
      "1234\n",
      "K:  30\n",
      "accuracy_test:  0.7488584474885844\n"
     ]
    }
   ],
   "source": [
    "#Normalized KNN with Euclidean Distance\n",
    "(X_train, y_train, X_val, y_val, X_test, y_test) = prepareRailwayData(scale = 1)\n",
    "for K in [1, 3, 10, 30, 100, 300]:\n",
    "    start = time.time()\n",
    "    y_pred = knnClassifier(X_val, X_train, y_train, K, euclideanDistance )\n",
    "    acc = accuracy(y_pred, y_val)\n",
    "    end = time.time()\n",
    "    print(\"K: \", K)\n",
    "    print(\"accuracy_validation: \", acc)\n",
    "    #print(\"time taken: \", end-start)\n",
    "\n",
    "print(\"\\n\\n\\n\")\n",
    "#Accuracy peaks for K=30\n",
    "K = 30\n",
    "y_pred = knnClassifier(X_test, X_train, y_train, K, euclideanDistance)\n",
    "acc = accuracy(y_pred, y_test)\n",
    "print(\"K: \", K)\n",
    "print(\"accuracy_test: \", acc)\n",
    "\n",
    "\n",
    "\n"
   ]
  },
  {
   "cell_type": "code",
   "execution_count": null,
   "metadata": {},
   "outputs": [],
   "source": []
  },
  {
   "cell_type": "code",
   "execution_count": null,
   "metadata": {},
   "outputs": [],
   "source": []
  }
 ],
 "metadata": {
  "kernelspec": {
   "display_name": "Python 3",
   "language": "python",
   "name": "python3"
  },
  "language_info": {
   "codemirror_mode": {
    "name": "ipython",
    "version": 3
   },
   "file_extension": ".py",
   "mimetype": "text/x-python",
   "name": "python",
   "nbconvert_exporter": "python",
   "pygments_lexer": "ipython3",
   "version": "3.6.5"
  }
 },
 "nbformat": 4,
 "nbformat_minor": 2
}
