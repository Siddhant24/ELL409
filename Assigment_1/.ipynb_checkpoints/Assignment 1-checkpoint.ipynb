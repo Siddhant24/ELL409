{
 "cells": [
  {
   "cell_type": "code",
   "execution_count": 5,
   "metadata": {},
   "outputs": [],
   "source": [
    "import numpy as np\n",
    "import pandas as pd\n",
    "import matplotlib as plt\n",
    "\n",
    "import time\n",
    "import random"
   ]
  },
  {
   "cell_type": "code",
   "execution_count": 6,
   "metadata": {},
   "outputs": [
    {
     "name": "stdout",
     "output_type": "stream",
     "text": [
      "Requirement already up-to-date: pip in /anaconda3/lib/python3.6/site-packages (18.0)\n",
      "Requirement already satisfied: python-mnist in /anaconda3/lib/python3.6/site-packages (0.6)\n"
     ]
    }
   ],
   "source": [
    "import sys\n",
    "!{sys.executable} -m pip install --upgrade pip\n",
    "!{sys.executable} -m pip install python-mnist\n",
    "\n"
   ]
  },
  {
   "cell_type": "code",
   "execution_count": 74,
   "metadata": {},
   "outputs": [],
   "source": [
    "#KNN\n",
    "\n",
    "\n",
    "def euclideanDistance (x,y):\n",
    "    if len(x.shape)==1: return np.sqrt(np.sum(np.square(x-y)))\n",
    "    else: return np.sqrt(np.sum((np.square(x - y)), axis = 1))\n",
    "\n",
    "'''\n",
    "def getKNeighbours(testX, X, K, distanceMetric):\n",
    "    dists = distanceMetric(X, testX);\n",
    "    ind = np.argpartition(dists, K)[0:K]\n",
    "    return ind\n",
    "'''\n",
    "\n",
    "def getKNeighbours(testX, X, K, distanceMetric):\n",
    "    #testX is a matrix\n",
    "    dists = np.array([distanceMetric(X, testx) for testx in testX])\n",
    "    ind = np.argpartition(dists, K, axis = 1)[:, 0:K]\n",
    "    return ind\n",
    "\n",
    "\n",
    "def knnClassifier(testX,trainX,trainY, K, distanceMetric):    \n",
    "    indices = getKNeighbours(testX, trainX, K, distanceMetric)\n",
    "    freqs = np.array([trainY[index] for index in indices])\n",
    "    predY = [np.bincount(freq).argmax() for freq in freqs]\n",
    "    return np.array(predY)\n",
    "\n",
    "             "
   ]
  },
  {
   "cell_type": "code",
   "execution_count": 81,
   "metadata": {},
   "outputs": [],
   "source": [
    "#Evaluation Metrics\n",
    "\n",
    "def accuracy(prediction, actual):\n",
    "    return np.sum(prediction==actual)/prediction.shape[0]\n",
    "\n",
    "#How to define with multi-class recall, precision and F1 score?\n",
    "    \n"
   ]
  },
  {
   "cell_type": "code",
   "execution_count": null,
   "metadata": {},
   "outputs": [],
   "source": [
    "\n",
    "#FMNIST Data\n",
    "\n",
    "from mnist import MNIST\n",
    "mndata = MNIST('fashion_data')\n",
    "imagesTrain,labelsTrain = mndata.load_training()\n",
    "imagesTest, labelsTest = mndata.load_testing()\n",
    "\n",
    "\n",
    "X_test = np.array(imagesTest)\n",
    "y_test = np.array(labelsTest)\n",
    "\n",
    "import random\n",
    "n = len(imagesTrain)\n",
    "indices = np.random.permutation(n)\n",
    "\n",
    "trainingIndex = indices[:int(4*n/5)]\n",
    "validationIndex = indices[int(4*n/5):]\n",
    "\n",
    "X_train = np.array(imagesTrain)[trainingIndex]\n",
    "y_train = np.array(labelsTrain)[trainingIndex]\n",
    "\n",
    "X_val = np.array(imagesTrain)[validationIndex]\n",
    "y_val = np.array(labelsTrain)[validationIndex]\n",
    "\n",
    "\n",
    "print(X_train.shape, y_train.shape)\n",
    "print(X_val.shape, y_val.shape)\n",
    "print(X_test.shape, y_test.shape)"
   ]
  },
  {
   "cell_type": "code",
   "execution_count": 80,
   "metadata": {},
   "outputs": [
    {
     "name": "stdout",
     "output_type": "stream",
     "text": [
      "n_samples =  5\n",
      "accuracy:  1.0\n",
      "time taken:  21.380165100097656\n",
      "accuracy:  0.8\n",
      "time taken:  16.710981130599976\n",
      "accuracy:  0.8\n",
      "time taken:  17.796616077423096\n",
      "accuracy:  0.8\n",
      "time taken:  12.47257113456726\n"
     ]
    }
   ],
   "source": [
    "import time\n",
    "import random\n",
    "\n",
    "\n",
    "n_samples = 5\n",
    "print(\"n_samples = \", n_samples)\n",
    "indices = random.sample(range(1, 10000), n_samples)\n",
    "\n",
    "for K in [1000, 100, 25, 5]:\n",
    "    start = time.time()\n",
    "    y_pred = knnClassifier(X_test[indices], X_train, y_train, K, euclideanDistance )\n",
    "    acc = accuracy(y_pred, y_test[indices])\n",
    "    end = time.time()\n",
    "    #print(\"K: \", K)\n",
    "    print(\"accuracy: \", acc)\n",
    "    print(\"time taken: \", end-start)\n"
   ]
  },
  {
   "cell_type": "code",
   "execution_count": null,
   "metadata": {},
   "outputs": [],
   "source": [
    "medicalData = pd.read_csv('Medical_data.csv')\n",
    "#print(data.info())\n",
    "print(\"GROUPED Mean\")\n",
    "print(medicalData[['Health', 'TEST1', 'TEST2', 'TEST3']].groupby('Health').mean())\n",
    "print(\"GROUPED Standard Deviation\")\n",
    "print(medicalData[['Health', 'TEST1', 'TEST2', 'TEST3']].groupby('Health').std())\n",
    "\n",
    "medicalData['Health'] = medicalData['Health'].map({'HEALTHY': 0, 'MEDICATION': 1, 'SURGERY': 2}).astype(int)\n",
    "# Healthy == 0\n",
    "# Medication == 1\n",
    "# Surgery == 2\n",
    "\n"
   ]
  },
  {
   "cell_type": "code",
   "execution_count": 109,
   "metadata": {},
   "outputs": [],
   "source": [
    "X = data.values[::, 1::]\n",
    "y = data.values[::, 0]"
   ]
  },
  {
   "cell_type": "code",
   "execution_count": 95,
   "metadata": {},
   "outputs": [
    {
     "data": {
      "text/html": [
       "<div>\n",
       "<style scoped>\n",
       "    .dataframe tbody tr th:only-of-type {\n",
       "        vertical-align: middle;\n",
       "    }\n",
       "\n",
       "    .dataframe tbody tr th {\n",
       "        vertical-align: top;\n",
       "    }\n",
       "\n",
       "    .dataframe thead th {\n",
       "        text-align: right;\n",
       "    }\n",
       "</style>\n",
       "<table border=\"1\" class=\"dataframe\">\n",
       "  <thead>\n",
       "    <tr style=\"text-align: right;\">\n",
       "      <th></th>\n",
       "      <th>Health</th>\n",
       "      <th>TEST1</th>\n",
       "      <th>TEST2</th>\n",
       "      <th>TEST3</th>\n",
       "    </tr>\n",
       "  </thead>\n",
       "  <tbody>\n",
       "    <tr>\n",
       "      <th>0</th>\n",
       "      <td>0</td>\n",
       "      <td>1.631516</td>\n",
       "      <td>-0.264447</td>\n",
       "      <td>2.534567</td>\n",
       "    </tr>\n",
       "    <tr>\n",
       "      <th>1</th>\n",
       "      <td>2</td>\n",
       "      <td>0.153951</td>\n",
       "      <td>1.419533</td>\n",
       "      <td>1.333121</td>\n",
       "    </tr>\n",
       "    <tr>\n",
       "      <th>2</th>\n",
       "      <td>0</td>\n",
       "      <td>2.021729</td>\n",
       "      <td>0.262046</td>\n",
       "      <td>2.879972</td>\n",
       "    </tr>\n",
       "    <tr>\n",
       "      <th>3</th>\n",
       "      <td>2</td>\n",
       "      <td>0.190412</td>\n",
       "      <td>2.561025</td>\n",
       "      <td>1.142087</td>\n",
       "    </tr>\n",
       "    <tr>\n",
       "      <th>4</th>\n",
       "      <td>0</td>\n",
       "      <td>0.080549</td>\n",
       "      <td>0.338731</td>\n",
       "      <td>3.454251</td>\n",
       "    </tr>\n",
       "  </tbody>\n",
       "</table>\n",
       "</div>"
      ],
      "text/plain": [
       "   Health     TEST1     TEST2     TEST3\n",
       "0       0  1.631516 -0.264447  2.534567\n",
       "1       2  0.153951  1.419533  1.333121\n",
       "2       0  2.021729  0.262046  2.879972\n",
       "3       2  0.190412  2.561025  1.142087\n",
       "4       0  0.080549  0.338731  3.454251"
      ]
     },
     "execution_count": 95,
     "metadata": {},
     "output_type": "execute_result"
    }
   ],
   "source": [
    "data.head()"
   ]
  },
  {
   "cell_type": "code",
   "execution_count": 102,
   "metadata": {},
   "outputs": [
    {
     "name": "stdout",
     "output_type": "stream",
     "text": [
      "               TEST1     TEST2     TEST3\n",
      "Health                                  \n",
      "HEALTHY     1.941325  0.010299  1.867746\n",
      "MEDICATION  1.386771  1.601348  0.001291\n",
      "SURGERY     0.003511  1.725762  1.494196\n",
      "               TEST1     TEST2     TEST3\n",
      "Health                                  \n",
      "HEALTHY     0.997133  0.224879  0.910033\n",
      "MEDICATION  1.201548  1.267593  0.225420\n",
      "SURGERY     0.229398  1.308038  1.370244\n"
     ]
    }
   ],
   "source": []
  },
  {
   "cell_type": "code",
   "execution_count": null,
   "metadata": {},
   "outputs": [],
   "source": []
  }
 ],
 "metadata": {
  "kernelspec": {
   "display_name": "Python 3",
   "language": "python",
   "name": "python3"
  },
  "language_info": {
   "codemirror_mode": {
    "name": "ipython",
    "version": 3
   },
   "file_extension": ".py",
   "mimetype": "text/x-python",
   "name": "python",
   "nbconvert_exporter": "python",
   "pygments_lexer": "ipython3",
   "version": "3.6.5"
  }
 },
 "nbformat": 4,
 "nbformat_minor": 2
}
