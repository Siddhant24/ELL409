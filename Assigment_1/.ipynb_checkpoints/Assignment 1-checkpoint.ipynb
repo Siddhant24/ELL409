{
 "cells": [
  {
   "cell_type": "code",
   "execution_count": 1,
   "metadata": {},
   "outputs": [],
   "source": [
    "import numpy as np\n",
    "import pandas as pd\n",
    "import matplotlib as plt\n",
    "\n",
    "import time\n",
    "import random\n",
    "RANDOM_SEED = 42\n",
    "\n"
   ]
  },
  {
   "cell_type": "code",
   "execution_count": 2,
   "metadata": {},
   "outputs": [
    {
     "name": "stdout",
     "output_type": "stream",
     "text": [
      "/usr/bin/python3: No module named pip3\n",
      "/usr/bin/python3: No module named pip3\n"
     ]
    }
   ],
   "source": [
    "# import sys\n",
    "# !{sys.executable} -m pip3 install --upgrade pip\n",
    "# !{sys.executable} -m pip3 install python-mnist\n",
    "\n"
   ]
  },
  {
   "cell_type": "code",
   "execution_count": 3,
   "metadata": {},
   "outputs": [],
   "source": [
    "#KNN\n",
    "\n",
    "def euclideanDistance (x,y):\n",
    "    if len(x.shape)==1: return np.sqrt(np.sum(np.square(x-y)))\n",
    "    else: return np.sqrt(np.sum((np.square(x - y)), axis = 1))\n",
    "\n",
    "'''\n",
    "def getKNeighbours(testX, X, K, distanceMetric):\n",
    "    dists = distanceMetric(X, testX);\n",
    "    ind = np.argpartition(dists, K)[0:K]\n",
    "    return ind\n",
    "'''\n",
    "\n",
    "def getKNeighbours(testX, X, K, distanceMetric):\n",
    "    #testX is a matrix\n",
    "    dists = np.array([distanceMetric(X, testx) for testx in testX])\n",
    "    ind = np.argpartition(dists, K, axis = 1)[:, 0:K]\n",
    "    return ind\n",
    "\n",
    "\n",
    "def knnClassifier(testX,trainX,trainY, K, distanceMetric):    \n",
    "    indices = getKNeighbours(testX, trainX, K, distanceMetric)\n",
    "    freqs = np.array([trainY[index] for index in indices])\n",
    "    predY = [np.bincount(freq).argmax() for freq in freqs]\n",
    "    return np.array(predY)\n",
    "\n",
    "             "
   ]
  },
  {
   "cell_type": "code",
   "execution_count": 4,
   "metadata": {},
   "outputs": [],
   "source": [
    "#Bayes\n",
    "    \n",
    "\n",
    "def parzenWindowEstimation_gaussian(testX, trainX, h):\n",
    "    #each vector is d-dimensional\n",
    "    #testX: (n,d), trainX: (m,d)\n",
    "    d = trainX.shape[1]\n",
    "\n",
    "    estimates = [np.mean(np.exp(-np.sum(np.square((testx - trainX)), axis = 1)/(2*(h*h)))/(np.float_power(np.sqrt(2*np.pi), d)*h)) for testx in testX]\n",
    "    return np.array(estimates)\n",
    "    \n",
    "def bayesClassifier(testX, trainX, trainY, estimator, h = 1):\n",
    "    A, priors = np.unique(trainY, return_counts = True)\n",
    "    q = np.array([priors[idx]*parzenWindowEstimation_gaussian(testX, trainX[np.where(trainY == A[idx])], h) for idx in range(len(A))])\n",
    "    return np.array([A[idx] for idx in np.argmax(q, axis = 0)])\n",
    "    \n",
    "    \n",
    "    \n"
   ]
  },
  {
   "cell_type": "code",
   "execution_count": 5,
   "metadata": {},
   "outputs": [],
   "source": [
    "#Evaluation Metrics\n",
    "\n",
    "def accuracy(prediction, actual):\n",
    "    return np.sum(prediction==actual)/prediction.shape[0]\n",
    "\n",
    "#How to define with multi-class recall, precision and F1 score?\n",
    "    \n"
   ]
  },
  {
   "cell_type": "code",
   "execution_count": 6,
   "metadata": {},
   "outputs": [],
   "source": [
    "#Utility Functions\n"
   ]
  },
  {
   "cell_type": "code",
   "execution_count": 7,
   "metadata": {},
   "outputs": [
    {
     "name": "stdout",
     "output_type": "stream",
     "text": [
      "Train, Validation, Test\n",
      "(48000, 784) (48000,)\n",
      "(12000, 784) (12000,)\n",
      "(10000, 784) (10000,)\n"
     ]
    }
   ],
   "source": [
    "\n",
    "#FMNIST Data\n",
    "def prepareFMNISTData(scale = 0):\n",
    "    from mnist import MNIST\n",
    "    mndata = MNIST('fashion_data')\n",
    "    imagesTrain,labelsTrain = mndata.load_training()\n",
    "    imagesTest, labelsTest = mndata.load_testing()\n",
    "\n",
    "    X_test = np.array(imagesTest)\n",
    "    y_test = np.array(labelsTest)\n",
    "\n",
    "    import random\n",
    "    n = len(imagesTrain)\n",
    "    np.random.seed(RANDOM_SEED)\n",
    "    indices = np.random.permutation(n)\n",
    "\n",
    "    trainingIndex = indices[:int(4*n/5)]\n",
    "    validationIndex = indices[int(4*n/5):]\n",
    "\n",
    "    X_train = np.array(imagesTrain)[trainingIndex]\n",
    "    y_train = np.array(labelsTrain)[trainingIndex]\n",
    "    \n",
    "    X_val = np.array(imagesTrain)[validationIndex]\n",
    "    y_val = np.array(labelsTrain)[validationIndex]\n",
    "    \n",
    "    if(scale == 1):\n",
    "        mean = np.mean(X_train, axis = 0)\n",
    "        X_train = X_train - mean\n",
    "        X_test = X_test - mean\n",
    "        X_val = X_val - mean\n",
    "        \n",
    "        variance = np.var(X_train, axis = 0)\n",
    "        X_train = X_train/np.sqrt(variance)\n",
    "        X_test = X_test/np.sqrt(variance)\n",
    "        X_val = X_val/np.sqrt(variance)\n",
    "\n",
    "\n",
    "    return (X_train, y_train, X_val, y_val, X_test, y_test) \n",
    "\n",
    "(X_train, y_train, X_val, y_val, X_test, y_test) = prepareFMNISTData();\n",
    "\n",
    "\n",
    "print(\"Train, Validation, Test\")\n",
    "print(X_train.shape, y_train.shape)\n",
    "print(X_val.shape, y_val.shape)\n",
    "print(X_test.shape, y_test.shape)\n"
   ]
  },
  {
   "cell_type": "code",
   "execution_count": 8,
   "metadata": {},
   "outputs": [
    {
     "name": "stdout",
     "output_type": "stream",
     "text": [
      "n_samples =  5\n",
      "accuracy:  1.0\n",
      "time taken:  1.351729393005371\n",
      "accuracy:  1.0\n",
      "time taken:  1.2959070205688477\n",
      "accuracy:  1.0\n",
      "time taken:  1.2741012573242188\n",
      "accuracy:  1.0\n",
      "time taken:  1.2794420719146729\n"
     ]
    }
   ],
   "source": [
    "(X_train, y_train, X_val, y_val, X_test, y_test) = prepareFMNISTData();\n",
    "n_samples = 5\n",
    "print(\"n_samples = \", n_samples)\n",
    "indices = random.sample(range(0, 10000), n_samples)\n",
    "\n",
    "for K in [1000, 100, 25, 5]:\n",
    "    start = time.time()\n",
    "    y_pred = knnClassifier(X_test[indices], X_train, y_train, K, euclideanDistance )\n",
    "    acc = accuracy(y_pred, y_test[indices])\n",
    "    end = time.time()\n",
    "    #print(\"K: \", K)\n",
    "    print(\"accuracy: \", acc)\n",
    "    print(\"time taken: \", end-start)\n"
   ]
  },
  {
   "cell_type": "code",
   "execution_count": 9,
   "metadata": {},
   "outputs": [
    {
     "name": "stdout",
     "output_type": "stream",
     "text": [
      "\n",
      "Train, Validation, Test\n",
      "(2000, 3) (2000,)\n",
      "(500, 3) (500,)\n",
      "(500, 3) (500,)\n"
     ]
    }
   ],
   "source": [
    "##MEDICAL DATA\n",
    "def prepareMedicalData(scale = 0):\n",
    "    medicalData = pd.read_csv('Medical_data.csv')\n",
    "    \n",
    "    '''\n",
    "    print(\"GROUPED Mean\")\n",
    "    print(medicalData[['Health', 'TEST1', 'TEST2', 'TEST3']].groupby('Health').mean())\n",
    "    print(\"GROUPED Standard Deviation\")\n",
    "    print(medicalData[['Health', 'TEST1', 'TEST2', 'TEST3']].groupby('Health').std())\n",
    "    '''\n",
    "\n",
    "    medicalData['Health'] = medicalData['Health'].map({'HEALTHY': 0, 'MEDICATION': 1, 'SURGERY': 2}).astype(int)\n",
    "# Healthy == 0\n",
    "# Medication == 1\n",
    "# Surgery == 2\n",
    "    X = medicalData.values[::, 1::]\n",
    "    y = medicalData.values[::, 0].astype(int)\n",
    "\n",
    "    n = X.shape[0]\n",
    "    np.random.seed(RANDOM_SEED)\n",
    "    indices = np.random.permutation(n)\n",
    "    trainingIndex = indices[:int(4*n/6)]\n",
    "    validationIndex = indices[int(4*n/6): int(5*n/6)]\n",
    "    testIndex = indices[int(5*n/6):]\n",
    "\n",
    "    X_train = X[trainingIndex]\n",
    "    y_train = y[trainingIndex]\n",
    "\n",
    "    if(scale == 1):\n",
    "        mean = np.mean(X_train, axis = 0)\n",
    "        X = X - mean\n",
    "        variance = np.var(X_train, axis = 0)\n",
    "        X = X/np.sqrt(variance)\n",
    "        \n",
    "        X_train = X[trainingIndex]\n",
    "        y_train = y[trainingIndex]\n",
    "        \n",
    "    \n",
    "    X_val = X[validationIndex]\n",
    "    y_val = y[validationIndex]\n",
    "\n",
    "    X_test = X[testIndex]\n",
    "    y_test = y[testIndex]\n",
    "\n",
    "    return (X_train, y_train, X_val, y_val, X_test, y_test)\n",
    "\n",
    "(X_train, y_train, X_val, y_val, X_test, y_test) = prepareMedicalData()\n",
    "\n",
    "\n",
    "print()\n",
    "print(\"Train, Validation, Test\")\n",
    "print(X_train.shape, y_train.shape)\n",
    "print(X_val.shape, y_val.shape)\n",
    "print(X_test.shape, y_test.shape)\n",
    "\n",
    "\n"
   ]
  },
  {
   "cell_type": "code",
   "execution_count": 10,
   "metadata": {},
   "outputs": [
    {
     "name": "stdout",
     "output_type": "stream",
     "text": [
      "K:  1\n",
      "accuracy_validation:  0.886\n",
      "K:  3\n",
      "accuracy_validation:  0.874\n",
      "K:  10\n",
      "accuracy_validation:  0.868\n",
      "K:  30\n",
      "accuracy_validation:  0.87\n",
      "K:  100\n",
      "accuracy_validation:  0.856\n",
      "K:  300\n",
      "accuracy_validation:  0.796\n",
      "\n",
      "\n",
      "\n",
      "\n",
      "K:  1\n",
      "accuracy_test:  0.88\n"
     ]
    }
   ],
   "source": [
    "#KNN\n",
    "(X_train, y_train, X_val, y_val, X_test, y_test) = prepareMedicalData(0)\n",
    "for K in [1, 3, 10, 30, 100, 300]:\n",
    "    start = time.time()\n",
    "    y_pred = knnClassifier(X_val, X_train, y_train, K, euclideanDistance )\n",
    "    acc = accuracy(y_pred, y_val)\n",
    "    end = time.time()\n",
    "    print(\"K: \", K)\n",
    "    print(\"accuracy_validation: \", acc)\n",
    "    #print(\"time taken: \", end-start)\n",
    "\n",
    "print(\"\\n\\n\\n\")\n",
    "#Accuracy peaks for K=1\n",
    "K = 1\n",
    "y_pred = knnClassifier(X_test, X_train, y_train, K, euclideanDistance )\n",
    "acc = accuracy(y_pred, y_test)\n",
    "print(\"K: \", K)\n",
    "print(\"accuracy_test: \", acc)\n",
    "\n"
   ]
  },
  {
   "cell_type": "code",
   "execution_count": 11,
   "metadata": {},
   "outputs": [
    {
     "name": "stdout",
     "output_type": "stream",
     "text": [
      "K:  1\n",
      "accuracy_validation:  0.882\n",
      "K:  3\n",
      "accuracy_validation:  0.87\n",
      "K:  10\n",
      "accuracy_validation:  0.87\n",
      "K:  30\n",
      "accuracy_validation:  0.874\n",
      "K:  100\n",
      "accuracy_validation:  0.858\n",
      "K:  300\n",
      "accuracy_validation:  0.802\n",
      "\n",
      "\n",
      "\n",
      "\n",
      "K:  1\n",
      "accuracy_test:  0.878\n"
     ]
    }
   ],
   "source": [
    "#Normalized KNN\n",
    "(X_train, y_train, X_val, y_val, X_test, y_test) = prepareMedicalData(1)\n",
    "for K in [1, 3, 10, 30, 100, 300]:\n",
    "    start = time.time()\n",
    "    y_pred = knnClassifier(X_val, X_train, y_train, K, euclideanDistance )\n",
    "    acc = accuracy(y_pred, y_val)\n",
    "    end = time.time()\n",
    "    print(\"K: \", K)\n",
    "    print(\"accuracy_validation: \", acc)\n",
    "    #print(\"time taken: \", end-start)\n",
    "\n",
    "print(\"\\n\\n\\n\")\n",
    "#Accuracy peaks for K=1\n",
    "K = 1\n",
    "y_pred = knnClassifier(X_test, X_train, y_train, K, euclideanDistance )\n",
    "acc = accuracy(y_pred, y_test)\n",
    "print(\"K: \", K)\n",
    "print(\"accuracy_test: \", acc)\n",
    "\n",
    "\n"
   ]
  },
  {
   "cell_type": "code",
   "execution_count": 12,
   "metadata": {},
   "outputs": [
    {
     "name": "stdout",
     "output_type": "stream",
     "text": [
      "H:  0.001\n",
      "accuracy_validation:  0.366\n",
      "time taken:  0.08115124702453613\n",
      "H:  0.003\n",
      "accuracy_validation:  0.662\n",
      "time taken:  0.08443307876586914\n",
      "H:  0.01\n",
      "accuracy_validation:  0.874\n",
      "time taken:  0.08608150482177734\n",
      "H:  0.03\n",
      "accuracy_validation:  0.884\n",
      "time taken:  0.08713150024414062\n",
      "H:  0.1\n",
      "accuracy_validation:  0.89\n",
      "time taken:  0.09296679496765137\n",
      "H:  0.3\n",
      "accuracy_validation:  0.882\n",
      "time taken:  0.08713722229003906\n",
      "H:  1\n",
      "accuracy_validation:  0.796\n",
      "time taken:  0.08329319953918457\n",
      "H:  3\n",
      "accuracy_validation:  0.716\n",
      "time taken:  0.08576083183288574\n",
      "H:  10\n",
      "accuracy_validation:  0.322\n",
      "time taken:  0.08522367477416992\n",
      "H:  30\n",
      "accuracy_validation:  0.322\n",
      "time taken:  0.08565092086791992\n",
      "H:  100\n",
      "accuracy_validation:  0.322\n",
      "time taken:  0.08275651931762695\n",
      "H:  300\n",
      "accuracy_validation:  0.322\n",
      "time taken:  0.0810847282409668\n",
      "\n",
      "\n",
      "\n",
      "\n",
      "H:  0.1\n",
      "accuracy_test:  0.882\n"
     ]
    }
   ],
   "source": [
    "#ParzenWindow Bayes\n",
    "(X_train, y_train, X_val, y_val, X_test, y_test) = prepareMedicalData(1)\n",
    "for H in [0.001, 0.003, 0.01, 0.03, 0.1, 0.3, 1, 3, 10, 30, 100, 300]:\n",
    "    start = time.time()\n",
    "    y_pred = bayesClassifier(X_val, X_train, y_train, parzenWindowEstimation_gaussian, H)\n",
    "    acc = accuracy(y_pred, y_val)\n",
    "    end = time.time()\n",
    "    print(\"H: \", H)\n",
    "    print(\"accuracy_validation: \", acc)\n",
    "    print(\"time taken: \", end-start)\n",
    "\n",
    "print(\"\\n\\n\\n\")\n",
    "#Accuracy peaks for H = 0.1\n",
    "H = 0.1\n",
    "y_pred = bayesClassifier(X_test, X_train, y_train, parzenWindowEstimation_gaussian, H)\n",
    "acc = accuracy(y_pred, y_test)\n",
    "print(\"H: \", H)\n",
    "print(\"accuracy_test: \", acc)\n",
    "\n",
    "\n"
   ]
  },
  {
   "cell_type": "code",
   "execution_count": 13,
   "metadata": {},
   "outputs": [
    {
     "name": "stdout",
     "output_type": "stream",
     "text": [
      "Train, Validation, Test\n",
      "(873, 5) (873,)\n",
      "(218, 5) (218,)\n",
      "(219, 5) (219,)\n"
     ]
    }
   ],
   "source": [
    "##RAILWAY BOOKING DATA\n",
    "\n",
    "#membercount from 0 to 10, add 1\n",
    "#preferredClass : FIRST_AC, NO_PREF, SECOND_AC, THIRD_AC\n",
    "#Age is age category 0 to 8\n",
    "\n",
    "def prepareRailwayData(scale = 0):\n",
    "    railwayData = pd.read_csv('railwayBookingList.csv')\n",
    "\n",
    "    railwayData['sex'] = railwayData['sex'].map({'female': 1, 'male': 0})\n",
    "    railwayData.fillna(0, inplace = True)\n",
    "    railwayData['memberCount'] = railwayData['memberCount'] + 1\n",
    "    railwayData['preferredClass'] = railwayData['preferredClass'].map({'FIRST_AC': 3, 'SECOND_AC': 2, 'THIRD_AC': 1, 'NO_PREF': 0})\n",
    "\n",
    "    X = railwayData.values[::, 2::]\n",
    "    y = railwayData.values[::, 1].astype(int)\n",
    "                \n",
    "        \n",
    "    n = X.shape[0]\n",
    "    np.random.seed(RANDOM_SEED)\n",
    "    indices = np.random.permutation(n)\n",
    "    trainingIndex = indices[:int(4*n/6)]\n",
    "    validationIndex = indices[int(4*n/6): int(5*n/6)]\n",
    "    testIndex = indices[int(5*n/6):]\n",
    "\n",
    "    X_train = X[trainingIndex]\n",
    "    y_train = y[trainingIndex]\n",
    "\n",
    "    if(scale == 1):\n",
    "        mean = np.mean(X_train, axis = 0)\n",
    "        X = X - mean\n",
    "        variance = np.var(X_train, axis = 0)\n",
    "        X = X/np.sqrt(variance)\n",
    "        \n",
    "        X_train = X[trainingIndex]\n",
    "        y_train = y[trainingIndex]\n",
    "\n",
    "            \n",
    "    X_val = X[validationIndex]\n",
    "    y_val = y[validationIndex]\n",
    "    \n",
    "    X_test = X[testIndex]\n",
    "    y_test = y[testIndex]\n",
    "\n",
    "    return (X_train, y_train, X_val, y_val, X_test, y_test)\n",
    "\n",
    "\n",
    "(X_train, y_train, X_val, y_val, X_test, y_test) = prepareRailwayData()\n",
    "#print(railwayData.head())\n",
    "#print()\n",
    "#print(\"GROUPED Mean\")\n",
    "#print(railwayData[['boarded', 'budget', 'preferredClass', 'memberCount', 'sex', 'age']].groupby('sex').mean())\n",
    "#print()\n",
    "print(\"Train, Validation, Test\")\n",
    "print(X_train.shape, y_train.shape)\n",
    "print(X_val.shape, y_val.shape)\n",
    "print(X_test.shape, y_test.shape)\n",
    "\n"
   ]
  },
  {
   "cell_type": "code",
   "execution_count": 14,
   "metadata": {},
   "outputs": [
    {
     "name": "stdout",
     "output_type": "stream",
     "text": [
      "K:  1\n",
      "accuracy_validation:  0.7155963302752294\n",
      "K:  3\n",
      "accuracy_validation:  0.7844036697247706\n",
      "K:  10\n",
      "accuracy_validation:  0.7477064220183486\n",
      "K:  30\n",
      "accuracy_validation:  0.7385321100917431\n",
      "K:  100\n",
      "accuracy_validation:  0.6788990825688074\n",
      "K:  300\n",
      "accuracy_validation:  0.6972477064220184\n",
      "\n",
      "\n",
      "\n",
      "\n",
      "K:  3\n",
      "accuracy_test:  0.6940639269406392\n"
     ]
    }
   ],
   "source": [
    "\n",
    "#Unnormalized KNN with Euclidean Distance\n",
    "(X_train, y_train, X_val, y_val, X_test, y_test) = prepareRailwayData(scale = 0)\n",
    "for K in [1, 3, 10, 30, 100, 300]:\n",
    "    start = time.time()\n",
    "    y_pred = knnClassifier(X_val, X_train, y_train, K, euclideanDistance )\n",
    "    acc = accuracy(y_pred, y_val)\n",
    "    end = time.time()\n",
    "    print(\"K: \", K)\n",
    "    print(\"accuracy_validation: \", acc)\n",
    "    #print(\"time taken: \", end-start)\n",
    "\n",
    "print(\"\\n\\n\\n\")\n",
    "#Accuracy peaks for K=3\n",
    "K = 3\n",
    "y_pred = knnClassifier(X_test, X_train, y_train, K, euclideanDistance )\n",
    "acc = accuracy(y_pred, y_test)\n",
    "print(\"K: \", K)\n",
    "print(\"accuracy_test: \", acc)\n",
    "\n"
   ]
  },
  {
   "cell_type": "code",
   "execution_count": 15,
   "metadata": {},
   "outputs": [
    {
     "name": "stdout",
     "output_type": "stream",
     "text": [
      "K:  1\n",
      "accuracy_validation:  0.7155963302752294\n",
      "K:  3\n",
      "accuracy_validation:  0.7889908256880734\n",
      "K:  10\n",
      "accuracy_validation:  0.7889908256880734\n",
      "K:  30\n",
      "accuracy_validation:  0.7935779816513762\n",
      "K:  100\n",
      "accuracy_validation:  0.7752293577981652\n",
      "K:  300\n",
      "accuracy_validation:  0.8027522935779816\n",
      "\n",
      "\n",
      "\n",
      "\n",
      "K:  300\n",
      "accuracy_test:  0.726027397260274\n"
     ]
    }
   ],
   "source": [
    "\n",
    "#Normalized KNN with Euclidean Distance\n",
    "(X_train, y_train, X_val, y_val, X_test, y_test) = prepareRailwayData(scale = 1)\n",
    "for K in [1, 3, 10, 30, 100, 300]:\n",
    "    start = time.time()\n",
    "    y_pred = knnClassifier(X_val, X_train, y_train, K, euclideanDistance )\n",
    "    acc = accuracy(y_pred, y_val)\n",
    "    end = time.time()\n",
    "    print(\"K: \", K)\n",
    "    print(\"accuracy_validation: \", acc)\n",
    "    #print(\"time taken: \", end-start)\n",
    "\n",
    "print(\"\\n\\n\\n\")\n",
    "#Accuracy peaks for K=30\n",
    "K = 300\n",
    "y_pred = knnClassifier(X_test, X_train, y_train, K, euclideanDistance)\n",
    "acc = accuracy(y_pred, y_test)\n",
    "print(\"K: \", K)\n",
    "print(\"accuracy_test: \", acc)\n",
    "\n",
    "\n",
    "\n"
   ]
  },
  {
   "cell_type": "code",
   "execution_count": 16,
   "metadata": {},
   "outputs": [
    {
     "name": "stdout",
     "output_type": "stream",
     "text": [
      "4.65 µs ± 39.5 ns per loop (mean ± std. dev. of 7 runs, 100000 loops each)\n",
      "4.58 µs ± 28.1 ns per loop (mean ± std. dev. of 7 runs, 100000 loops each)\n"
     ]
    }
   ],
   "source": [
    "a = np.random.rand(10000)\n",
    "%timeit np.square(a)\n",
    "%timeit np.multiply(a.transpose(), a)"
   ]
  },
  {
   "cell_type": "code",
   "execution_count": null,
   "metadata": {},
   "outputs": [],
   "source": []
  },
  {
   "cell_type": "code",
   "execution_count": null,
   "metadata": {},
   "outputs": [],
   "source": []
  },
  {
   "cell_type": "code",
   "execution_count": null,
   "metadata": {},
   "outputs": [],
   "source": [
    "a = np.array([1,2,3,4])\n",
    "for idx, i in a:\n",
    "    print(i)"
   ]
  },
  {
   "cell_type": "code",
   "execution_count": null,
   "metadata": {},
   "outputs": [],
   "source": []
  }
 ],
 "metadata": {
  "kernelspec": {
   "display_name": "Python 3",
   "language": "python",
   "name": "python3"
  },
  "language_info": {
   "codemirror_mode": {
    "name": "ipython",
    "version": 3
   },
   "file_extension": ".py",
   "mimetype": "text/x-python",
   "name": "python",
   "nbconvert_exporter": "python",
   "pygments_lexer": "ipython3",
   "version": "3.6.5"
  }
 },
 "nbformat": 4,
 "nbformat_minor": 2
}
