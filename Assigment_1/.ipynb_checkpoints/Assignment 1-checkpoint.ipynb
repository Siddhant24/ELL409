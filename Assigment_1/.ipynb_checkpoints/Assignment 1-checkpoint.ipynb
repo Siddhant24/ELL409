{
 "cells": [
  {
   "cell_type": "code",
   "execution_count": 5,
   "metadata": {},
   "outputs": [],
   "source": [
    "import numpy as np\n",
    "import pandas as pd\n",
    "import matplotlib as plt"
   ]
  },
  {
   "cell_type": "code",
   "execution_count": 6,
   "metadata": {},
   "outputs": [
    {
     "name": "stdout",
     "output_type": "stream",
     "text": [
      "Requirement already up-to-date: pip in /anaconda3/lib/python3.6/site-packages (18.0)\n",
      "Requirement already satisfied: python-mnist in /anaconda3/lib/python3.6/site-packages (0.6)\n"
     ]
    }
   ],
   "source": [
    "import sys\n",
    "!{sys.executable} -m pip install --upgrade pip\n",
    "!{sys.executable} -m pip install python-mnist\n",
    "\n"
   ]
  },
  {
   "cell_type": "code",
   "execution_count": 7,
   "metadata": {},
   "outputs": [],
   "source": [
    "from mnist import MNIST\n",
    "mndata = MNIST('fashion_data')\n",
    "imagesTrain,labelsTrain = mndata.load_training()\n",
    "imagesTest, labelsTest = mndata.load_testing()\n"
   ]
  },
  {
   "cell_type": "code",
   "execution_count": 8,
   "metadata": {},
   "outputs": [
    {
     "name": "stdout",
     "output_type": "stream",
     "text": [
      "(60000, 784) (60000,)\n",
      "(10000, 784) (10000,)\n"
     ]
    }
   ],
   "source": [
    "X_train = np.array(imagesTrain)\n",
    "X_test = np.array(imagesTest)\n",
    "y_train = np.array(labelsTrain)\n",
    "y_test = np.array(labelsTest)\n",
    "\n",
    "print(X_train.shape, y_train.shape)\n",
    "print(X_test.shape, y_test.shape)"
   ]
  },
  {
   "cell_type": "code",
   "execution_count": 51,
   "metadata": {},
   "outputs": [],
   "source": [
    "#KNN\n",
    "def euclideanDistance (x,y):\n",
    "    if len(x.shape)==1: return np.sqrt(np.sum(np.square(x-y)))\n",
    "    else: return np.sqrt(np.sum((np.square(x - y)), axis = 1))\n",
    "\n",
    "def getKNeighbours(testX, X, K, distanceMetric):\n",
    "    dists = euclideanDistance(X, testX);\n",
    "    ind = np.argpartition(dists, K)[0:K]\n",
    "    return ind\n",
    "\n",
    "\n",
    "def knnClassifier(testX,trainX,trainY, K, distanceMetric):\n",
    "    \n",
    "    freqs = [trainY[getKNeighbours(x,trainX,K, distanceMetric)] for x in testX] \n",
    "    predY = [np.bincount(freq).argmax() for freq in freqs]\n",
    "    return np.array(predY)\n",
    "\n",
    "             \n",
    "def accuracy(prediction, actual):\n",
    "    return np.sum(prediction==actual)/prediction.shape[0]\n",
    "    \n",
    "\n"
   ]
  },
  {
   "cell_type": "code",
   "execution_count": null,
   "metadata": {},
   "outputs": [
    {
     "name": "stdout",
     "output_type": "stream",
     "text": [
      "n_samples =  20\n",
      "K:  1\n",
      "accuracy:  0.9\n",
      "time taken:  44.79259896278381\n",
      "K:  5\n",
      "accuracy:  0.9\n",
      "time taken:  56.75399088859558\n"
     ]
    }
   ],
   "source": [
    "import time\n",
    "import random\n",
    "\n",
    "\n",
    "n_samples = 20\n",
    "print(\"n_samples = \", n_samples)\n",
    "indices = random.sample(range(1, 10000), n_samples)\n",
    "\n",
    "K = 1\n",
    "start = time.time()\n",
    "y_pred = knnClassifier(X_test[indices], X_train, y_train, K, euclideanDistance )\n",
    "acc = accuracy(y_pred, y_test[indices])\n",
    "end = time.time()\n",
    "print(\"K: \", K)\n",
    "print(\"accuracy: \", acc)\n",
    "print(\"time taken: \", end-start)\n",
    "\n",
    "K = 5\n",
    "start = time.time()\n",
    "y_pred = knnClassifier(X_test[indices], X_train, y_train, K, euclideanDistance )\n",
    "acc = accuracy(y_pred, y_test[indices])\n",
    "end = time.time()\n",
    "print(\"K: \", K)\n",
    "print(\"accuracy: \", acc)\n",
    "print(\"time taken: \", end-start)\n",
    "\n",
    "\n",
    "K = 25\n",
    "start = time.time()\n",
    "y_pred = knnClassifier(X_test[indices], X_train, y_train, K, euclideanDistance )\n",
    "acc = accuracy(y_pred, y_test[indices])\n",
    "end = time.time()\n",
    "print(\"K: \", K)\n",
    "print(\"accuracy: \", acc)\n",
    "print(\"time taken: \", end-start)\n",
    "\n",
    "\n",
    "K = 125\n",
    "start = time.time()\n",
    "y_pred = knnClassifier(X_test[indices], X_train, y_train, K, euclideanDistance )\n",
    "acc = accuracy(y_pred, y_test[indices])\n",
    "end = time.time()\n",
    "print(\"K: \", K)\n",
    "print(\"accuracy: \", acc)\n",
    "print(\"time taken: \", end-start)\n",
    "\n"
   ]
  },
  {
   "cell_type": "code",
   "execution_count": 43,
   "metadata": {},
   "outputs": [
    {
     "data": {
      "text/plain": [
       "(60000,)"
      ]
     },
     "execution_count": 43,
     "metadata": {},
     "output_type": "execute_result"
    }
   ],
   "source": [
    "\n",
    "dists = euclideanDistance(X_train, X_test[0])\n",
    "dists.shape\n",
    "\n",
    "\n"
   ]
  },
  {
   "cell_type": "code",
   "execution_count": 50,
   "metadata": {},
   "outputs": [
    {
     "data": {
      "text/plain": [
       "array([18352, 53939, 52468, 18094, 15081])"
      ]
     },
     "execution_count": 50,
     "metadata": {},
     "output_type": "execute_result"
    }
   ],
   "source": [
    "np.argpartition(dists, 5)[0:5]"
   ]
  },
  {
   "cell_type": "code",
   "execution_count": 35,
   "metadata": {},
   "outputs": [
    {
     "data": {
      "text/plain": [
       "2"
      ]
     },
     "execution_count": 35,
     "metadata": {},
     "output_type": "execute_result"
    }
   ],
   "source": [
    "dists = euclideanDistance(X, testX);"
   ]
  },
  {
   "cell_type": "code",
   "execution_count": null,
   "metadata": {},
   "outputs": [],
   "source": []
  }
 ],
 "metadata": {
  "kernelspec": {
   "display_name": "Python 3",
   "language": "python",
   "name": "python3"
  },
  "language_info": {
   "codemirror_mode": {
    "name": "ipython",
    "version": 3
   },
   "file_extension": ".py",
   "mimetype": "text/x-python",
   "name": "python",
   "nbconvert_exporter": "python",
   "pygments_lexer": "ipython3",
   "version": "3.6.5"
  }
 },
 "nbformat": 4,
 "nbformat_minor": 2
}
