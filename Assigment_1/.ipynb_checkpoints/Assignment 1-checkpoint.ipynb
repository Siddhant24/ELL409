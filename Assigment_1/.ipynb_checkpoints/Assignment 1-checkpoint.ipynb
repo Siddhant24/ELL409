{
 "cells": [
  {
   "cell_type": "code",
   "execution_count": 4,
   "metadata": {},
   "outputs": [],
   "source": [
    "import numpy as np\n",
    "import pandas as pd\n",
    "import matplotlib as plt"
   ]
  },
  {
   "cell_type": "code",
   "execution_count": 25,
   "metadata": {},
   "outputs": [
    {
     "name": "stdout",
     "output_type": "stream",
     "text": [
      "Collecting pip\n",
      "  Using cached https://files.pythonhosted.org/packages/5f/25/e52d3f31441505a5f3af41213346e5b6c221c9e086a166f3703d2ddaf940/pip-18.0-py2.py3-none-any.whl\n",
      "\u001b[31mdistributed 1.21.8 requires msgpack, which is not installed.\u001b[0m\n",
      "Installing collected packages: pip\n",
      "  Found existing installation: pip 10.0.1\n",
      "    Uninstalling pip-10.0.1:\n",
      "      Successfully uninstalled pip-10.0.1\n",
      "Successfully installed pip-18.0\n",
      "Requirement already satisfied: python-mnist in /anaconda3/lib/python3.6/site-packages (0.6)\n"
     ]
    }
   ],
   "source": [
    "import sys\n",
    "!{sys.executable} -m pip install --upgrade pip\n",
    "!{sys.executable} -m pip install python-mnist\n",
    "\n"
   ]
  },
  {
   "cell_type": "code",
   "execution_count": 8,
   "metadata": {},
   "outputs": [],
   "source": [
    "from mnist import MNIST\n",
    "mndata = MNIST('fashion_data')\n",
    "imagesTrain,labelsTrain = mndata.load_training()\n",
    "imagesTest, labelsTest = mndata.load_testing()\n"
   ]
  },
  {
   "cell_type": "code",
   "execution_count": 24,
   "metadata": {},
   "outputs": [
    {
     "name": "stdout",
     "output_type": "stream",
     "text": [
      "(60000, 784) (60000,)\n",
      "(10000, 784) (10000,)\n"
     ]
    }
   ],
   "source": [
    "X_train = np.array(imagesTrain)\n",
    "X_test = np.array(imagesTest)\n",
    "y_train = np.array(labelsTrain)\n",
    "y_test = np.array(labelsTest)\n",
    "\n",
    "print(X_train.shape, y_train.shape)\n",
    "print(X_test.shape, y_test.shape)"
   ]
  },
  {
   "cell_type": "code",
   "execution_count": 123,
   "metadata": {},
   "outputs": [],
   "source": [
    "#KNN\n",
    "def euclideanDistance (x,y):\n",
    "    return np.sqrt(np.sum(np.square(x-y)))\n",
    "\n",
    "def getKNeighbours(x, X, K, distanceMetric):\n",
    "    dists = []\n",
    "    for i in range(len(X)):\n",
    "        dists.append(distanceMetric(x,X[i]) )\n",
    "    dists = np.array(dists)\n",
    "    ind = np.argpartition(dists, K)[0:K]\n",
    "\n",
    "    return ind\n",
    "\n",
    "def knnClassifier(testX,trainX,trainY, k, distanceMetric):\n",
    "    predY = []\n",
    "    for x in testX:\n",
    "        y = trainY[getKNeighbours(x, trainX, k, distanceMetric)]\n",
    "        count = np.zeros(10)\n",
    "        for label in y:\n",
    "            count[label] = count[label]+1;\n",
    "        predY.append(np.argmax(count))\n",
    "    return np.array(predY)\n",
    "\n",
    "        "
   ]
  },
  {
   "cell_type": "code",
   "execution_count": 125,
   "metadata": {},
   "outputs": [
    {
     "name": "stdout",
     "output_type": "stream",
     "text": [
      "0.8421052631578947\n",
      "57.38574695587158\n",
      "0.8421052631578947\n",
      "48.88584280014038\n",
      "0.8947368421052632\n",
      "50.742637157440186\n"
     ]
    }
   ],
   "source": [
    "import time\n",
    "\n",
    "start = time.time()\n",
    "y_pred = knnClassifier(X_test[1:20], X_train, y_train, 2, euclideanDistance )\n",
    "print(accuracy(y_pred, y_test[1:20]))\n",
    "end = time.time()\n",
    "print(end-start)\n",
    "\n",
    "start = time.time()\n",
    "y_pred = knnClassifier(X_test[1:20], X_train, y_train, 10, euclideanDistance )\n",
    "print(accuracy(y_pred, y_test[1:20]))\n",
    "end = time.time()\n",
    "print(end-start)\n",
    "\n",
    "start = time.time()\n",
    "y_pred = knnClassifier(X_test[1:20], X_train, y_train, 20, euclideanDistance )\n",
    "print(accuracy(y_pred, y_test[1:20]))\n",
    "end = time.time()\n",
    "print(end-start)\n",
    "\n"
   ]
  },
  {
   "cell_type": "code",
   "execution_count": 126,
   "metadata": {},
   "outputs": [
    {
     "name": "stdout",
     "output_type": "stream",
     "text": [
      "0.8947368421052632\n",
      "52.35586714744568\n"
     ]
    }
   ],
   "source": [
    "start = time.time()\n",
    "y_pred = knnClassifier(X_test[1:20], X_train, y_train, 50, euclideanDistance )\n",
    "print(accuracy(y_pred, y_test[1:20]))\n",
    "end = time.time()\n",
    "print(end-start)\n",
    "\n",
    "\n"
   ]
  },
  {
   "cell_type": "code",
   "execution_count": 127,
   "metadata": {},
   "outputs": [
    {
     "name": "stdout",
     "output_type": "stream",
     "text": [
      "0.8947368421052632\n",
      "48.04271483421326\n",
      "0.7894736842105263\n",
      "8.291125059127808\n",
      "0.8421052631578947\n",
      "1.759856939315796\n",
      "0.631578947368421\n",
      "0.4882619380950928\n"
     ]
    }
   ],
   "source": [
    "\n",
    "import random\n",
    "\n",
    "start = time.time()\n",
    "indices = random.sample(range(1, 60000), 50000)\n",
    "y_pred = knnClassifier(X_test[1:20], X_train[indices], y_train[indices], 50, euclideanDistance )\n",
    "print(accuracy(y_pred, y_test[1:20]))\n",
    "end = time.time()\n",
    "print(end-start)\n",
    "\n",
    "\n",
    "start = time.time()\n",
    "indices = random.sample(range(1, 60000), 10000)\n",
    "y_pred = knnClassifier(X_test[1:20], X_train[indices], y_train[indices], 50, euclideanDistance )\n",
    "print(accuracy(y_pred, y_test[1:20]))\n",
    "end = time.time()\n",
    "print(end-start)\n",
    "\n",
    "\n",
    "\n",
    "start = time.time()\n",
    "indices = random.sample(range(1, 60000), 2000)\n",
    "y_pred = knnClassifier(X_test[1:20], X_train[indices], y_train[indices], 50, euclideanDistance )\n",
    "print(accuracy(y_pred, y_test[1:20]))\n",
    "end = time.time()\n",
    "print(end-start)\n",
    "\n",
    "\n",
    "\n",
    "start = time.time()\n",
    "indices = random.sample(range(1, 60000), 500)\n",
    "y_pred = knnClassifier(X_test[1:20], X_train[indices], y_train[indices], 50, euclideanDistance )\n",
    "print(accuracy(y_pred, y_test[1:20]))\n",
    "end = time.time()\n",
    "print(end-start)\n",
    "\n",
    "\n",
    "\n",
    "\n",
    "\n"
   ]
  },
  {
   "cell_type": "code",
   "execution_count": 94,
   "metadata": {},
   "outputs": [],
   "source": [
    "def accuracy(prediction, actual):\n",
    "    return np.sum(prediction==actual)/prediction.shape[0]\n",
    "    \n"
   ]
  },
  {
   "cell_type": "code",
   "execution_count": 118,
   "metadata": {},
   "outputs": [
    {
     "name": "stdout",
     "output_type": "stream",
     "text": [
      "[]\n"
     ]
    }
   ],
   "source": [
    "x = X_test[0]\n",
    "trainX = X_train\n",
    "k = 10\n",
    "\n",
    "print(getKNeighbours(x, trainX, k, EuclideanDistance))"
   ]
  },
  {
   "cell_type": "code",
   "execution_count": null,
   "metadata": {},
   "outputs": [],
   "source": []
  }
 ],
 "metadata": {
  "kernelspec": {
   "display_name": "Python 3",
   "language": "python",
   "name": "python3"
  }
 },
 "nbformat": 4,
 "nbformat_minor": 2
}
