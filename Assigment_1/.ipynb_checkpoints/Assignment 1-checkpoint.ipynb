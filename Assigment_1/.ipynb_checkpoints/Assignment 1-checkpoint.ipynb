{
 "cells": [
  {
   "cell_type": "code",
   "execution_count": 3,
   "metadata": {},
   "outputs": [],
   "source": [
    "%load_ext autoreload\n",
    "%autoreload 2\n",
    "#Reloads import libraries before every piece of code is run so that changes in function.py reflect immediately\n",
    "\n",
    "\n",
    "import numpy as np\n",
    "import pandas as pd\n",
    "import matplotlib.pyplot as plt\n",
    "import scipy\n",
    "import time\n",
    "import random\n",
    "RANDOM_SEED = 42\n",
    "random.seed(RANDOM_SEED)\n",
    "np.random.seed(RANDOM_SEED)\n",
    "\n",
    "#import functions\n",
    "\n",
    "from dataset_import import prepareFMNISTData, prepareRailwayData, prepareMedicalData\n",
    "from distance_metrics import euclideanDistance, manhattenDistance, chebyschevDistance\n",
    "from PCA import PCA, project\n",
    "from evaluation_metrics import accuracy, precision, recall, f1Score\n",
    "from classifiers import knnClassifier, bayesClassifier, bayesClassifierAuto, naiveBayesClassifier\n",
    "from classifiers import KMeansClassifier, kMeansClassifierAuto\n",
    "from classifiers import kNearestNeighboursEstimation, parzenWindowEstimation_gaussian, maximumLikelyhoodEstimation\n",
    "from classifiers import parzenWindowEstimationAuto_gaussian, kNearestNeighboursEstimationAuto\n",
    "\n",
    "\n",
    "# import sys\n",
    "# !{sys.executable} -m pip3 install --upgrade pip\n",
    "# !{sys.executable} -m pip3 install python-mnist\n"
   ]
  },
  {
   "cell_type": "markdown",
   "metadata": {},
   "source": [
    "# Medical DataSet Visualization\n",
    "    - Plot Medical data set, the individual axis \n",
    "    - Plot class wise for individual axis, maybe after PCA\n",
    "    - Make Conclusions"
   ]
  },
  {
   "cell_type": "code",
   "execution_count": 233,
   "metadata": {},
   "outputs": [
    {
     "data": {
      "image/png": "[encoded data removed]",
      "text/plain": [
       "<Figure size 864x216 with 3 Axes>"
      ]
     },
     "metadata": {},
     "output_type": "display_data"
    }
   ],
   "source": [
    "\n",
    "(X_train, y_train, X_val, y_val, X_test, y_test) = prepareMedicalData();\n",
    "fig=plt.figure(figsize=(12, 3))\n",
    "columns = 3\n",
    "rows = 1\n",
    "\n",
    "for i in range(1, columns*rows +1):\n",
    "    X_i = [X_train[np.where(y_train==c)][:,i-1] for c in np.unique(y_train)]\n",
    "    ax = fig.add_subplot(rows, columns, i)\n",
    "    ax.hist(X_i, color = ['blue', 'red', 'green'], edgecolor = 'black', bins = int(100), histtype = 'stepfilled', density = True)\n",
    "    ax.set_title(\"Test \" + str(i)) \n",
    "\n",
    "fig.tight_layout()\n",
    "fig.legend([\"Healthy\", \"Medication\", \"Surgery\"])\n",
    "plt.show()\n",
    "\n"
   ]
  },
  {
   "cell_type": "markdown",
   "metadata": {},
   "source": [
    "# Comments\n",
    "- Along each feature, one class stands out while other two collapse, with a different class standing out for each feature.\n",
    "- Data probably generated custom. Are the three features generated independatly, or part of 3d gaussians?\n",
    "- Try tests with a 3d gaussian for each dimension. Result? -------- Works\n",
    "- Try tests along single axis, a naive-bayes approach. Result? ---- Works the same. Data must be independant\n",
    "- Why does naive Bayes often work well even though its independence assumption is violated?\n",
    "- A central observation is the following: optimality in terms of zero-one loss (classification error) is not necessarily related to the quality of the fit to a probability distribution (i.e., the appropriateness of the independence assumption). Rather, an optimal classifier is obtained as long as both the actual and estimated distributions agree on the most-probable class\n",
    "- Although it may seem counterintuitive, the naive Bayes error is not correlated with class-conditional mutual information between the features.\n",
    "- Reference: http://citeseerx.ist.psu.edu/viewdoc/download?doi=10.1.1.138.672&rep=rep1&type=pdf"
   ]
  },
  {
   "cell_type": "code",
   "execution_count": 234,
   "metadata": {},
   "outputs": [
    {
     "name": "stdout",
     "output_type": "stream",
     "text": [
      "[[1.93972109 0.01145817 1.87364719]]\n",
      "[[ 0.953484   -0.0037438  -0.44502069]\n",
      " [-0.0037438   0.0510315   0.00840902]\n",
      " [-0.44502069  0.00840902  0.82768585]]\n",
      "[[1.37310908 1.61470398 0.00256986]]\n",
      "[[ 1.44827789 -1.10950096  0.00858233]\n",
      " [-1.10950096  1.58689231 -0.00867689]\n",
      " [ 0.00858233 -0.00867689  0.05158863]]\n",
      "[[0.01165194 1.65921775 1.55366681]]\n",
      "[[ 0.05333897  0.00528047 -0.01603537]\n",
      " [ 0.00528047  1.68933733 -1.39406448]\n",
      " [-0.01603537 -1.39406448  1.86914292]]\n",
      "Bayes [multiVariate Gaussian]: 0.901\n",
      "[[1.93972109]]\n",
      "[[0.953484]]\n",
      "[[0.01145817]]\n",
      "[[0.0510315]]\n",
      "[[1.87364719]]\n",
      "[[0.82768585]]\n",
      "[[1.37310908]]\n",
      "[[1.44827789]]\n",
      "[[1.61470398]]\n",
      "[[1.58689231]]\n",
      "[[0.00256986]]\n",
      "[[0.05158863]]\n",
      "[[0.01165194]]\n",
      "[[0.05333897]]\n",
      "[[1.65921775]]\n",
      "[[1.68933733]]\n",
      "[[1.55366681]]\n",
      "[[1.86914292]]\n",
      "Naive Bayes [Gaussian]: 0.907\n"
     ]
    },
    {
     "name": "stderr",
     "output_type": "stream",
     "text": [
      "/Users/eshan/IIT Delhi/ELL409 - Machine Learning/ELL409/Assigment_1/classifiers.py:108: RuntimeWarning: divide by zero encountered in log\n",
      "  \n"
     ]
    },
    {
     "name": "stdout",
     "output_type": "stream",
     "text": [
      "Naive Bayes [Parzen Window Estimate]: 0.89\n",
      "Naive Bayes [kNN]: 0.8943333333333333\n"
     ]
    }
   ],
   "source": [
    "\n",
    "y_pred = bayesClassifier(X_test, X_train, y_train, maximumLikelyhoodEstimation)\n",
    "acc = accuracy(y_pred, y_test)\n",
    "print(\"Bayes [multiVariate Gaussian]: \" + str(acc))\n",
    "\n",
    "y_pred = naiveBayesClassifier(X_test, X_train, y_train, maximumLikelyhoodEstimation)\n",
    "acc = accuracy(y_pred, y_test)\n",
    "print(\"Naive Bayes [Gaussian]: \" + str(acc))\n",
    "\n",
    "y_pred = naiveBayesClassifier(X_val, X_train, y_train, parzenWindowEstimation_gaussian, 0.05)\n",
    "acc = accuracy(y_pred, y_val)\n",
    "print(\"Naive Bayes [Parzen Window Estimate]: \" + str(acc))\n",
    "\n",
    "y_pred = naiveBayesClassifier(X_test, X_train, y_train, kNearestNeighboursEstimation, np.sqrt)\n",
    "acc = accuracy(y_pred, y_test)\n",
    "print(\"Naive Bayes [kNN]: \" + str(acc))\n",
    "\n",
    "\n",
    "#maximumLikelyhoodEstimation(X_test, X_train[np.where(y_train==1)])\n",
    "#maximumLikelyhoodEstimation(X_test, X_train[np.where(y_train==2)])\n"
   ]
  },
  {
   "cell_type": "code",
   "execution_count": 232,
   "metadata": {},
   "outputs": [
    {
     "name": "stdout",
     "output_type": "stream",
     "text": [
      "[[1.93972109 0.01145817 1.87364719]]\n",
      "[[ 0.953484   -0.0037438  -0.44502069]\n",
      " [-0.0037438   0.0510315   0.00840902]\n",
      " [-0.44502069  0.00840902  0.82768585]]\n",
      "[[1.37310908 1.61470398 0.00256986]]\n",
      "[[ 1.44827789 -1.10950096  0.00858233]\n",
      " [-1.10950096  1.58689231 -0.00867689]\n",
      " [ 0.00858233 -0.00867689  0.05158863]]\n",
      "[[0.01165194 1.65921775 1.55366681]]\n",
      "[[ 0.05333897  0.00528047 -0.01603537]\n",
      " [ 0.00528047  1.68933733 -1.39406448]\n",
      " [-0.01603537 -1.39406448  1.86914292]]\n",
      "Bayes [multiVariate Gaussian]: 0.901\n"
     ]
    }
   ],
   "source": [
    "y_pred = bayesClassifier(X_test, X_train, y_train, maximumLikelyhoodEstimation)\n",
    "acc = accuracy(y_pred, y_test)\n",
    "print(\"Bayes [multiVariate Gaussian]: \" + str(acc))"
   ]
  },
  {
   "cell_type": "markdown",
   "metadata": {},
   "source": [
    "# Results\n",
    "- The class conditional densities can be fit with a single gaussian through MLE\n",
    "#### Establish that features are independent using some test???\n",
    "- Since the features are independent, Naive bayes and bayes perform equally well: 90% Accuracy \n",
    "- Using parametric estimation techniques (Parzen Window and KNN) works just as fine."
   ]
  },
  {
   "cell_type": "code",
   "execution_count": 236,
   "metadata": {},
   "outputs": [
    {
     "data": {
      "text/plain": [
       "<matplotlib.legend.Legend at 0x11a67af28>"
      ]
     },
     "execution_count": 236,
     "metadata": {},
     "output_type": "execute_result"
    },
    {
     "data": {
      "image/png": "[encoded data removed]",
      "text/plain": [
       "<Figure size 432x288 with 1 Axes>"
      ]
     },
     "metadata": {},
     "output_type": "display_data"
    }
   ],
   "source": [
    "hlist = [300000, 100000, 30000, 10000, 3000, 1000, 300, 100, 30, 10, 3, 1, 0.3, 0.1, 0.03, 0.01, 0.003, 0.001, 0.0003, 0.0001, 0.00003, 0.00001]\n",
    "acctest = []\n",
    "acctrain = []\n",
    "for h in hlist:\n",
    "    y_pred = bayesClassifier(X_test, X_train, y_train, parzenWindowEstimation_gaussian, h)\n",
    "    y_predtrain = bayesClassifier(X_train, X_train, y_train, parzenWindowEstimation_gaussian, h)\n",
    "    acctest.append(1-accuracy(y_pred, y_test))\n",
    "    acctrain.append(1-accuracy(y_predtrain, y_train))\n",
    "plt.plot(hlist,acctest, label = 'Test error')\n",
    "plt.plot(hlist,acctrain, label = 'Train error')\n",
    "plt.xlabel('h')\n",
    "plt.ylabel('Error')\n",
    "plt.title('Error vs h (Parzen Window) for Medical Data')\n",
    "plt.axis('on')\n",
    "plt.xscale('log')\n",
    "plt.xlim(400000, 0.00004)\n",
    "plt.legend()\n"
   ]
  },
  {
   "cell_type": "markdown",
   "metadata": {},
   "source": [
    "# FMNIST Visualization\n",
    "    - PCA into lesser dimensions and visualize?\n",
    "    - Explore Image Reconstruction\n",
    "   "
   ]
  },
  {
   "cell_type": "code",
   "execution_count": 6,
   "metadata": {},
   "outputs": [
    {
     "data": {
      "image/png": "[encoded data removed]",
      "text/plain": [
       "<Figure size 648x648 with 9 Axes>"
      ]
     },
     "metadata": {},
     "output_type": "display_data"
    }
   ],
   "source": [
    "(X_train, y_train, X_val, y_val, X_test, y_test) = prepareFMNISTData();\n",
    "fig=plt.figure(figsize=(9, 9))\n",
    "columns = 3\n",
    "rows = 3\n",
    "for i in range(1, columns*rows +1):\n",
    "    threshold = 0.75 + i/(columns*rows*4)\n",
    "    [Z, p, X, U, W] = PCA(X_train, threshold)\n",
    "    img = X[0].reshape(28, 28)\n",
    "    ax = fig.add_subplot(rows, columns, i)\n",
    "    ax.imshow(img)\n",
    "    ax.set_title(str(round(threshold*100,3))+ '%, '+ ' P = ' + str(p)+ ' ') \n",
    "\n",
    "fig.tight_layout()\n",
    "plt.show()\n",
    "\n"
   ]
  },
  {
   "cell_type": "code",
   "execution_count": null,
   "metadata": {},
   "outputs": [],
   "source": []
  },
  {
   "cell_type": "code",
   "execution_count": null,
   "metadata": {},
   "outputs": [],
   "source": []
  },
  {
   "cell_type": "code",
   "execution_count": 224,
   "metadata": {},
   "outputs": [
    {
     "name": "stdout",
     "output_type": "stream",
     "text": [
      "PCA_Threshold = 1, P = 24\n"
     ]
    },
    {
     "data": {
      "image/png": "[encoded data removed]",
      "text/plain": [
       "<Figure size 1080x1080 with 9 Axes>"
      ]
     },
     "metadata": {},
     "output_type": "display_data"
    }
   ],
   "source": [
    "#(X_train, y_train, X_val, y_val, X_test, y_test) = prepareMedicalData();\n",
    "(X_train, y_train, X_val, y_val, X_test, y_test) = prepareFMNISTData(PCA_threshold=1, PCA_p = 24)\n",
    "\n",
    "fig=plt.figure(figsize=(15, 15))\n",
    "columns = 3\n",
    "rows = 3\n",
    "\n",
    "colors = ['violet', 'red', 'blue', 'green', 'indigo', 'yellow', 'orange', 'black', 'purple', 'maroon']\n",
    "for i in range(1, columns*rows +1):\n",
    "    X_i = [X_train[np.where(y_train==c)][:,i-1] for c in np.unique(y_train)]\n",
    "    ax = fig.add_subplot(rows, columns, i)\n",
    "    ax.hist(X_i, color = colors, edgecolor = 'black', bins = int(100), histtype = 'stepfilled', density = True)\n",
    "    ax.set_title(\"Feature \" + str(i)) \n",
    "\n",
    "fig.tight_layout()\n",
    "plt.show()"
   ]
  },
  {
   "cell_type": "markdown",
   "metadata": {},
   "source": [
    "# Comments\n",
    "- All the individual are features are gaussians!!\n",
    "- First twelve features seem much more significant in distinguising between classes than the rest.\n",
    "- We'll try fitting a multi-variate gaussian and naively fitting gaussians\n",
    "- Naively fitting gaussians should lead to worse results since features are definitely not decorrelated.\n"
   ]
  },
  {
   "cell_type": "markdown",
   "metadata": {},
   "source": [
    "# Test - Fit Gaussians"
   ]
  },
  {
   "cell_type": "code",
   "execution_count": 26,
   "metadata": {},
   "outputs": [
    {
     "name": "stdout",
     "output_type": "stream",
     "text": [
      "PCA_Threshold = 1, P = 784\n"
     ]
    },
    {
     "data": {
      "text/plain": [
       "<matplotlib.legend.Legend at 0x7f2899377e80>"
      ]
     },
     "execution_count": 26,
     "metadata": {},
     "output_type": "execute_result"
    },
    {
     "data": {
      "image/png": "[encoded data removed]",
      "text/plain": [
       "<matplotlib.figure.Figure at 0x7f2898ef86a0>"
      ]
     },
     "metadata": {},
     "output_type": "display_data"
    }
   ],
   "source": [
    "bayes = []\n",
    "naiveBayes = []\n",
    "(X_trainC, y_train, X_valC, y_val, X_testC, y_test) = prepareFMNISTData(PCA_threshold=1);\n",
    "for p in range(1,200):\n",
    "    X_train = X_trainC[:,:p]\n",
    "    X_val = X_valC[:,:p]\n",
    "    y_pred = bayesClassifier(X_val, X_train, y_train, maximumLikelyhoodEstimation)\n",
    "    bayes.append(accuracy(y_pred, y_val))\n",
    "    y_pred = naiveBayesClassifier(X_val, X_train, y_train, maximumLikelyhoodEstimation)\n",
    "    naiveBayes.append(accuracy(y_pred, y_val))\n",
    "\n",
    "plt.plot(bayes, label = 'Bayes MLE Gaussian')\n",
    "plt.plot(naiveBayes, label = 'Naive Bayes MLE Gaussian')\n",
    "plt.xlabel('Reduced Dimension (P)')\n",
    "plt.ylabel('Accuracy')\n",
    "plt.title('Accuracy vs P for FMNIST')\n",
    "plt.axis('on')\n",
    "plt.legend()\n",
    "\n",
    "\n",
    "#np.max(Bayes) = 0.796\n",
    "#np.max(Naive-Bayes) = 0.778"
   ]
  },
  {
   "cell_type": "code",
   "execution_count": 9,
   "metadata": {},
   "outputs": [
    {
     "name": "stdout",
     "output_type": "stream",
     "text": [
      "PCA_Threshold = 1, P = 784\n",
      "0.4278\n"
     ]
    }
   ],
   "source": [
    "# Naive Bayes on full FMNIST\n",
    "(X_train, y_train, X_val, y_val, X_test, y_test) = prepareFMNISTData(PCA_threshold=1)\n",
    "y_pred = naiveBayesClassifier(X_test, X_train, y_train, maximumLikelyhoodEstimation)\n",
    "print(accuracy(y_pred, y_test))"
   ]
  },
  {
   "cell_type": "markdown",
   "metadata": {},
   "source": [
    "# Observations\n",
    "- Bayes performs better than Naive Bayes for gaussian class conditional estimations. This is expected because every naive bayes combination can also be represented by a multi-variate gaussian with a diagonal Covariance Matrix.\n",
    "- The Performance of both measures remains basically constant after P=25, and drops sharply after P = 150. We can conclude that features 25 through 150 are basically not providing enough extra significant information to counter the resulting noise. \n",
    "- - Normal assumption might be flawed, in which case, we might want to test non-parametric methods as well. This seems like a good idea because a number of distributions have a visible skew. \n",
    "\n",
    "\n",
    "### How to justify the sudden drop of Bayes and Naive-Bayes??\n",
    "### How does the curse of dimensionality work into the analysis??"
   ]
  },
  {
   "cell_type": "markdown",
   "metadata": {},
   "source": [
    "# Test - KNN Classifier\n",
    "- 0.796 is a lower bound for further testing. We can run a KNN classifier for a better bound, since it is proven to have no worse than twice the bayes error\n",
    "- Choice of Distance metric might play a significant role due to larger number of dimensions"
   ]
  },
  {
   "cell_type": "code",
   "execution_count": 370,
   "metadata": {},
   "outputs": [
    {
     "name": "stdout",
     "output_type": "stream",
     "text": [
      "PCA_Threshold = 1, P = 784\n"
     ]
    }
   ],
   "source": [
    "(X_trainC, y_train, X_valC, y_val, X_testC, y_test) = prepareFMNISTData(PCA_threshold = 1);"
   ]
  },
  {
   "cell_type": "code",
   "execution_count": null,
   "metadata": {},
   "outputs": [],
   "source": [
    "P = 25\n",
    "X_train = X_trainC[:,:P]\n",
    "X_val = X_valC[:,:P]\n",
    "X_test = X_testC[:,:P]\n",
    "\n",
    "n_samples = 100\n",
    "indices = random.sample(range(0, 10000), n_samples)\n",
    "\n",
    "kList = [1,2,4,8,16,32,64,128,256]\n",
    "dists = [chebyschevDistance, euclideanDistance, manhattenDistance]\n",
    "\n",
    "chebyschev__Acc_V_K = []\n",
    "euclidean__Acc_V_K = []\n",
    "manhatten__Acc_V_K = []\n",
    "\n",
    "for K in kList:\n",
    "    for dist in dists:\n",
    "        y_pred = knnClassifier(X_val[indices], X_train, y_train, K, dist)\n",
    "        acc = accuracy(y_pred, y_val[indices])\n",
    "        if(dist == chebyschevDistance): chebyschev__Acc_V_K.append(acc)\n",
    "        if(dist == euclideanDistance): euclidean__Acc_V_K.append(acc)\n",
    "        if(dist == manhattenDistance): manhatten__Acc_V_K.append(acc)\n",
    "        \n",
    "    \n",
    "    "
   ]
  },
  {
   "cell_type": "code",
   "execution_count": 407,
   "metadata": {},
   "outputs": [
    {
     "data": {
      "text/plain": [
       "Text(0,0.5,'Accuracy')"
      ]
     },
     "execution_count": 407,
     "metadata": {},
     "output_type": "execute_result"
    },
    {
     "data": {
      "image/png": "[encoded data removed]",
      "text/plain": [
       "<Figure size 432x288 with 1 Axes>"
      ]
     },
     "metadata": {},
     "output_type": "display_data"
    }
   ],
   "source": [
    "plt.plot(kList, chebyschev__Acc_V_K, label = 'Chebyschev Distance')\n",
    "plt.plot(kList, euclidean__Acc_V_K, label = 'Euclidean Distance')\n",
    "plt.plot(kList, manhatten__Acc_V_K, label = 'Manhatten Distance')\n",
    "plt.legend()\n",
    "plt.title('Testing different distance metrics')\n",
    "plt.xlabel('K')\n",
    "plt.ylabel('Accuracy')"
   ]
  },
  {
   "cell_type": "markdown",
   "metadata": {},
   "source": [
    "# The above suggests focusing on Euclidean Distance"
   ]
  },
  {
   "cell_type": "code",
   "execution_count": 412,
   "metadata": {},
   "outputs": [],
   "source": [
    "kList = [1,2,4,8,16,32,64,128,256,512]\n",
    "pList = [1,2,4,8,16,32,64,128,256]\n",
    "\n",
    "n_samples = 100\n",
    "indices = random.sample(range(0, 10000), n_samples)\n",
    "\n",
    "accuracies = []\n",
    "\n",
    "for p in pList:\n",
    "    X_train = X_trainC[:,:p]\n",
    "    X_val = X_valC[:,:p]\n",
    "    X_test = X_testC[:,:p]\n",
    "    \n",
    "    accK = []\n",
    "    \n",
    "    for K in kList:\n",
    "        y_pred = knnClassifier(X_val[indices], X_train, y_train, K, euclideanDistance)\n",
    "        acc = accuracy(y_pred, y_val[indices])\n",
    "        accK.append(acc)\n",
    "\n",
    "    accuracies.append(accK)\n",
    "    "
   ]
  },
  {
   "cell_type": "code",
   "execution_count": 459,
   "metadata": {},
   "outputs": [
    {
     "data": {
      "text/plain": [
       "array([[0.25, 0.21, 0.21, 0.22, 0.24, 0.27, 0.26, 0.23, 0.24, 0.25],\n",
       "       [0.53, 0.51, 0.56, 0.56, 0.56, 0.55, 0.56, 0.56, 0.57, 0.58],\n",
       "       [0.63, 0.67, 0.71, 0.72, 0.72, 0.73, 0.69, 0.65, 0.66, 0.65],\n",
       "       [0.73, 0.8 , 0.79, 0.77, 0.77, 0.76, 0.76, 0.73, 0.72, 0.72],\n",
       "       [0.76, 0.81, 0.81, 0.83, 0.82, 0.83, 0.8 , 0.79, 0.76, 0.76],\n",
       "       [0.85, 0.83, 0.84, 0.85, 0.83, 0.85, 0.84, 0.81, 0.79, 0.77],\n",
       "       [0.82, 0.84, 0.86, 0.87, 0.85, 0.85, 0.85, 0.83, 0.79, 0.76],\n",
       "       [0.85, 0.84, 0.85, 0.88, 0.86, 0.84, 0.85, 0.82, 0.79, 0.76],\n",
       "       [0.84, 0.85, 0.85, 0.86, 0.85, 0.86, 0.85, 0.83, 0.77, 0.76]])"
      ]
     },
     "execution_count": 459,
     "metadata": {},
     "output_type": "execute_result"
    }
   ],
   "source": [
    "accuracies"
   ]
  },
  {
   "cell_type": "code",
   "execution_count": 464,
   "metadata": {},
   "outputs": [
    {
     "name": "stdout",
     "output_type": "stream",
     "text": [
      "P:  128\n",
      "K:  8\n",
      "No. of Samples:  1000\n",
      "\n",
      "accuracy:  0.8602\n",
      "time taken:  775.6864080429077\n"
     ]
    }
   ],
   "source": [
    "P = 128\n",
    "K = 8\n",
    "X_train = X_trainC[:,:P]\n",
    "X_val = X_valC[:,:P]\n",
    "X_test = X_testC[:,:P]\n",
    "\n",
    "print(\"P: \", P)\n",
    "print(\"K: \", K)\n",
    "print(\"No. of Samples: \", n_samples)\n",
    "\n",
    "start = time.time()\n",
    "y_pred = knnClassifier(X_test, X_train, y_train, K, euclideanDistance)\n",
    "acc = accuracy(y_pred, y_test)\n",
    "end = time.time()\n",
    "print()\n",
    "print(\"accuracy: \", acc)\n",
    "print(\"time taken: \", end-start)\n",
    "\n",
    "\n",
    "#P:  128\n",
    "#K:  8\n",
    "#No. of Samples:  10000\n",
    "#accuracy:  0.8602\n",
    "#time taken:  775.6864080429077"
   ]
  },
  {
   "cell_type": "markdown",
   "metadata": {},
   "source": [
    "# Observations \n",
    "- KNN Classifier beats the Gaussian assumption, which had a best of 79.6% accuracy\n",
    "- KNN Classifier is able to give an test accuracy of 88.2% on a random run of 1000 samples, and 86.02% for the entire test dataset\n",
    "- Theoretically, the Bayes Classifier can do better than that. So we will next try to beat this with non-parametric estimations of the class conditional data. \n",
    "- Choice of h for parzen-window is problematic and might be different for different classes.\n",
    "- K=1 might work for small dimensions due to presence of huge data, but curse of dimensionality will kill method for larger dimensions. "
   ]
  },
  {
   "cell_type": "code",
   "execution_count": 525,
   "metadata": {},
   "outputs": [
    {
     "name": "stdout",
     "output_type": "stream",
     "text": [
      "P:  25\n",
      "h:  25\n",
      "No. of Samples:  100\n"
     ]
    },
    {
     "name": "stderr",
     "output_type": "stream",
     "text": [
      "/Users/eshan/IIT Delhi/ELL409 - Machine Learning/ELL409/Assigment_1/classifiers.py:105: RuntimeWarning: divide by zero encountered in log\n",
      "  for idx in range(len(A)):\n"
     ]
    },
    {
     "name": "stdout",
     "output_type": "stream",
     "text": [
      "\n",
      "accuracy:  0.77\n",
      "time taken:  3.1875550746917725\n"
     ]
    }
   ],
   "source": [
    "P = 25\n",
    "h = 25\n",
    "X_train = X_trainC[:,:P]\n",
    "X_val = X_valC[:,:P]\n",
    "X_test = X_testC[:,:P]\n",
    "\n",
    "\n",
    "print(\"P: \", P)\n",
    "print(\"h: \", h)\n",
    "n_samples = 100\n",
    "indices = random.sample(range(0, 10000), n_samples)\n",
    "print(\"No. of Samples: \", n_samples)\n",
    "\n",
    "\n",
    "start = time.time()\n",
    "y_pred = naiveBayesClassifier(X_val[indices], X_train, y_train, parzenWindowEstimation_gaussian, h, euclideanDistance)\n",
    "acc = accuracy(y_pred, y_val[indices])\n",
    "end = time.time()\n",
    "print()\n",
    "print(\"accuracy: \", acc)\n",
    "print(\"time taken: \", end-start)\n",
    "\n"
   ]
  },
  {
   "cell_type": "code",
   "execution_count": 529,
   "metadata": {},
   "outputs": [
    {
     "name": "stderr",
     "output_type": "stream",
     "text": [
      "/Users/eshan/IIT Delhi/ELL409 - Machine Learning/ELL409/Assigment_1/classifiers.py:105: RuntimeWarning: divide by zero encountered in log\n",
      "  for idx in range(len(A)):\n"
     ]
    },
    {
     "name": "stdout",
     "output_type": "stream",
     "text": [
      "[0.645, 0.675, 0.71, 0.705, 0.72, 0.76, 0.74, 0.75, 0.77, 0.77, 0.775, 0.755, 0.735, 0.66, 0.4, 0.22]\n",
      "Max Validation Accuracy:  0.775\n",
      "Best h:  64\n"
     ]
    }
   ],
   "source": [
    "n_samples = 200\n",
    "indices = random.sample(range(0, 10000), n_samples)\n",
    "hList = [0.0625, 0.125, 0.25, 0.5, 1, 2, 4, 8, 16, 32, 64, 128, 256, 512, 1024, 2048]\n",
    "accuracies = []\n",
    "for h in hList:\n",
    "    y_pred = naiveBayesClassifier(X_val[indices], X_train, y_train, parzenWindowEstimation_gaussian, h, euclideanDistance)\n",
    "    acc = accuracy(y_pred, y_val[indices])\n",
    "    accuracies.append(acc)\n",
    "\n",
    "print(accuracies)\n",
    "print (\"Max Validation Accuracy: \", np.max(accuracies))\n",
    "h = hList[np.argmax(accuracies)]\n",
    "print(\"Best h: \", h)"
   ]
  },
  {
   "cell_type": "code",
   "execution_count": 530,
   "metadata": {},
   "outputs": [
    {
     "name": "stdout",
     "output_type": "stream",
     "text": [
      "[0.72, 0.79]\n",
      "Max Validation Accuracy:  0.79\n",
      "Best h:  0.125\n"
     ]
    }
   ],
   "source": [
    "n_samples = 200\n",
    "indices = random.sample(range(0, 10000), n_samples)\n",
    "kList = [np.log, np.sqrt]\n",
    "accuracies = []\n",
    "for h in kList:\n",
    "    y_pred = naiveBayesClassifier(X_val[indices], X_train, y_train, kNearestNeighboursEstimation, h, euclideanDistance)\n",
    "    acc = accuracy(y_pred, y_val[indices])\n",
    "    accuracies.append(acc)\n",
    "\n",
    "print(accuracies)\n",
    "print (\"Max Validation Accuracy: \", np.max(accuracies))\n",
    "h = hList[np.argmax(accuracies)]\n",
    "print(\"Best h: \", h)"
   ]
  },
  {
   "cell_type": "code",
   "execution_count": null,
   "metadata": {},
   "outputs": [],
   "source": []
  },
  {
   "cell_type": "code",
   "execution_count": null,
   "metadata": {},
   "outputs": [],
   "source": []
  },
  {
   "cell_type": "code",
   "execution_count": null,
   "metadata": {},
   "outputs": [],
   "source": []
  },
  {
   "cell_type": "code",
   "execution_count": null,
   "metadata": {},
   "outputs": [],
   "source": []
  },
  {
   "cell_type": "code",
   "execution_count": null,
   "metadata": {},
   "outputs": [],
   "source": []
  },
  {
   "cell_type": "code",
   "execution_count": null,
   "metadata": {},
   "outputs": [],
   "source": []
  },
  {
   "cell_type": "code",
   "execution_count": null,
   "metadata": {},
   "outputs": [],
   "source": []
  },
  {
   "cell_type": "markdown",
   "metadata": {},
   "source": [
    "# Train Selection Problem\n",
    "- Start with data visualization\n",
    "- Regularize/PCA for every experiment\n",
    "- Find ways to deal with categorical data: First/Second/Third AC, by mapping onto {1,2,3} and one-hot encoding\n",
    "- Sex might be an issue too"
   ]
  },
  {
   "cell_type": "code",
   "execution_count": 249,
   "metadata": {},
   "outputs": [
    {
     "data": {
      "image/png": "[encoded data removed]",
      "text/plain": [
       "<Figure size 864x504 with 5 Axes>"
      ]
     },
     "metadata": {},
     "output_type": "display_data"
    }
   ],
   "source": [
    "(X_train, y_train, X_val, y_val, X_test, y_test) = prepareRailwayData();\n",
    "fig=plt.figure(figsize=(12, 7))\n",
    "columns = 3\n",
    "rows = 2\n",
    "\n",
    "featureMap = ['Budget', 'Family Size', 'Coach AC', 'Sex', 'Age Category']\n",
    "\n",
    "#colors = ['violet', 'red', 'blue', 'green', 'indigo', 'yellow', 'orange', 'black', 'purple', 'maroon']\n",
    "colors = ['yellow', 'blue']\n",
    "\n",
    "for i in range(1, columns*rows +1):\n",
    "    if(i==6): continue\n",
    "    X_i = [X_train[np.where(y_train==c)][:,i-1] for c in np.unique(y_train)]\n",
    "    ax = fig.add_subplot(rows, columns, i)\n",
    "    ax.hist(X_i, color = colors, edgecolor = 'black', bins = 10, histtype = 'bar')\n",
    "    ax.set_title(featureMap[i-1]) \n",
    "    \n",
    "fig.tight_layout()\n",
    "\n",
    "plt.legend([\"Didn't Board\", \"Boarded\"], bbox_to_anchor=(1, 1))\n",
    "plt.show()\n",
    "\n",
    "#Female = 1, Male = 0\n",
    "#\n"
   ]
  },
  {
   "cell_type": "markdown",
   "metadata": {},
   "source": [
    "### First Comments\n",
    "- Priors of Boarding are much stronger than not boarding (logical): Trivial classifier won't suck\n",
    "- Sex is a very useful discriminant: Men likely to board, women likely to not. Should test using this feature alone somehow.\n",
    "- First AC bookings might be the business trips and subject to change of plans. Hence, not boarding is a thing.\n",
    "- Large families definitely board, while middle size families are subject to change of plans\n",
    "- Budget seems like a useless factor"
   ]
  },
  {
   "cell_type": "code",
   "execution_count": 41,
   "metadata": {},
   "outputs": [
    {
     "name": "stdout",
     "output_type": "stream",
     "text": [
      "Trivial Prediction: 0.5844748858447488\n",
      "Only Sex Prediction [K-Means Classifier]:0.726027397260274\n",
      "Only Coach Prediction [K-Means Classifier]:0.6529680365296804\n",
      "Only Family Size Prediction [K-Means Classifier]:0.6438356164383562\n",
      "Only Budget Prediction [K-Means Classifier]:0.6301369863013698\n",
      "Only Age Prediction [K-Means Classifier]:0.5844748858447488\n"
     ]
    }
   ],
   "source": [
    "(X_train, y_train, X_val, y_val, X_test, y_test) = prepareRailwayData(0);\n",
    "\n",
    "y_pred = np.ones(y_test.shape)\n",
    "acc = accuracy(y_pred, y_test)\n",
    "print(\"Trivial Prediction: \" + str(acc))\n",
    "\n",
    "\n",
    "testX = np.array([X_test[:, 3]]).T\n",
    "trainX = np.array([X_train[:, 3]]).T\n",
    "y_pred = KMeansClassifier(testX, trainX, y_train, K = 5)[0]\n",
    "acc = accuracy(y_pred, y_test)\n",
    "print(\"Only Sex Prediction [K-Means Classifier]:\" + str(acc))\n",
    "\n",
    "\n",
    "testX = np.array([X_test[:, 2]]).T\n",
    "trainX = np.array([X_train[:, 2]]).T\n",
    "y_pred = KMeansClassifier(testX, trainX, y_train, K = 5)[0]\n",
    "acc = accuracy(y_pred, y_test)\n",
    "print(\"Only Coach Prediction [K-Means Classifier]:\" + str(acc))\n",
    "\n",
    "\n",
    "testX = np.array([X_test[:, 1]]).T\n",
    "trainX = np.array([X_train[:, 1]]).T\n",
    "y_pred = KMeansClassifier(testX, trainX, y_train, K = 5)[0]\n",
    "acc = accuracy(y_pred, y_test)\n",
    "print(\"Only Family Size Prediction [K-Means Classifier]:\" + str(acc))\n",
    "\n",
    "\n",
    "testX = np.array([X_test[:, 0]]).T\n",
    "trainX = np.array([X_train[:, 0]]).T\n",
    "y_pred = KMeansClassifier(testX, trainX, y_train, K = 5)[0]\n",
    "acc = accuracy(y_pred, y_test)\n",
    "print(\"Only Budget Prediction [K-Means Classifier]:\" + str(acc))\n",
    "\n",
    "\n",
    "testX = np.array([X_test[:, 4]]).T\n",
    "trainX = np.array([X_train[:,4]]).T\n",
    "y_pred = KMeansClassifier(testX, trainX, y_train, K = 10)[0]\n",
    "acc = accuracy(y_pred, y_test)\n",
    "print(\"Only Age Prediction [K-Means Classifier]:\" + str(acc))\n",
    "\n",
    "\n",
    "\n"
   ]
  },
  {
   "cell_type": "code",
   "execution_count": 6,
   "metadata": {},
   "outputs": [
    {
     "name": "stdout",
     "output_type": "stream",
     "text": [
      "Only Coach Prediction [K-Means Classifier]:0.7579908675799086\n"
     ]
    }
   ],
   "source": [
    "(X_train, y_train, X_val, y_val, X_test, y_test) = prepareRailwayData(1);\n",
    "y_pred = KMeansClassifier(X_test, X_train, y_train, K = 10)[0]\n",
    "acc = accuracy(y_pred, y_test)\n",
    "print(\"Only Coach Prediction [K-Means Classifier]:\" + str(acc))\n",
    "\n",
    "\n"
   ]
  },
  {
   "cell_type": "markdown",
   "metadata": {},
   "source": [
    "### Comments\n",
    "- Classifying only using sex as a feature gives a reasonable accuracy of 72%, wherein {male: boarded, female: not boarded}. We will treat this as our baseline\n",
    "- There is similarly a decent prediction using of 65% using only coach data, only family size or only budget prediction.\n",
    "#### We want to combine different features. \n",
    "   - Naive combination? Result:\n",
    "   - Joint distributions can't be found due to different scales for each feature. Solution?"
   ]
  },
  {
   "cell_type": "code",
   "execution_count": 147,
   "metadata": {},
   "outputs": [
    {
     "name": "stdout",
     "output_type": "stream",
     "text": [
      "Family Size + Coach + Sex Only Prediction [K-Means Classifier]:0.7534246575342466\n",
      "All Prediction [Naive ParzenWindow]:0.7534246575342466\n",
      "All Prediction [Naive KNN]:0.7168949771689498\n",
      "All Prediction [Bayes KNN]:0.7488584474885844\n"
     ]
    }
   ],
   "source": [
    "(X_train, y_train, X_val, y_val, X_test, y_test) = prepareRailwayData(1);\n",
    "\n",
    "y_pred = KMeansClassifier(X_test[:,1:4], X_train[:,1:4], y_train, K = 50)[0]\n",
    "acc = accuracy(y_pred, y_test)\n",
    "print(\"Family Size + Coach + Sex Only Prediction [K-Means Classifier]:\" + str(acc))\n",
    "\n",
    "\n"
   ]
  },
  {
   "cell_type": "code",
   "execution_count": 218,
   "metadata": {},
   "outputs": [
    {
     "name": "stdout",
     "output_type": "stream",
     "text": [
      "EigenValues:  [2.86851637e+03 1.30601697e+03 1.09044050e+03 7.09649373e+02\n",
      " 6.29224552e+02 3.74667725e+02 5.48450512e+00 2.43765685e-14]\n",
      "Reduced Dimension:  5\n",
      "\n",
      "\n",
      "\n",
      "One-Hot Prediction [Bayes MLE]:0.7671232876712328\n",
      "One-Hot Prediction [Naive MLE]:0.730593607305936\n",
      "One-Hot Prediction [K-Means]:0.7625570776255708\n",
      "One-Hot Prediction [KNN Classifier]:0.7671232876712328\n",
      "One-Hot Prediction [Bayes Parzen]:0.7625570776255708\n",
      "One-Hot Prediction [Bayes kNN]:0.7625570776255708\n",
      "One-Hot Prediction [NaiveParzen]:0.7671232876712328\n",
      "One-Hot Prediction [NaiveBayes kNN]:0.7351598173515982\n"
     ]
    }
   ],
   "source": [
    "(X_train, y_train, X_val, y_val, X_test, y_test) = prepareRailwayData(scale = 1, PCA_threshold=0.9, OneHotEncoding=1);\n",
    "print('\\n\\n')\n",
    "\n",
    "y_pred = bayesClassifier(X_test, X_train, y_train, maximumLikelyhoodEstimation)\n",
    "acc = accuracy(y_pred, y_test)\n",
    "print(\"One-Hot Prediction [Bayes MLE]:\" + str(acc))\n",
    "\n",
    "y_pred = naiveBayesClassifier(X_test, X_train, y_train, maximumLikelyhoodEstimation)\n",
    "acc = accuracy(y_pred, y_test)\n",
    "print(\"One-Hot Prediction [Naive MLE]:\" + str(acc))\n",
    "\n",
    "y_pred = KMeansClassifier(X_test, X_train, y_train, K = 10)[0]\n",
    "acc = accuracy(y_pred, y_test)\n",
    "print(\"One-Hot Prediction [K-Means]:\" + str(acc))\n",
    "\n",
    "y_pred = knnClassifier(X_test, X_train, y_train, K = 20)\n",
    "acc = accuracy(y_pred, y_test)\n",
    "print(\"One-Hot Prediction [KNN Classifier]:\" + str(acc))\n",
    "\n",
    "y_pred = bayesClassifier(X_test, X_train, y_train, parzenWindowEstimation_gaussian, .9)\n",
    "acc = accuracy(y_pred, y_test)\n",
    "print(\"One-Hot Prediction [Bayes Parzen]:\" + str(acc))\n",
    "\n",
    "y_pred = bayesClassifier(X_test, X_train, y_train, kNearestNeighboursEstimation, lambda n: 20)\n",
    "acc = accuracy(y_pred, y_test)\n",
    "print(\"One-Hot Prediction [Bayes kNN]:\" + str(acc))\n",
    "\n",
    "y_pred = naiveBayesClassifier(X_test, X_train, y_train, parzenWindowEstimation_gaussian, 0.9)\n",
    "acc = accuracy(y_pred, y_test)\n",
    "print(\"One-Hot Prediction [NaiveParzen]:\" + str(acc))\n",
    "\n",
    "y_pred = naiveBayesClassifier(X_test, X_train, y_train, kNearestNeighboursEstimation, lambda n: 15)\n",
    "acc = accuracy(y_pred, y_test)\n",
    "print(\"One-Hot Prediction [NaiveBayes kNN]:\" + str(acc))\n",
    "\n",
    "\n"
   ]
  },
  {
   "cell_type": "code",
   "execution_count": 216,
   "metadata": {},
   "outputs": [
    {
     "name": "stdout",
     "output_type": "stream",
     "text": [
      "EigenValues:  [1628.50278402 1120.9030498   717.19891568  589.65083404  308.74441647]\n",
      "Reduced Dimension:  4\n",
      "\n",
      "\n",
      "\n",
      "0.9 Prediction [Bayes MLE]:0.7488584474885844\n",
      "0.9 Prediction [Naive MLE]:0.7442922374429224\n",
      "0.9 Prediction [K-Means]:0.7534246575342466\n",
      "0.9 Prediction [KNN Classifier]:0.7488584474885844\n",
      "0.9 Prediction [Bayes Parzen]:0.7671232876712328\n",
      "0.9 Prediction [Bayes kNN]:0.726027397260274\n",
      "0.9 Prediction [NaiveBayes Parzen]:0.7488584474885844\n",
      "0.9 Prediction [NaiveBayes kNN]:0.730593607305936\n"
     ]
    }
   ],
   "source": [
    "(X_train, y_train, X_val, y_val, X_test, y_test) = prepareRailwayData(scale = 1, PCA_threshold=0.9, OneHotEncoding=0);\n",
    "print('\\n\\n')\n",
    "\n",
    "y_pred = bayesClassifier(X_test, X_train, y_train, maximumLikelyhoodEstimation)\n",
    "acc = accuracy(y_pred, y_test)\n",
    "print(\"0.9 Prediction [Bayes MLE]:\" + str(acc))\n",
    "\n",
    "y_pred = naiveBayesClassifier(X_test, X_train, y_train, maximumLikelyhoodEstimation)\n",
    "acc = accuracy(y_pred, y_test)\n",
    "print(\"0.9 Prediction [Naive MLE]:\" + str(acc))\n",
    "\n",
    "y_pred = KMeansClassifier(X_test, X_train, y_train, K = 50)[0]\n",
    "acc = accuracy(y_pred, y_test)\n",
    "print(\"0.9 Prediction [K-Means]:\" + str(acc))\n",
    "\n",
    "y_pred = knnClassifier(X_test, X_train, y_train, K = 20)\n",
    "acc = accuracy(y_pred, y_test)\n",
    "print(\"0.9 Prediction [KNN Classifier]:\" + str(acc))\n",
    "\n",
    "y_pred = bayesClassifier(X_test, X_train, y_train, parzenWindowEstimation_gaussian, .9)\n",
    "acc = accuracy(y_pred, y_test)\n",
    "print(\"0.9 Prediction [Bayes Parzen]:\" + str(acc))\n",
    "\n",
    "y_pred = bayesClassifier(X_test, X_train, y_train, kNearestNeighboursEstimation, lambda n: 20)\n",
    "acc = accuracy(y_pred, y_test)\n",
    "print(\"0.9 Prediction [Bayes kNN]:\" + str(acc))\n",
    "\n",
    "y_pred = naiveBayesClassifier(X_test, X_train, y_train, parzenWindowEstimation_gaussian, 0.8)\n",
    "acc = accuracy(y_pred, y_test)\n",
    "print(\"0.9 Prediction [NaiveBayes Parzen]:\" + str(acc))\n",
    "\n",
    "y_pred = naiveBayesClassifier(X_test, X_train, y_train, kNearestNeighboursEstimation, lambda n: 15)\n",
    "acc = accuracy(y_pred, y_test)\n",
    "print(\"0.9 Prediction [NaiveBayes kNN]:\" + str(acc))\n",
    "\n"
   ]
  },
  {
   "cell_type": "code",
   "execution_count": 217,
   "metadata": {},
   "outputs": [
    {
     "name": "stdout",
     "output_type": "stream",
     "text": [
      "\n",
      "\n",
      "\n",
      "One-Hot Prediction [Bayes MLE]:0.7534246575342466\n",
      "Prediction [Naive MLE]:0.7442922374429224\n",
      " Prediction [K-Means]:0.7579908675799086\n",
      " Prediction [KNN Classifier]:0.7579908675799086\n",
      " Prediction [Bayes Parzen]:0.7671232876712328\n",
      " Prediction [Bayes kNN]:0.7488584474885844\n",
      "Prediction [NaiveBayes Parzen]:0.7397260273972602\n",
      "Prediction [NaiveBayes kNN]:0.4429223744292237\n"
     ]
    }
   ],
   "source": [
    "(X_train, y_train, X_val, y_val, X_test, y_test) = prepareRailwayData(scale = 1);\n",
    "print('\\n\\n')\n",
    "\n",
    "y_pred = bayesClassifier(X_test, X_train, y_train, maximumLikelyhoodEstimation)\n",
    "acc = accuracy(y_pred, y_test)\n",
    "print(\"One-Hot Prediction [Bayes MLE]:\" + str(acc))\n",
    "\n",
    "y_pred = naiveBayesClassifier(X_test, X_train, y_train, maximumLikelyhoodEstimation)\n",
    "acc = accuracy(y_pred, y_test)\n",
    "print(\"Prediction [Naive MLE]:\" + str(acc))\n",
    "\n",
    "y_pred = KMeansClassifier(X_test, X_train, y_train, K = 10)[0]\n",
    "acc = accuracy(y_pred, y_test)\n",
    "print(\" Prediction [K-Means]:\" + str(acc))\n",
    "\n",
    "y_pred = knnClassifier(X_test, X_train, y_train, K = 20)\n",
    "acc = accuracy(y_pred, y_test)\n",
    "print(\" Prediction [KNN Classifier]:\" + str(acc))\n",
    "\n",
    "y_pred = bayesClassifier(X_test, X_train, y_train, parzenWindowEstimation_gaussian, .9)\n",
    "acc = accuracy(y_pred, y_test)\n",
    "print(\" Prediction [Bayes Parzen]:\" + str(acc))\n",
    "\n",
    "y_pred = bayesClassifier(X_test, X_train, y_train, kNearestNeighboursEstimation, lambda n: 20)\n",
    "acc = accuracy(y_pred, y_test)\n",
    "print(\" Prediction [Bayes kNN]:\" + str(acc))\n",
    "\n",
    "y_pred = naiveBayesClassifier(X_test, X_train, y_train, parzenWindowEstimation_gaussian, 0.9)\n",
    "acc = accuracy(y_pred, y_test)\n",
    "print(\"Prediction [NaiveBayes Parzen]:\" + str(acc))\n",
    "\n",
    "y_pred = naiveBayesClassifier(X_test, X_train, y_train, kNearestNeighboursEstimation, lambda n: 15)\n",
    "acc = accuracy(y_pred, y_test)\n",
    "print(\"Prediction [NaiveBayes kNN]:\" + str(acc))\n",
    "\n",
    "\n",
    "\n"
   ]
  },
  {
   "cell_type": "code",
   "execution_count": 214,
   "metadata": {},
   "outputs": [
    {
     "name": "stdout",
     "output_type": "stream",
     "text": [
      "\n",
      "\n",
      "\n",
      "One-Hot Prediction [Bayes MLE]:0.7488584474885844\n",
      "Prediction [Naive MLE]:0.7534246575342466\n",
      " Prediction [K-Means]:0.7397260273972602\n",
      " Prediction [KNN Classifier]:0.7579908675799086\n",
      " Prediction [Bayes Parzen]:0.7534246575342466\n",
      " Prediction [Bayes kNN]:0.7442922374429224\n",
      "Prediction [NaiveBayes Parzen]:0.7397260273972602\n",
      "Prediction [NaiveBayes kNN]:0.4931506849315068\n"
     ]
    }
   ],
   "source": [
    "(X_train, y_train, X_val, y_val, X_test, y_test) = prepareRailwayData(scale = 1);\n",
    "X_train = X_train[:, 1:4]\n",
    "X_test = X_test[:, 1:4]\n",
    "print('\\n\\n')\n",
    "\n",
    "y_pred = bayesClassifier(X_test, X_train, y_train, maximumLikelyhoodEstimation)\n",
    "acc = accuracy(y_pred, y_test)\n",
    "print(\"One-Hot Prediction [Bayes MLE]:\" + str(acc))\n",
    "\n",
    "y_pred = naiveBayesClassifier(X_test, X_train, y_train, maximumLikelyhoodEstimation)\n",
    "acc = accuracy(y_pred, y_test)\n",
    "print(\"Prediction [Naive MLE]:\" + str(acc))\n",
    "\n",
    "y_pred = KMeansClassifier(X_test, X_train, y_train, K = 10)[0]\n",
    "acc = accuracy(y_pred, y_test)\n",
    "print(\" Prediction [K-Means]:\" + str(acc))\n",
    "\n",
    "y_pred = knnClassifier(X_test, X_train, y_train, K = 20)\n",
    "acc = accuracy(y_pred, y_test)\n",
    "print(\" Prediction [KNN Classifier]:\" + str(acc))\n",
    "\n",
    "y_pred = bayesClassifier(X_test, X_train, y_train, parzenWindowEstimation_gaussian, .9)\n",
    "acc = accuracy(y_pred, y_test)\n",
    "print(\" Prediction [Bayes Parzen]:\" + str(acc))\n",
    "\n",
    "y_pred = bayesClassifier(X_test, X_train, y_train, kNearestNeighboursEstimation, lambda n: 20)\n",
    "acc = accuracy(y_pred, y_test)\n",
    "print(\" Prediction [Bayes kNN]:\" + str(acc))\n",
    "\n",
    "y_pred = naiveBayesClassifier(X_test, X_train, y_train, parzenWindowEstimation_gaussian, 0.9)\n",
    "acc = accuracy(y_pred, y_test)\n",
    "print(\"Prediction [NaiveBayes Parzen]:\" + str(acc))\n",
    "\n",
    "y_pred = naiveBayesClassifier(X_test, X_train, y_train, kNearestNeighboursEstimation, lambda n: 100)\n",
    "acc = accuracy(y_pred, y_test)\n",
    "print(\"Prediction [NaiveBayes kNN]:\" + str(acc))\n",
    "\n",
    "\n",
    "\n",
    "\n"
   ]
  },
  {
   "cell_type": "code",
   "execution_count": 237,
   "metadata": {},
   "outputs": [
    {
     "data": {
      "text/plain": [
       "(400000, 4e-05)"
      ]
     },
     "execution_count": 237,
     "metadata": {},
     "output_type": "execute_result"
    },
    {
     "data": {
      "image/png": "[encoded data removed]",
      "text/plain": [
       "<Figure size 432x288 with 1 Axes>"
      ]
     },
     "metadata": {},
     "output_type": "display_data"
    }
   ],
   "source": [
    "(X_train, y_train, X_val, y_val, X_test, y_test) = prepareRailwayData(scale = 1);\n",
    "hlist = [300000, 100000, 30000, 10000, 3000, 1000, 300, 100, 30, 10, 3, 1, 0.3, 0.1, 0.03, 0.01, 0.003, 0.001, 0.0003, 0.0001, 0.00003, 0.00001]\n",
    "acctest = []\n",
    "acctrain = []\n",
    "for h in hlist:\n",
    "    y_pred = bayesClassifier(X_test, X_train, y_train, parzenWindowEstimation_gaussian, h)\n",
    "    y_predtrain = bayesClassifier(X_train, X_train, y_train, parzenWindowEstimation_gaussian, h)\n",
    "    acctest.append(1-accuracy(y_pred, y_test))\n",
    "    acctrain.append(1-accuracy(y_predtrain, y_train))\n",
    "plt.plot(hlist,acctest, label = 'Test error')\n",
    "plt.plot(hlist,acctrain, label = 'Train error')\n",
    "plt.xlabel('h')\n",
    "plt.ylabel('Error')\n",
    "plt.title('Error vs h (Parzen Window) for Railway Data')\n",
    "plt.axis('on')\n",
    "plt.xscale('log')\n",
    "plt.legend()\n",
    "plt.xlim(400000, 0.00004)"
   ]
  },
  {
   "cell_type": "code",
   "execution_count": null,
   "metadata": {},
   "outputs": [],
   "source": []
  },
  {
   "cell_type": "code",
   "execution_count": null,
   "metadata": {},
   "outputs": [],
   "source": []
  },
  {
   "cell_type": "code",
   "execution_count": null,
   "metadata": {},
   "outputs": [],
   "source": []
  },
  {
   "cell_type": "code",
   "execution_count": null,
   "metadata": {},
   "outputs": [],
   "source": []
  },
  {
   "cell_type": "code",
   "execution_count": null,
   "metadata": {},
   "outputs": [],
   "source": []
  },
  {
   "cell_type": "code",
   "execution_count": null,
   "metadata": {},
   "outputs": [],
   "source": []
  },
  {
   "cell_type": "code",
   "execution_count": 65,
   "metadata": {},
   "outputs": [
    {
     "name": "stdout",
     "output_type": "stream",
     "text": [
      "PCA_Threshold = 0.9, P = 84\n",
      "(48000, 84)\n",
      "(12000, 84)\n",
      "(10000, 84)\n",
      "n_samples =  200\n",
      "K:  1\n"
     ]
    },
    {
     "ename": "KeyboardInterrupt",
     "evalue": "",
     "output_type": "error",
     "traceback": [
      "\u001b[0;31m---------------------------------------------------------------------------\u001b[0m",
      "\u001b[0;31mKeyboardInterrupt\u001b[0m                         Traceback (most recent call last)",
      "\u001b[0;32m<ipython-input-65-90a2ff3d72ba>\u001b[0m in \u001b[0;36m<module>\u001b[0;34m()\u001b[0m\n\u001b[1;32m     13\u001b[0m     \u001b[0mstart\u001b[0m \u001b[0;34m=\u001b[0m \u001b[0mtime\u001b[0m\u001b[0;34m.\u001b[0m\u001b[0mtime\u001b[0m\u001b[0;34m(\u001b[0m\u001b[0;34m)\u001b[0m\u001b[0;34m\u001b[0m\u001b[0m\n\u001b[1;32m     14\u001b[0m     \u001b[0mprint\u001b[0m\u001b[0;34m(\u001b[0m\u001b[0;34m\"K: \"\u001b[0m\u001b[0;34m,\u001b[0m \u001b[0mK\u001b[0m\u001b[0;34m)\u001b[0m\u001b[0;34m\u001b[0m\u001b[0m\n\u001b[0;32m---> 15\u001b[0;31m     \u001b[0my_pred\u001b[0m \u001b[0;34m=\u001b[0m \u001b[0mbayesClassifier\u001b[0m\u001b[0;34m(\u001b[0m\u001b[0mX_val\u001b[0m\u001b[0;34m[\u001b[0m\u001b[0mindices\u001b[0m\u001b[0;34m]\u001b[0m\u001b[0;34m,\u001b[0m \u001b[0mX_train\u001b[0m\u001b[0;34m,\u001b[0m \u001b[0my_train\u001b[0m\u001b[0;34m,\u001b[0m \u001b[0mparzenWindowEstimation_gaussian\u001b[0m\u001b[0;34m,\u001b[0m \u001b[0mK\u001b[0m\u001b[0;34m)\u001b[0m\u001b[0;34m\u001b[0m\u001b[0m\n\u001b[0m\u001b[1;32m     16\u001b[0m     \u001b[0;31m#print(y_pred, y_test[indices])\u001b[0m\u001b[0;34m\u001b[0m\u001b[0;34m\u001b[0m\u001b[0m\n\u001b[1;32m     17\u001b[0m     \u001b[0macc\u001b[0m \u001b[0;34m=\u001b[0m \u001b[0maccuracy\u001b[0m\u001b[0;34m(\u001b[0m\u001b[0my_pred\u001b[0m\u001b[0;34m,\u001b[0m \u001b[0my_val\u001b[0m\u001b[0;34m[\u001b[0m\u001b[0mindices\u001b[0m\u001b[0;34m]\u001b[0m\u001b[0;34m)\u001b[0m\u001b[0;34m\u001b[0m\u001b[0m\n",
      "\u001b[0;32m~/IIT Delhi/ELL409 - Machine Learning/ELL409/Assigment_1/classifiers.py\u001b[0m in \u001b[0;36mbayesClassifier\u001b[0;34m(testX, trainX, trainY, estimator, h, distanceMetric)\u001b[0m\n\u001b[1;32m     89\u001b[0m \u001b[0;32mdef\u001b[0m \u001b[0mbayesClassifier\u001b[0m\u001b[0;34m(\u001b[0m\u001b[0mtestX\u001b[0m\u001b[0;34m,\u001b[0m \u001b[0mtrainX\u001b[0m\u001b[0;34m,\u001b[0m \u001b[0mtrainY\u001b[0m\u001b[0;34m,\u001b[0m \u001b[0mestimator\u001b[0m\u001b[0;34m,\u001b[0m \u001b[0mh\u001b[0m \u001b[0;34m=\u001b[0m \u001b[0;36m1\u001b[0m \u001b[0;34m,\u001b[0m \u001b[0mdistanceMetric\u001b[0m \u001b[0;34m=\u001b[0m \u001b[0meuclideanDistance\u001b[0m\u001b[0;34m)\u001b[0m\u001b[0;34m:\u001b[0m\u001b[0;34m\u001b[0m\u001b[0m\n\u001b[1;32m     90\u001b[0m     \u001b[0mA\u001b[0m\u001b[0;34m,\u001b[0m \u001b[0mpriors\u001b[0m \u001b[0;34m=\u001b[0m \u001b[0mnp\u001b[0m\u001b[0;34m.\u001b[0m\u001b[0munique\u001b[0m\u001b[0;34m(\u001b[0m\u001b[0mtrainY\u001b[0m\u001b[0;34m,\u001b[0m \u001b[0mreturn_counts\u001b[0m \u001b[0;34m=\u001b[0m \u001b[0;32mTrue\u001b[0m\u001b[0;34m)\u001b[0m\u001b[0;34m\u001b[0m\u001b[0m\n\u001b[0;32m---> 91\u001b[0;31m     \u001b[0mq\u001b[0m \u001b[0;34m=\u001b[0m \u001b[0mnp\u001b[0m\u001b[0;34m.\u001b[0m\u001b[0marray\u001b[0m\u001b[0;34m(\u001b[0m\u001b[0;34m[\u001b[0m\u001b[0mpriors\u001b[0m\u001b[0;34m[\u001b[0m\u001b[0midx\u001b[0m\u001b[0;34m]\u001b[0m\u001b[0;34m*\u001b[0m\u001b[0mestimator\u001b[0m\u001b[0;34m(\u001b[0m\u001b[0mtestX\u001b[0m\u001b[0;34m,\u001b[0m \u001b[0mtrainX\u001b[0m\u001b[0;34m[\u001b[0m\u001b[0mnp\u001b[0m\u001b[0;34m.\u001b[0m\u001b[0mwhere\u001b[0m\u001b[0;34m(\u001b[0m\u001b[0mtrainY\u001b[0m \u001b[0;34m==\u001b[0m \u001b[0mA\u001b[0m\u001b[0;34m[\u001b[0m\u001b[0midx\u001b[0m\u001b[0;34m]\u001b[0m\u001b[0;34m)\u001b[0m\u001b[0;34m]\u001b[0m\u001b[0;34m,\u001b[0m \u001b[0mh\u001b[0m\u001b[0;34m,\u001b[0m \u001b[0mdistanceMetric\u001b[0m\u001b[0;34m)\u001b[0m \u001b[0;32mfor\u001b[0m \u001b[0midx\u001b[0m \u001b[0;32min\u001b[0m \u001b[0mrange\u001b[0m\u001b[0;34m(\u001b[0m\u001b[0mlen\u001b[0m\u001b[0;34m(\u001b[0m\u001b[0mA\u001b[0m\u001b[0;34m)\u001b[0m\u001b[0;34m)\u001b[0m\u001b[0;34m]\u001b[0m\u001b[0;34m)\u001b[0m\u001b[0;34m\u001b[0m\u001b[0m\n\u001b[0m\u001b[1;32m     92\u001b[0m     \u001b[0;32mreturn\u001b[0m \u001b[0mnp\u001b[0m\u001b[0;34m.\u001b[0m\u001b[0marray\u001b[0m\u001b[0;34m(\u001b[0m\u001b[0;34m[\u001b[0m\u001b[0mA\u001b[0m\u001b[0;34m[\u001b[0m\u001b[0midx\u001b[0m\u001b[0;34m]\u001b[0m \u001b[0;32mfor\u001b[0m \u001b[0midx\u001b[0m \u001b[0;32min\u001b[0m \u001b[0mnp\u001b[0m\u001b[0;34m.\u001b[0m\u001b[0margmax\u001b[0m\u001b[0;34m(\u001b[0m\u001b[0mq\u001b[0m\u001b[0;34m,\u001b[0m \u001b[0maxis\u001b[0m \u001b[0;34m=\u001b[0m \u001b[0;36m0\u001b[0m\u001b[0;34m)\u001b[0m\u001b[0;34m]\u001b[0m\u001b[0;34m)\u001b[0m\u001b[0;34m\u001b[0m\u001b[0m\n\u001b[1;32m     93\u001b[0m \u001b[0;34m\u001b[0m\u001b[0m\n",
      "\u001b[0;32m~/IIT Delhi/ELL409 - Machine Learning/ELL409/Assigment_1/classifiers.py\u001b[0m in \u001b[0;36m<listcomp>\u001b[0;34m(.0)\u001b[0m\n\u001b[1;32m     89\u001b[0m \u001b[0;32mdef\u001b[0m \u001b[0mbayesClassifier\u001b[0m\u001b[0;34m(\u001b[0m\u001b[0mtestX\u001b[0m\u001b[0;34m,\u001b[0m \u001b[0mtrainX\u001b[0m\u001b[0;34m,\u001b[0m \u001b[0mtrainY\u001b[0m\u001b[0;34m,\u001b[0m \u001b[0mestimator\u001b[0m\u001b[0;34m,\u001b[0m \u001b[0mh\u001b[0m \u001b[0;34m=\u001b[0m \u001b[0;36m1\u001b[0m \u001b[0;34m,\u001b[0m \u001b[0mdistanceMetric\u001b[0m \u001b[0;34m=\u001b[0m \u001b[0meuclideanDistance\u001b[0m\u001b[0;34m)\u001b[0m\u001b[0;34m:\u001b[0m\u001b[0;34m\u001b[0m\u001b[0m\n\u001b[1;32m     90\u001b[0m     \u001b[0mA\u001b[0m\u001b[0;34m,\u001b[0m \u001b[0mpriors\u001b[0m \u001b[0;34m=\u001b[0m \u001b[0mnp\u001b[0m\u001b[0;34m.\u001b[0m\u001b[0munique\u001b[0m\u001b[0;34m(\u001b[0m\u001b[0mtrainY\u001b[0m\u001b[0;34m,\u001b[0m \u001b[0mreturn_counts\u001b[0m \u001b[0;34m=\u001b[0m \u001b[0;32mTrue\u001b[0m\u001b[0;34m)\u001b[0m\u001b[0;34m\u001b[0m\u001b[0m\n\u001b[0;32m---> 91\u001b[0;31m     \u001b[0mq\u001b[0m \u001b[0;34m=\u001b[0m \u001b[0mnp\u001b[0m\u001b[0;34m.\u001b[0m\u001b[0marray\u001b[0m\u001b[0;34m(\u001b[0m\u001b[0;34m[\u001b[0m\u001b[0mpriors\u001b[0m\u001b[0;34m[\u001b[0m\u001b[0midx\u001b[0m\u001b[0;34m]\u001b[0m\u001b[0;34m*\u001b[0m\u001b[0mestimator\u001b[0m\u001b[0;34m(\u001b[0m\u001b[0mtestX\u001b[0m\u001b[0;34m,\u001b[0m \u001b[0mtrainX\u001b[0m\u001b[0;34m[\u001b[0m\u001b[0mnp\u001b[0m\u001b[0;34m.\u001b[0m\u001b[0mwhere\u001b[0m\u001b[0;34m(\u001b[0m\u001b[0mtrainY\u001b[0m \u001b[0;34m==\u001b[0m \u001b[0mA\u001b[0m\u001b[0;34m[\u001b[0m\u001b[0midx\u001b[0m\u001b[0;34m]\u001b[0m\u001b[0;34m)\u001b[0m\u001b[0;34m]\u001b[0m\u001b[0;34m,\u001b[0m \u001b[0mh\u001b[0m\u001b[0;34m,\u001b[0m \u001b[0mdistanceMetric\u001b[0m\u001b[0;34m)\u001b[0m \u001b[0;32mfor\u001b[0m \u001b[0midx\u001b[0m \u001b[0;32min\u001b[0m \u001b[0mrange\u001b[0m\u001b[0;34m(\u001b[0m\u001b[0mlen\u001b[0m\u001b[0;34m(\u001b[0m\u001b[0mA\u001b[0m\u001b[0;34m)\u001b[0m\u001b[0;34m)\u001b[0m\u001b[0;34m]\u001b[0m\u001b[0;34m)\u001b[0m\u001b[0;34m\u001b[0m\u001b[0m\n\u001b[0m\u001b[1;32m     92\u001b[0m     \u001b[0;32mreturn\u001b[0m \u001b[0mnp\u001b[0m\u001b[0;34m.\u001b[0m\u001b[0marray\u001b[0m\u001b[0;34m(\u001b[0m\u001b[0;34m[\u001b[0m\u001b[0mA\u001b[0m\u001b[0;34m[\u001b[0m\u001b[0midx\u001b[0m\u001b[0;34m]\u001b[0m \u001b[0;32mfor\u001b[0m \u001b[0midx\u001b[0m \u001b[0;32min\u001b[0m \u001b[0mnp\u001b[0m\u001b[0;34m.\u001b[0m\u001b[0margmax\u001b[0m\u001b[0;34m(\u001b[0m\u001b[0mq\u001b[0m\u001b[0;34m,\u001b[0m \u001b[0maxis\u001b[0m \u001b[0;34m=\u001b[0m \u001b[0;36m0\u001b[0m\u001b[0;34m)\u001b[0m\u001b[0;34m]\u001b[0m\u001b[0;34m)\u001b[0m\u001b[0;34m\u001b[0m\u001b[0m\n\u001b[1;32m     93\u001b[0m \u001b[0;34m\u001b[0m\u001b[0m\n",
      "\u001b[0;32m~/IIT Delhi/ELL409 - Machine Learning/ELL409/Assigment_1/classifiers.py\u001b[0m in \u001b[0;36mparzenWindowEstimation_gaussian\u001b[0;34m(testX, trainX, h, distanceMetric)\u001b[0m\n\u001b[1;32m     56\u001b[0m \u001b[0;32mdef\u001b[0m \u001b[0mparzenWindowEstimation_gaussian\u001b[0m\u001b[0;34m(\u001b[0m\u001b[0mtestX\u001b[0m\u001b[0;34m,\u001b[0m \u001b[0mtrainX\u001b[0m\u001b[0;34m,\u001b[0m \u001b[0mh\u001b[0m \u001b[0;34m=\u001b[0m \u001b[0;36m1\u001b[0m\u001b[0;34m,\u001b[0m \u001b[0mdistanceMetric\u001b[0m \u001b[0;34m=\u001b[0m \u001b[0meuclideanDistance\u001b[0m\u001b[0;34m)\u001b[0m\u001b[0;34m:\u001b[0m\u001b[0;34m\u001b[0m\u001b[0m\n\u001b[1;32m     57\u001b[0m     \u001b[0md\u001b[0m \u001b[0;34m=\u001b[0m \u001b[0mtrainX\u001b[0m\u001b[0;34m.\u001b[0m\u001b[0mshape\u001b[0m\u001b[0;34m[\u001b[0m\u001b[0;36m1\u001b[0m\u001b[0;34m]\u001b[0m\u001b[0;34m\u001b[0m\u001b[0m\n\u001b[0;32m---> 58\u001b[0;31m     \u001b[0mestimates\u001b[0m \u001b[0;34m=\u001b[0m \u001b[0mnp\u001b[0m\u001b[0;34m.\u001b[0m\u001b[0marray\u001b[0m\u001b[0;34m(\u001b[0m\u001b[0;34m[\u001b[0m\u001b[0mnp\u001b[0m\u001b[0;34m.\u001b[0m\u001b[0mmean\u001b[0m\u001b[0;34m(\u001b[0m\u001b[0mnp\u001b[0m\u001b[0;34m.\u001b[0m\u001b[0mexp\u001b[0m\u001b[0;34m(\u001b[0m\u001b[0;34m-\u001b[0m\u001b[0mnp\u001b[0m\u001b[0;34m.\u001b[0m\u001b[0msquare\u001b[0m\u001b[0;34m(\u001b[0m\u001b[0mdistanceMetric\u001b[0m\u001b[0;34m(\u001b[0m\u001b[0mtrainX\u001b[0m\u001b[0;34m,\u001b[0m \u001b[0mtestx\u001b[0m\u001b[0;34m)\u001b[0m\u001b[0;34m)\u001b[0m\u001b[0;34m/\u001b[0m\u001b[0;34m(\u001b[0m\u001b[0;36m2\u001b[0m\u001b[0;34m*\u001b[0m\u001b[0;34m(\u001b[0m\u001b[0mh\u001b[0m\u001b[0;34m*\u001b[0m\u001b[0mh\u001b[0m\u001b[0;34m)\u001b[0m\u001b[0;34m)\u001b[0m\u001b[0;34m)\u001b[0m\u001b[0;34m/\u001b[0m\u001b[0mh\u001b[0m\u001b[0;34m)\u001b[0m \u001b[0;32mfor\u001b[0m \u001b[0mtestx\u001b[0m \u001b[0;32min\u001b[0m \u001b[0mtestX\u001b[0m\u001b[0;34m]\u001b[0m\u001b[0;34m)\u001b[0m\u001b[0;34m\u001b[0m\u001b[0m\n\u001b[0m\u001b[1;32m     59\u001b[0m     \u001b[0;32mreturn\u001b[0m \u001b[0mestimates\u001b[0m\u001b[0;34m\u001b[0m\u001b[0m\n\u001b[1;32m     60\u001b[0m \u001b[0;34m\u001b[0m\u001b[0m\n",
      "\u001b[0;32m~/IIT Delhi/ELL409 - Machine Learning/ELL409/Assigment_1/classifiers.py\u001b[0m in \u001b[0;36m<listcomp>\u001b[0;34m(.0)\u001b[0m\n\u001b[1;32m     56\u001b[0m \u001b[0;32mdef\u001b[0m \u001b[0mparzenWindowEstimation_gaussian\u001b[0m\u001b[0;34m(\u001b[0m\u001b[0mtestX\u001b[0m\u001b[0;34m,\u001b[0m \u001b[0mtrainX\u001b[0m\u001b[0;34m,\u001b[0m \u001b[0mh\u001b[0m \u001b[0;34m=\u001b[0m \u001b[0;36m1\u001b[0m\u001b[0;34m,\u001b[0m \u001b[0mdistanceMetric\u001b[0m \u001b[0;34m=\u001b[0m \u001b[0meuclideanDistance\u001b[0m\u001b[0;34m)\u001b[0m\u001b[0;34m:\u001b[0m\u001b[0;34m\u001b[0m\u001b[0m\n\u001b[1;32m     57\u001b[0m     \u001b[0md\u001b[0m \u001b[0;34m=\u001b[0m \u001b[0mtrainX\u001b[0m\u001b[0;34m.\u001b[0m\u001b[0mshape\u001b[0m\u001b[0;34m[\u001b[0m\u001b[0;36m1\u001b[0m\u001b[0;34m]\u001b[0m\u001b[0;34m\u001b[0m\u001b[0m\n\u001b[0;32m---> 58\u001b[0;31m     \u001b[0mestimates\u001b[0m \u001b[0;34m=\u001b[0m \u001b[0mnp\u001b[0m\u001b[0;34m.\u001b[0m\u001b[0marray\u001b[0m\u001b[0;34m(\u001b[0m\u001b[0;34m[\u001b[0m\u001b[0mnp\u001b[0m\u001b[0;34m.\u001b[0m\u001b[0mmean\u001b[0m\u001b[0;34m(\u001b[0m\u001b[0mnp\u001b[0m\u001b[0;34m.\u001b[0m\u001b[0mexp\u001b[0m\u001b[0;34m(\u001b[0m\u001b[0;34m-\u001b[0m\u001b[0mnp\u001b[0m\u001b[0;34m.\u001b[0m\u001b[0msquare\u001b[0m\u001b[0;34m(\u001b[0m\u001b[0mdistanceMetric\u001b[0m\u001b[0;34m(\u001b[0m\u001b[0mtrainX\u001b[0m\u001b[0;34m,\u001b[0m \u001b[0mtestx\u001b[0m\u001b[0;34m)\u001b[0m\u001b[0;34m)\u001b[0m\u001b[0;34m/\u001b[0m\u001b[0;34m(\u001b[0m\u001b[0;36m2\u001b[0m\u001b[0;34m*\u001b[0m\u001b[0;34m(\u001b[0m\u001b[0mh\u001b[0m\u001b[0;34m*\u001b[0m\u001b[0mh\u001b[0m\u001b[0;34m)\u001b[0m\u001b[0;34m)\u001b[0m\u001b[0;34m)\u001b[0m\u001b[0;34m/\u001b[0m\u001b[0mh\u001b[0m\u001b[0;34m)\u001b[0m \u001b[0;32mfor\u001b[0m \u001b[0mtestx\u001b[0m \u001b[0;32min\u001b[0m \u001b[0mtestX\u001b[0m\u001b[0;34m]\u001b[0m\u001b[0;34m)\u001b[0m\u001b[0;34m\u001b[0m\u001b[0m\n\u001b[0m\u001b[1;32m     59\u001b[0m     \u001b[0;32mreturn\u001b[0m \u001b[0mestimates\u001b[0m\u001b[0;34m\u001b[0m\u001b[0m\n\u001b[1;32m     60\u001b[0m \u001b[0;34m\u001b[0m\u001b[0m\n",
      "\u001b[0;32m~/IIT Delhi/ELL409 - Machine Learning/ELL409/Assigment_1/distance_metrics.py\u001b[0m in \u001b[0;36meuclideanDistance\u001b[0;34m(X, y)\u001b[0m\n\u001b[1;32m     18\u001b[0m \u001b[0;32mdef\u001b[0m \u001b[0meuclideanDistance\u001b[0m \u001b[0;34m(\u001b[0m\u001b[0mX\u001b[0m\u001b[0;34m,\u001b[0m\u001b[0my\u001b[0m\u001b[0;34m)\u001b[0m\u001b[0;34m:\u001b[0m\u001b[0;34m\u001b[0m\u001b[0m\n\u001b[1;32m     19\u001b[0m     \u001b[0;32mif\u001b[0m \u001b[0mlen\u001b[0m\u001b[0;34m(\u001b[0m\u001b[0mX\u001b[0m\u001b[0;34m.\u001b[0m\u001b[0mshape\u001b[0m\u001b[0;34m)\u001b[0m\u001b[0;34m==\u001b[0m\u001b[0;36m1\u001b[0m\u001b[0;34m:\u001b[0m \u001b[0;32mreturn\u001b[0m \u001b[0mnp\u001b[0m\u001b[0;34m.\u001b[0m\u001b[0msqrt\u001b[0m\u001b[0;34m(\u001b[0m\u001b[0mnp\u001b[0m\u001b[0;34m.\u001b[0m\u001b[0msum\u001b[0m\u001b[0;34m(\u001b[0m\u001b[0mnp\u001b[0m\u001b[0;34m.\u001b[0m\u001b[0msquare\u001b[0m\u001b[0;34m(\u001b[0m\u001b[0mX\u001b[0m\u001b[0;34m-\u001b[0m\u001b[0my\u001b[0m\u001b[0;34m)\u001b[0m\u001b[0;34m)\u001b[0m\u001b[0;34m)\u001b[0m\u001b[0;34m\u001b[0m\u001b[0m\n\u001b[0;32m---> 20\u001b[0;31m     \u001b[0;32melse\u001b[0m\u001b[0;34m:\u001b[0m \u001b[0;32mreturn\u001b[0m \u001b[0mnp\u001b[0m\u001b[0;34m.\u001b[0m\u001b[0msqrt\u001b[0m\u001b[0;34m(\u001b[0m\u001b[0mnp\u001b[0m\u001b[0;34m.\u001b[0m\u001b[0msum\u001b[0m\u001b[0;34m(\u001b[0m\u001b[0;34m(\u001b[0m\u001b[0mnp\u001b[0m\u001b[0;34m.\u001b[0m\u001b[0msquare\u001b[0m\u001b[0;34m(\u001b[0m\u001b[0mX\u001b[0m \u001b[0;34m-\u001b[0m \u001b[0my\u001b[0m\u001b[0;34m)\u001b[0m\u001b[0;34m)\u001b[0m\u001b[0;34m,\u001b[0m \u001b[0maxis\u001b[0m \u001b[0;34m=\u001b[0m \u001b[0;36m1\u001b[0m\u001b[0;34m)\u001b[0m\u001b[0;34m)\u001b[0m\u001b[0;34m\u001b[0m\u001b[0m\n\u001b[0m\u001b[1;32m     21\u001b[0m \u001b[0;32mdef\u001b[0m \u001b[0mmanhattenDistance\u001b[0m \u001b[0;34m(\u001b[0m\u001b[0mX\u001b[0m\u001b[0;34m,\u001b[0m\u001b[0my\u001b[0m\u001b[0;34m)\u001b[0m\u001b[0;34m:\u001b[0m\u001b[0;34m\u001b[0m\u001b[0m\n\u001b[1;32m     22\u001b[0m     \u001b[0;32mif\u001b[0m \u001b[0mlen\u001b[0m\u001b[0;34m(\u001b[0m\u001b[0mX\u001b[0m\u001b[0;34m.\u001b[0m\u001b[0mshape\u001b[0m\u001b[0;34m)\u001b[0m\u001b[0;34m==\u001b[0m\u001b[0;36m1\u001b[0m\u001b[0;34m:\u001b[0m \u001b[0;32mreturn\u001b[0m \u001b[0mnp\u001b[0m\u001b[0;34m.\u001b[0m\u001b[0msum\u001b[0m\u001b[0;34m(\u001b[0m\u001b[0mnp\u001b[0m\u001b[0;34m.\u001b[0m\u001b[0mabs\u001b[0m\u001b[0;34m(\u001b[0m\u001b[0mX\u001b[0m\u001b[0;34m-\u001b[0m\u001b[0my\u001b[0m\u001b[0;34m)\u001b[0m\u001b[0;34m)\u001b[0m\u001b[0;34m\u001b[0m\u001b[0m\n",
      "\u001b[0;31mKeyboardInterrupt\u001b[0m: "
     ]
    }
   ],
   "source": [
    "\n",
    "\n",
    "(X_train, y_train, X_val, y_val, X_test, y_test) = prepareFMNISTData(0, 0.9);\n",
    "print(X_train.shape)\n",
    "print(X_val.shape)\n",
    "print(X_test.shape)\n",
    "\n",
    "\n",
    "n_samples = 200\n",
    "print(\"n_samples = \", n_samples)\n",
    "indices = random.sample(range(0, 10000), n_samples)\n",
    "for K in [1, 3, 10, 30, 100, 300, 1000, 3000]:\n",
    "    start = time.time()\n",
    "    print(\"K: \", K)\n",
    "    y_pred = bayesClassifier(X_val[indices], X_train, y_train, parzenWindowEstimation_gaussian, K) \n",
    "    #print(y_pred, y_test[indices])\n",
    "    acc = accuracy(y_pred, y_val[indices])\n",
    "    end = time.time()\n",
    "\n",
    "    print(\"accuracy: \", acc)\n",
    "    print(\"time taken: \", end-start)\n",
    "\n",
    "    \n",
    "#Accuracy peaks for K=30\n",
    "K = 30\n",
    "y_pred = bayesClassifier(X_test[indices], X_train, y_train, parzenWindowEstimation_gaussian, K) \n",
    "acc = accuracy(y_pred, y_test[indices])\n",
    "print(\"K: \", K)\n",
    "print(\"accuracy_test: \", acc)\n",
    "\n"
   ]
  },
  {
   "cell_type": "code",
   "execution_count": 404,
   "metadata": {},
   "outputs": [
    {
     "data": {
      "text/plain": [
       "199"
      ]
     },
     "execution_count": 404,
     "metadata": {},
     "output_type": "execute_result"
    }
   ],
   "source": [
    "p"
   ]
  },
  {
   "cell_type": "code",
   "execution_count": null,
   "metadata": {},
   "outputs": [],
   "source": []
  },
  {
   "cell_type": "code",
   "execution_count": null,
   "metadata": {},
   "outputs": [],
   "source": []
  },
  {
   "cell_type": "code",
   "execution_count": null,
   "metadata": {},
   "outputs": [],
   "source": []
  },
  {
   "cell_type": "code",
   "execution_count": 3,
   "metadata": {},
   "outputs": [
    {
     "name": "stdout",
     "output_type": "stream",
     "text": [
      "\n",
      "Train, Validation, Test\n",
      "(2000, 3) (2000,)\n",
      "(500, 3) (500,)\n",
      "(500, 3) (500,)\n"
     ]
    }
   ],
   "source": [
    "##MEDICAL DATA\n",
    "(X_train, y_train, X_val, y_val, X_test, y_test) = prepareMedicalData()\n",
    "print()\n",
    "print(\"Train, Validation, Test\")\n",
    "print(X_train.shape, y_train.shape)\n",
    "print(X_val.shape, y_val.shape)\n",
    "print(X_test.shape, y_test.shape)\n",
    "\n",
    "\n"
   ]
  },
  {
   "cell_type": "code",
   "execution_count": 4,
   "metadata": {},
   "outputs": [
    {
     "name": "stdout",
     "output_type": "stream",
     "text": [
      "K:  1\n",
      "accuracy_validation:  0.886\n",
      "K:  3\n",
      "accuracy_validation:  0.874\n",
      "K:  10\n",
      "accuracy_validation:  0.868\n",
      "K:  30\n",
      "accuracy_validation:  0.87\n",
      "K:  100\n",
      "accuracy_validation:  0.856\n",
      "K:  300\n",
      "accuracy_validation:  0.796\n",
      "\n",
      "\n",
      "\n",
      "\n",
      "K:  1\n",
      "accuracy_test:  0.88\n"
     ]
    }
   ],
   "source": [
    "#KNN\n",
    "(X_train, y_train, X_val, y_val, X_test, y_test) = prepareMedicalData(0)\n",
    "for K in [1, 3, 10, 30, 100, 300]:\n",
    "    start = time.time()\n",
    "    y_pred = knnClassifier(X_val, X_train, y_train, K, euclideanDistance )\n",
    "    acc = accuracy(y_pred, y_val)\n",
    "    end = time.time()\n",
    "    print(\"K: \", K)\n",
    "    print(\"accuracy_validation: \", acc)\n",
    "    #print(\"time taken: \", end-start)\n",
    "\n",
    "print(\"\\n\\n\\n\")\n",
    "#Accuracy peaks for K=1\n",
    "K = 1\n",
    "y_pred = knnClassifier(X_test, X_train, y_train, K, euclideanDistance )\n",
    "acc = accuracy(y_pred, y_test)\n",
    "print(\"K: \", K)\n",
    "print(\"accuracy_test: \", acc)\n",
    "\n"
   ]
  },
  {
   "cell_type": "code",
   "execution_count": null,
   "metadata": {
    "collapsed": true
   },
   "outputs": [],
   "source": []
  },
  {
   "cell_type": "code",
   "execution_count": 2,
   "metadata": {},
   "outputs": [
    {
     "name": "stdout",
     "output_type": "stream",
     "text": [
      "K:  1\n",
      "accuracy_validation:  0.882\n",
      "K:  3\n",
      "accuracy_validation:  0.87\n",
      "K:  10\n",
      "accuracy_validation:  0.87\n",
      "K:  30\n",
      "accuracy_validation:  0.874\n",
      "K:  100\n",
      "accuracy_validation:  0.858\n",
      "K:  300\n",
      "accuracy_validation:  0.802\n",
      "\n",
      "\n",
      "\n",
      "\n",
      "K:  1\n",
      "accuracy_test:  0.878\n"
     ]
    }
   ],
   "source": [
    "#Normalized KNN\n",
    "(X_train, y_train, X_val, y_val, X_test, y_test) = prepareMedicalData(1)\n",
    "for K in [1, 3, 10, 30, 100, 300]:\n",
    "    start = time.time()\n",
    "    y_pred = knnClassifier(X_val, X_train, y_train, K, euclideanDistance )\n",
    "    acc = accuracy(y_pred, y_val)\n",
    "    end = time.time()\n",
    "    print(\"K: \", K)\n",
    "    print(\"accuracy_validation: \", acc)\n",
    "    #print(\"time taken: \", end-start)\n",
    "\n",
    "print(\"\\n\\n\\n\")\n",
    "#Accuracy peaks for K=1\n",
    "K = 1\n",
    "y_pred = knnClassifier(X_test, X_train, y_train, K, euclideanDistance )\n",
    "acc = accuracy(y_pred, y_test)\n",
    "print(\"K: \", K)\n",
    "print(\"accuracy_test: \", acc)\n",
    "\n",
    "\n"
   ]
  },
  {
   "cell_type": "code",
   "execution_count": 6,
   "metadata": {},
   "outputs": [
    {
     "name": "stdout",
     "output_type": "stream",
     "text": [
      "H:  <ufunc 'sqrt'>\n",
      "accuracy_validation:  0.85\n",
      "time taken:  0.09196090698242188\n",
      "H:  <ufunc 'absolute'>\n",
      "accuracy_validation:  0.526\n",
      "time taken:  0.07190608978271484\n",
      "H:  <ufunc 'log'>\n",
      "accuracy_validation:  0.876\n",
      "time taken:  0.08338785171508789\n",
      "H:  <function <lambda> at 0x10b0ca730>\n",
      "accuracy_validation:  0.73\n",
      "time taken:  0.09158515930175781\n",
      "\n",
      "\n",
      "\n",
      "\n",
      "H:  <ufunc 'log'>\n",
      "accuracy_test:  0.86\n"
     ]
    }
   ],
   "source": [
    "#ParzenWindow  Bayes\n",
    "(X_train, y_train, X_val, y_val, X_test, y_test) = prepareMedicalData(1)\n",
    "for H in [np.sqrt, np.abs, np.log, lambda n: n/2]:\n",
    "    start = time.time()\n",
    "    y_pred = bayesClassifier(X_val, X_train, y_train, kNearestNeighboursEstimation, H)\n",
    "    \n",
    "    acc = accuracy(y_pred, y_val)\n",
    "    end = time.time()\n",
    "    print(\"H: \", H)\n",
    "    print(\"accuracy_validation: \", acc)\n",
    "    print(\"time taken: \", end-start)\n",
    "\n",
    "print(\"\\n\\n\\n\")\n",
    "#Accuracy peaks for H = 0.1\n",
    "H = np.log\n",
    "y_pred = bayesClassifier(X_test, X_train, y_train, kNearestNeighboursEstimation, H)\n",
    "acc = accuracy(y_pred, y_test)\n",
    "print(\"H: \", H)\n",
    "print(\"accuracy_test: \", acc)\n",
    "\n"
   ]
  },
  {
   "cell_type": "code",
   "execution_count": 89,
   "metadata": {},
   "outputs": [
    {
     "name": "stdout",
     "output_type": "stream",
     "text": [
      "H:  0.001\n",
      "accuracy_validation:  0.368\n",
      "time taken:  0.10532307624816895\n",
      "H:  0.003\n",
      "accuracy_validation:  0.664\n",
      "time taken:  0.11775469779968262\n",
      "H:  0.01\n",
      "accuracy_validation:  0.874\n",
      "time taken:  0.13130497932434082\n",
      "H:  0.03\n",
      "accuracy_validation:  0.884\n",
      "time taken:  0.10846519470214844\n",
      "H:  0.1\n",
      "accuracy_validation:  0.89\n",
      "time taken:  0.16126799583435059\n",
      "H:  0.3\n",
      "accuracy_validation:  0.882\n",
      "time taken:  0.12857317924499512\n",
      "H:  1\n",
      "accuracy_validation:  0.796\n",
      "time taken:  0.11747503280639648\n",
      "H:  3\n",
      "accuracy_validation:  0.716\n",
      "time taken:  0.13397002220153809\n",
      "H:  10\n",
      "accuracy_validation:  0.322\n",
      "time taken:  0.11418485641479492\n",
      "H:  30\n",
      "accuracy_validation:  0.322\n",
      "time taken:  0.13682007789611816\n",
      "H:  100\n",
      "accuracy_validation:  0.322\n",
      "time taken:  0.1607828140258789\n",
      "H:  300\n",
      "accuracy_validation:  0.322\n",
      "time taken:  0.13089632987976074\n",
      "\n",
      "\n",
      "\n",
      "\n",
      "H:  0.1\n",
      "accuracy_test:  0.882\n"
     ]
    }
   ],
   "source": [
    "\n"
   ]
  },
  {
   "cell_type": "code",
   "execution_count": 7,
   "metadata": {},
   "outputs": [
    {
     "name": "stdout",
     "output_type": "stream",
     "text": [
      "Train, Validation, Test\n",
      "(873, 5) (873,)\n",
      "(218, 5) (218,)\n",
      "(219, 5) (219,)\n"
     ]
    }
   ],
   "source": [
    "\n",
    "\n",
    "\n",
    "(X_train, y_train, X_val, y_val, X_test, y_test) = prepareRailwayData()\n",
    "#print(railwayData.head())\n",
    "#print()\n",
    "#print(\"GROUPED Mean\")\n",
    "#print(railwayData[['boarded', 'budget', 'preferredClass', 'memberCount', 'sex', 'age']].groupby('sex').mean())\n",
    "#print()\n",
    "print(\"Train, Validation, Test\")\n",
    "print(X_train.shape, y_train.shape)\n",
    "print(X_val.shape, y_val.shape)\n",
    "print(X_test.shape, y_test.shape)\n",
    "\n"
   ]
  },
  {
   "cell_type": "code",
   "execution_count": 8,
   "metadata": {
    "scrolled": true
   },
   "outputs": [
    {
     "name": "stdout",
     "output_type": "stream",
     "text": [
      "K:  1\n",
      "accuracy_validation:  0.7155963302752294\n",
      "K:  3\n",
      "accuracy_validation:  0.7844036697247706\n",
      "K:  10\n",
      "accuracy_validation:  0.7477064220183486\n",
      "K:  30\n",
      "accuracy_validation:  0.7385321100917431\n",
      "K:  100\n",
      "accuracy_validation:  0.6788990825688074\n",
      "K:  300\n",
      "accuracy_validation:  0.6972477064220184\n",
      "\n",
      "\n",
      "\n",
      "\n",
      "K:  3\n",
      "accuracy_test:  0.6940639269406392\n"
     ]
    }
   ],
   "source": [
    "\n",
    "#Unnormalized KNN with Euclidean Distance\n",
    "(X_train, y_train, X_val, y_val, X_test, y_test) = prepareRailwayData(scale = 0)\n",
    "for K in [1, 3, 10, 30, 100, 300]:\n",
    "    start = time.time()\n",
    "    y_pred = knnClassifier(X_val, X_train, y_train, K, euclideanDistance )\n",
    "    acc = accuracy(y_pred, y_val)\n",
    "    end = time.time()\n",
    "    print(\"K: \", K)\n",
    "    print(\"accuracy_validation: \", acc)\n",
    "    #print(\"time taken: \", end-start)\n",
    "\n",
    "print(\"\\n\\n\\n\")\n",
    "#Accuracy peaks for K=3\n",
    "K = 3\n",
    "y_pred = knnClassifier(X_test, X_train, y_train, K, euclideanDistance )\n",
    "acc = accuracy(y_pred, y_test)\n",
    "print(\"K: \", K)\n",
    "print(\"accuracy_test: \", acc)\n",
    "\n"
   ]
  },
  {
   "cell_type": "code",
   "execution_count": 3,
   "metadata": {
    "scrolled": true
   },
   "outputs": [
    {
     "name": "stdout",
     "output_type": "stream",
     "text": [
      "K:  1\n",
      "accuracy_validation:  0.7155963302752294\n",
      "K:  3\n",
      "accuracy_validation:  0.7889908256880734\n",
      "K:  10\n",
      "accuracy_validation:  0.7889908256880734\n",
      "K:  30\n",
      "accuracy_validation:  0.7935779816513762\n",
      "K:  100\n",
      "accuracy_validation:  0.7752293577981652\n",
      "K:  300\n",
      "accuracy_validation:  0.8027522935779816\n",
      "\n",
      "\n",
      "\n",
      "\n",
      "K:  30\n",
      "accuracy_test:  0.7488584474885844\n"
     ]
    }
   ],
   "source": [
    "# Normalized KNN with Euclidean Distance\n",
    "(X_train, y_train, X_val, y_val, X_test, y_test) = prepareRailwayData(scale = 1)\n",
    "for K in [1, 3, 10, 30, 100, 300]:\n",
    "    start = time.time()\n",
    "    y_pred = knnClassifier(X_val, X_train, y_train, K, euclideanDistance )\n",
    "    acc = accuracy(y_pred, y_val)\n",
    "    end = time.time()\n",
    "    print(\"K: \", K)\n",
    "    print(\"accuracy_validation: \", acc)\n",
    "    #print(\"time taken: \", end-start)\n",
    "\n",
    "print(\"\\n\\n\\n\")\n",
    "#Accuracy peaks for K=30\n",
    "K = 30\n",
    "y_pred = knnClassifier(X_test, X_train, y_train, K, euclideanDistance)\n",
    "acc = accuracy(y_pred, y_test)\n",
    "print(\"K: \", K)\n",
    "print(\"accuracy_test: \", acc)\n",
    "\n",
    "\n",
    "\n"
   ]
  },
  {
   "cell_type": "code",
   "execution_count": 212,
   "metadata": {},
   "outputs": [],
   "source": [
    "\n",
    "    \n"
   ]
  },
  {
   "cell_type": "code",
   "execution_count": 167,
   "metadata": {},
   "outputs": [],
   "source": [
    "(X_train, y_train, X_val, y_val, X_test, y_test) = prepareFMNISTData(0)"
   ]
  },
  {
   "cell_type": "code",
   "execution_count": 171,
   "metadata": {},
   "outputs": [],
   "source": [
    "[Z, p, X, U, W] = PCA(X_train)"
   ]
  },
  {
   "cell_type": "code",
   "execution_count": 176,
   "metadata": {},
   "outputs": [
    {
     "data": {
      "text/plain": [
       "<matplotlib.image.AxesImage at 0x112239438>"
      ]
     },
     "execution_count": 176,
     "metadata": {},
     "output_type": "execute_result"
    },
    {
     "data": {
      "image/png": "[encoded data removed]",
      "text/plain": [
       "<Figure size 432x288 with 1 Axes>"
      ]
     },
     "metadata": {},
     "output_type": "display_data"
    }
   ],
   "source": [
    "#plt.imshow(X_train[0].reshape(28,28))\n",
    "plt.imshow(X[0].reshape(28,28))"
   ]
  },
  {
   "cell_type": "code",
   "execution_count": 220,
   "metadata": {
    "scrolled": false
   },
   "outputs": [
    {
     "data": {
      "image/png": "[encoded data removed]",
      "text/plain": [
       "<Figure size 648x648 with 9 Axes>"
      ]
     },
     "metadata": {},
     "output_type": "display_data"
    }
   ],
   "source": [
    "fig=plt.figure(figsize=(9, 9))\n",
    "columns = 3\n",
    "rows = 3\n",
    "for i in range(1, columns*rows +1):\n",
    "    threshold = 0.75 + i/(columns*rows*4)\n",
    "    [Z, p, X, U, W] = PCA(X_train, threshold)\n",
    "    img = X[0].reshape(28, 28)\n",
    "    ax = fig.add_subplot(rows, columns, i)\n",
    "    ax.imshow(img)\n",
    "    ax.set_title(str(round(threshold*100,3))+ '%, '+ ' P = ' + str(p)+ ' ') \n",
    "\n",
    "fig.tight_layout()\n",
    "plt.show()\n",
    "\n"
   ]
  },
  {
   "cell_type": "code",
   "execution_count": 217,
   "metadata": {},
   "outputs": [
    {
     "data": {
      "text/plain": [
       "'5.53'"
      ]
     },
     "execution_count": 217,
     "metadata": {},
     "output_type": "execute_result"
    }
   ],
   "source": [
    "str(round(5.5345345345,2))"
   ]
  },
  {
   "cell_type": "code",
   "execution_count": 1,
   "metadata": {},
   "outputs": [
    {
     "ename": "NameError",
     "evalue": "name 'prepareMedicalData' is not defined",
     "output_type": "error",
     "traceback": [
      "\u001b[0;31m---------------------------------------------------------------------------\u001b[0m",
      "\u001b[0;31mNameError\u001b[0m                                 Traceback (most recent call last)",
      "\u001b[0;32m<ipython-input-1-5204c4562a37>\u001b[0m in \u001b[0;36m<module>\u001b[0;34m()\u001b[0m\n\u001b[0;32m----> 1\u001b[0;31m \u001b[0;34m(\u001b[0m\u001b[0mX_train\u001b[0m\u001b[0;34m,\u001b[0m \u001b[0my_train\u001b[0m\u001b[0;34m,\u001b[0m \u001b[0mX_val\u001b[0m\u001b[0;34m,\u001b[0m \u001b[0my_val\u001b[0m\u001b[0;34m,\u001b[0m \u001b[0mX_test\u001b[0m\u001b[0;34m,\u001b[0m \u001b[0my_test\u001b[0m\u001b[0;34m)\u001b[0m \u001b[0;34m=\u001b[0m \u001b[0mprepareMedicalData\u001b[0m\u001b[0;34m(\u001b[0m\u001b[0;36m1\u001b[0m\u001b[0;34m,\u001b[0m\u001b[0;36m0\u001b[0m\u001b[0;34m,\u001b[0m\u001b[0;36m0\u001b[0m\u001b[0;34m)\u001b[0m\u001b[0;34m\u001b[0m\u001b[0m\n\u001b[0m\u001b[1;32m      2\u001b[0m \u001b[0mstart\u001b[0m \u001b[0;34m=\u001b[0m \u001b[0mtime\u001b[0m\u001b[0;34m.\u001b[0m\u001b[0mtime\u001b[0m\u001b[0;34m(\u001b[0m\u001b[0;34m)\u001b[0m\u001b[0;34m\u001b[0m\u001b[0m\n\u001b[1;32m      3\u001b[0m \u001b[0my_pred\u001b[0m \u001b[0;34m=\u001b[0m \u001b[0mKMeansClassifier\u001b[0m\u001b[0;34m(\u001b[0m\u001b[0mX_test\u001b[0m\u001b[0;34m,\u001b[0m \u001b[0mX_train\u001b[0m\u001b[0;34m,\u001b[0m \u001b[0my_train\u001b[0m\u001b[0;34m,\u001b[0m \u001b[0;36m20\u001b[0m\u001b[0;34m,\u001b[0m \u001b[0meuclideanDistance\u001b[0m \u001b[0;34m)\u001b[0m\u001b[0;34m\u001b[0m\u001b[0m\n\u001b[1;32m      4\u001b[0m \u001b[0macc\u001b[0m \u001b[0;34m=\u001b[0m \u001b[0maccuracy\u001b[0m\u001b[0;34m(\u001b[0m\u001b[0my_pred\u001b[0m\u001b[0;34m,\u001b[0m \u001b[0my_test\u001b[0m\u001b[0;34m)\u001b[0m\u001b[0;34m\u001b[0m\u001b[0m\n\u001b[1;32m      5\u001b[0m \u001b[0mend\u001b[0m \u001b[0;34m=\u001b[0m \u001b[0mtime\u001b[0m\u001b[0;34m.\u001b[0m\u001b[0mtime\u001b[0m\u001b[0;34m(\u001b[0m\u001b[0;34m)\u001b[0m\u001b[0;34m\u001b[0m\u001b[0m\n",
      "\u001b[0;31mNameError\u001b[0m: name 'prepareMedicalData' is not defined"
     ]
    }
   ],
   "source": [
    "(X_train, y_train, X_val, y_val, X_test, y_test) = prepareMedicalData(1,0,0)\n",
    "start = time.time()\n",
    "y_pred = KMeansClassifier(X_test, X_train, y_train, 20, euclideanDistance )\n",
    "acc = accuracy(y_pred, y_test)\n",
    "end = time.time()\n",
    "print(\"time: \", end-start)\n",
    "print(\"accuracy_validation: \", acc)"
   ]
  },
  {
   "cell_type": "code",
   "execution_count": null,
   "metadata": {},
   "outputs": [],
   "source": []
  },
  {
   "cell_type": "code",
   "execution_count": null,
   "metadata": {},
   "outputs": [],
   "source": []
  },
  {
   "cell_type": "code",
   "execution_count": null,
   "metadata": {},
   "outputs": [],
   "source": []
  },
  {
   "cell_type": "code",
   "execution_count": null,
   "metadata": {},
   "outputs": [],
   "source": []
  },
  {
   "cell_type": "markdown",
   "metadata": {},
   "source": [
    "# To Do: GMM Estimator\n",
    "    Input: Training Data, Test Data, Estimation\n",
    "    HyperParameter = K>=1: No. of Mixtures\n",
    "    Predict: Ai, Ui, Si for i = [1, 2 ... K]\n",
    "\n",
    "    WHAT IS A GOOD K?: Hard to measure directly. Check different K values on cross-validation set\n",
    "    - Expect K to be similar to that of ideal choice for K-means clustering. \n",
    "    - GMM is quite similar to to the Parzen-window estimate where the larger K in PWE (due to number of training points) will make up for the provision of different Variances and Mixture Sizes in GMM. \n",
    "    \n",
    "    Use Estimation for Bayes Classifier.\n",
    "    \n",
    "    "
   ]
  },
  {
   "cell_type": "code",
   "execution_count": 85,
   "metadata": {},
   "outputs": [
    {
     "name": "stdout",
     "output_type": "stream",
     "text": [
      "2000 3 50\n",
      "W (50, 2000)\n",
      "[[ 1.32440919e-15  1.32440919e-15  1.32440919e-15]\n",
      " [-2.16450441e-15 -2.16450441e-15 -2.16450441e-15]\n",
      " [ 9.57747472e-16  9.57747472e-16  9.57747472e-16]\n",
      " [ 5.55318537e-16  5.55318537e-16  5.55318537e-16]\n",
      " [-1.08591429e-15 -1.08591429e-15 -1.08591429e-15]\n",
      " [ 1.99636429e-16  1.99636429e-16  1.99636429e-16]\n",
      " [ 1.58944061e-16  1.58944061e-16  1.58944061e-16]\n",
      " [ 1.56272473e-15  1.56272473e-15  1.56272473e-15]\n",
      " [ 4.69033903e-16  4.69033903e-16  4.69033903e-16]\n",
      " [-9.75599074e-16 -9.75599074e-16 -9.75599074e-16]\n",
      " [-6.09924992e-16 -6.09924992e-16 -6.09924992e-16]\n",
      " [ 1.48179671e-16  1.48179671e-16  1.48179671e-16]\n",
      " [ 3.16064242e-16  3.16064242e-16  3.16064242e-16]\n",
      " [ 2.55592796e-16  2.55592796e-16  2.55592796e-16]\n",
      " [ 2.28991864e-15  2.28991864e-15  2.28991864e-15]\n",
      " [-5.55246577e-18 -5.55246577e-18 -5.55246577e-18]\n",
      " [ 9.62195203e-16  9.62195203e-16  9.62195203e-16]\n",
      " [ 3.44069574e-15  3.44069574e-15  3.44069574e-15]\n",
      " [ 1.25849660e-15  1.25849660e-15  1.25849660e-15]\n",
      " [-1.32732878e-15 -1.32732878e-15 -1.32732878e-15]\n",
      " [ 5.18126153e-16  5.18126153e-16  5.18126153e-16]\n",
      " [ 1.31372102e-16  1.31372102e-16  1.31372102e-16]\n",
      " [ 1.99221265e-17  1.99221265e-17  1.99221265e-17]\n",
      " [-1.24602774e-15 -1.24602774e-15 -1.24602774e-15]\n",
      " [-2.38806286e-16 -2.38806286e-16 -2.38806286e-16]\n",
      " [ 8.32290674e-16  8.32290674e-16  8.32290674e-16]\n",
      " [ 5.34820566e-16  5.34820566e-16  5.34820566e-16]\n",
      " [-7.53312158e-16 -7.53312158e-16 -7.53312158e-16]\n",
      " [-3.28256389e-15 -3.28256389e-15 -3.28256389e-15]\n",
      " [ 7.52929527e-16  7.52929527e-16  7.52929527e-16]\n",
      " [ 3.04568449e-15  3.04568449e-15  3.04568449e-15]\n",
      " [-2.63528373e-15 -2.63528373e-15 -2.63528373e-15]\n",
      " [-5.71922075e-16 -5.71922075e-16 -5.71922075e-16]\n",
      " [-4.55685895e-16 -4.55685895e-16 -4.55685895e-16]\n",
      " [-3.15181021e-15 -3.15181021e-15 -3.15181021e-15]\n",
      " [-4.67750266e-16 -4.67750266e-16 -4.67750266e-16]\n",
      " [-5.39819083e-15 -5.39819083e-15 -5.39819083e-15]\n",
      " [ 1.91457725e-15  1.91457725e-15  1.91457725e-15]\n",
      " [-2.92171779e-15 -2.92171779e-15 -2.92171779e-15]\n",
      " [ 1.46157651e-15  1.46157651e-15  1.46157651e-15]\n",
      " [-4.07104958e-17 -4.07104958e-17 -4.07104958e-17]\n",
      " [ 3.61317189e-16  3.61317189e-16  3.61317189e-16]\n",
      " [-1.50799372e-16 -1.50799372e-16 -1.50799372e-16]\n",
      " [ 1.07858556e-15  1.07858556e-15  1.07858556e-15]\n",
      " [-3.32260770e-15 -3.32260770e-15 -3.32260770e-15]\n",
      " [-3.61948394e-15 -3.61948394e-15 -3.61948394e-15]\n",
      " [ 3.11504529e-16  3.11504529e-16  3.11504529e-16]\n",
      " [-3.61756656e-16 -3.61756656e-16 -3.61756656e-16]\n",
      " [-4.58737447e-16 -4.58737447e-16 -4.58737447e-16]\n",
      " [ 1.44301691e-15  1.44301691e-15  1.44301691e-15]]\n"
     ]
    },
    {
     "name": "stderr",
     "output_type": "stream",
     "text": [
      "/usr/local/lib/python3.6/dist-packages/ipykernel_launcher.py:34: RuntimeWarning: invalid value encountered in true_divide\n"
     ]
    },
    {
     "ename": "ValueError",
     "evalue": "the input matrix must be positive semidefinite",
     "output_type": "error",
     "traceback": [
      "\u001b[0;31m---------------------------------------------------------------------------\u001b[0m",
      "\u001b[0;31mValueError\u001b[0m                                Traceback (most recent call last)",
      "\u001b[0;32m<ipython-input-85-869530892dd5>\u001b[0m in \u001b[0;36m<module>\u001b[0;34m()\u001b[0m\n\u001b[1;32m     46\u001b[0m \u001b[0;34m\u001b[0m\u001b[0m\n\u001b[1;32m     47\u001b[0m \u001b[0;34m(\u001b[0m\u001b[0mX_train\u001b[0m\u001b[0;34m,\u001b[0m \u001b[0my_train\u001b[0m\u001b[0;34m,\u001b[0m \u001b[0mX_val\u001b[0m\u001b[0;34m,\u001b[0m \u001b[0my_val\u001b[0m\u001b[0;34m,\u001b[0m \u001b[0mX_test\u001b[0m\u001b[0;34m,\u001b[0m \u001b[0my_test\u001b[0m\u001b[0;34m)\u001b[0m \u001b[0;34m=\u001b[0m \u001b[0mprepareMedicalData\u001b[0m\u001b[0;34m(\u001b[0m\u001b[0mscale\u001b[0m \u001b[0;34m=\u001b[0m \u001b[0;36m1\u001b[0m\u001b[0;34m)\u001b[0m\u001b[0;34m\u001b[0m\u001b[0m\n\u001b[0;32m---> 48\u001b[0;31m \u001b[0mgaussianMixtureModelEstimation\u001b[0m\u001b[0;34m(\u001b[0m\u001b[0mX_test\u001b[0m\u001b[0;34m,\u001b[0m \u001b[0mX_train\u001b[0m\u001b[0;34m,\u001b[0m \u001b[0;36m50\u001b[0m\u001b[0;34m,\u001b[0m \u001b[0;36m5\u001b[0m\u001b[0;34m)\u001b[0m\u001b[0;34m\u001b[0m\u001b[0m\n\u001b[0m",
      "\u001b[0;32m<ipython-input-85-869530892dd5>\u001b[0m in \u001b[0;36mgaussianMixtureModelEstimation\u001b[0;34m(testX, trainX, K, distanceMetric, it)\u001b[0m\n\u001b[1;32m     31\u001b[0m         \u001b[0mprint\u001b[0m\u001b[0;34m(\u001b[0m\u001b[0msigma\u001b[0m\u001b[0;34m)\u001b[0m\u001b[0;34m\u001b[0m\u001b[0m\n\u001b[1;32m     32\u001b[0m         \u001b[0;32mfor\u001b[0m \u001b[0midx\u001b[0m \u001b[0;32min\u001b[0m \u001b[0mrange\u001b[0m\u001b[0;34m(\u001b[0m\u001b[0mK\u001b[0m\u001b[0;34m)\u001b[0m\u001b[0;34m:\u001b[0m\u001b[0;34m\u001b[0m\u001b[0m\n\u001b[0;32m---> 33\u001b[0;31m             \u001b[0mW\u001b[0m\u001b[0;34m[\u001b[0m\u001b[0midx\u001b[0m\u001b[0;34m]\u001b[0m \u001b[0;34m=\u001b[0m \u001b[0malpha\u001b[0m\u001b[0;34m[\u001b[0m\u001b[0midx\u001b[0m\u001b[0;34m]\u001b[0m \u001b[0;34m*\u001b[0m \u001b[0mscipy\u001b[0m\u001b[0;34m.\u001b[0m\u001b[0mstats\u001b[0m\u001b[0;34m.\u001b[0m\u001b[0mmultivariate_normal\u001b[0m\u001b[0;34m.\u001b[0m\u001b[0mpdf\u001b[0m\u001b[0;34m(\u001b[0m\u001b[0mtrainX\u001b[0m\u001b[0;34m,\u001b[0m \u001b[0mmu\u001b[0m\u001b[0;34m[\u001b[0m\u001b[0midx\u001b[0m\u001b[0;34m]\u001b[0m\u001b[0;34m,\u001b[0m \u001b[0msigma\u001b[0m\u001b[0;34m[\u001b[0m\u001b[0midx\u001b[0m\u001b[0;34m]\u001b[0m\u001b[0;34m)\u001b[0m\u001b[0;34m\u001b[0m\u001b[0m\n\u001b[0m\u001b[1;32m     34\u001b[0m             \u001b[0mW\u001b[0m\u001b[0;34m[\u001b[0m\u001b[0midx\u001b[0m\u001b[0;34m]\u001b[0m \u001b[0;34m=\u001b[0m \u001b[0mW\u001b[0m\u001b[0;34m[\u001b[0m\u001b[0midx\u001b[0m\u001b[0;34m]\u001b[0m\u001b[0;34m/\u001b[0m\u001b[0mnp\u001b[0m\u001b[0;34m.\u001b[0m\u001b[0msum\u001b[0m\u001b[0;34m(\u001b[0m\u001b[0mW\u001b[0m\u001b[0;34m[\u001b[0m\u001b[0midx\u001b[0m\u001b[0;34m]\u001b[0m\u001b[0;34m)\u001b[0m\u001b[0;34m\u001b[0m\u001b[0m\n\u001b[1;32m     35\u001b[0m \u001b[0;34m\u001b[0m\u001b[0m\n",
      "\u001b[0;32m/usr/lib/python3/dist-packages/scipy/stats/_multivariate.py\u001b[0m in \u001b[0;36mpdf\u001b[0;34m(self, x, mean, cov, allow_singular)\u001b[0m\n\u001b[1;32m    504\u001b[0m         \u001b[0mdim\u001b[0m\u001b[0;34m,\u001b[0m \u001b[0mmean\u001b[0m\u001b[0;34m,\u001b[0m \u001b[0mcov\u001b[0m \u001b[0;34m=\u001b[0m \u001b[0mself\u001b[0m\u001b[0;34m.\u001b[0m\u001b[0m_process_parameters\u001b[0m\u001b[0;34m(\u001b[0m\u001b[0;32mNone\u001b[0m\u001b[0;34m,\u001b[0m \u001b[0mmean\u001b[0m\u001b[0;34m,\u001b[0m \u001b[0mcov\u001b[0m\u001b[0;34m)\u001b[0m\u001b[0;34m\u001b[0m\u001b[0m\n\u001b[1;32m    505\u001b[0m         \u001b[0mx\u001b[0m \u001b[0;34m=\u001b[0m \u001b[0mself\u001b[0m\u001b[0;34m.\u001b[0m\u001b[0m_process_quantiles\u001b[0m\u001b[0;34m(\u001b[0m\u001b[0mx\u001b[0m\u001b[0;34m,\u001b[0m \u001b[0mdim\u001b[0m\u001b[0;34m)\u001b[0m\u001b[0;34m\u001b[0m\u001b[0m\n\u001b[0;32m--> 506\u001b[0;31m         \u001b[0mpsd\u001b[0m \u001b[0;34m=\u001b[0m \u001b[0m_PSD\u001b[0m\u001b[0;34m(\u001b[0m\u001b[0mcov\u001b[0m\u001b[0;34m,\u001b[0m \u001b[0mallow_singular\u001b[0m\u001b[0;34m=\u001b[0m\u001b[0mallow_singular\u001b[0m\u001b[0;34m)\u001b[0m\u001b[0;34m\u001b[0m\u001b[0m\n\u001b[0m\u001b[1;32m    507\u001b[0m         \u001b[0mout\u001b[0m \u001b[0;34m=\u001b[0m \u001b[0mnp\u001b[0m\u001b[0;34m.\u001b[0m\u001b[0mexp\u001b[0m\u001b[0;34m(\u001b[0m\u001b[0mself\u001b[0m\u001b[0;34m.\u001b[0m\u001b[0m_logpdf\u001b[0m\u001b[0;34m(\u001b[0m\u001b[0mx\u001b[0m\u001b[0;34m,\u001b[0m \u001b[0mmean\u001b[0m\u001b[0;34m,\u001b[0m \u001b[0mpsd\u001b[0m\u001b[0;34m.\u001b[0m\u001b[0mU\u001b[0m\u001b[0;34m,\u001b[0m \u001b[0mpsd\u001b[0m\u001b[0;34m.\u001b[0m\u001b[0mlog_pdet\u001b[0m\u001b[0;34m,\u001b[0m \u001b[0mpsd\u001b[0m\u001b[0;34m.\u001b[0m\u001b[0mrank\u001b[0m\u001b[0;34m)\u001b[0m\u001b[0;34m)\u001b[0m\u001b[0;34m\u001b[0m\u001b[0m\n\u001b[1;32m    508\u001b[0m         \u001b[0;32mreturn\u001b[0m \u001b[0m_squeeze_output\u001b[0m\u001b[0;34m(\u001b[0m\u001b[0mout\u001b[0m\u001b[0;34m)\u001b[0m\u001b[0;34m\u001b[0m\u001b[0m\n",
      "\u001b[0;32m/usr/lib/python3/dist-packages/scipy/stats/_multivariate.py\u001b[0m in \u001b[0;36m__init__\u001b[0;34m(self, M, cond, rcond, lower, check_finite, allow_singular)\u001b[0m\n\u001b[1;32m    152\u001b[0m         \u001b[0meps\u001b[0m \u001b[0;34m=\u001b[0m \u001b[0m_eigvalsh_to_eps\u001b[0m\u001b[0;34m(\u001b[0m\u001b[0ms\u001b[0m\u001b[0;34m,\u001b[0m \u001b[0mcond\u001b[0m\u001b[0;34m,\u001b[0m \u001b[0mrcond\u001b[0m\u001b[0;34m)\u001b[0m\u001b[0;34m\u001b[0m\u001b[0m\n\u001b[1;32m    153\u001b[0m         \u001b[0;32mif\u001b[0m \u001b[0mnp\u001b[0m\u001b[0;34m.\u001b[0m\u001b[0mmin\u001b[0m\u001b[0;34m(\u001b[0m\u001b[0ms\u001b[0m\u001b[0;34m)\u001b[0m \u001b[0;34m<\u001b[0m \u001b[0;34m-\u001b[0m\u001b[0meps\u001b[0m\u001b[0;34m:\u001b[0m\u001b[0;34m\u001b[0m\u001b[0m\n\u001b[0;32m--> 154\u001b[0;31m             \u001b[0;32mraise\u001b[0m \u001b[0mValueError\u001b[0m\u001b[0;34m(\u001b[0m\u001b[0;34m'the input matrix must be positive semidefinite'\u001b[0m\u001b[0;34m)\u001b[0m\u001b[0;34m\u001b[0m\u001b[0m\n\u001b[0m\u001b[1;32m    155\u001b[0m         \u001b[0md\u001b[0m \u001b[0;34m=\u001b[0m \u001b[0ms\u001b[0m\u001b[0;34m[\u001b[0m\u001b[0ms\u001b[0m \u001b[0;34m>\u001b[0m \u001b[0meps\u001b[0m\u001b[0;34m]\u001b[0m\u001b[0;34m\u001b[0m\u001b[0m\n\u001b[1;32m    156\u001b[0m         \u001b[0;32mif\u001b[0m \u001b[0mlen\u001b[0m\u001b[0;34m(\u001b[0m\u001b[0md\u001b[0m\u001b[0;34m)\u001b[0m \u001b[0;34m<\u001b[0m \u001b[0mlen\u001b[0m\u001b[0;34m(\u001b[0m\u001b[0ms\u001b[0m\u001b[0;34m)\u001b[0m \u001b[0;32mand\u001b[0m \u001b[0;32mnot\u001b[0m \u001b[0mallow_singular\u001b[0m\u001b[0;34m:\u001b[0m\u001b[0;34m\u001b[0m\u001b[0m\n",
      "\u001b[0;31mValueError\u001b[0m: the input matrix must be positive semidefinite"
     ]
    }
   ],
   "source": [
    "def gaussianMixtureModelEstimation(testX, trainX, K=1, distanceMetric = euclideanDistance, it=5):\n",
    "    #Alpha(S) is a scalar\n",
    "    #Nu(S) is a vector\n",
    "    #Sigma(S) is a scalar, SI gives covariance matrix\n",
    "    \n",
    "    #Wt(ij): Probability of i'th point being in j'th matrix\n",
    "    #Wt: N*K, W: K*N\n",
    "    #trainX: n*d\n",
    "\n",
    "    [N,D] = trainX.shape\n",
    "    W = np.random.rand(K, N)\n",
    "    W = W/np.sum(W, axis = 0)     #Probabilities across columns add to one\n",
    "\n",
    "    mu = np.random.rand(K,D)\n",
    "    sigma = np.random.rand(K, 1)\n",
    "    alpha = np.random.rand(K, 1)\n",
    "    alpha = alpha / np.sum(alpha, 1)\n",
    "    \n",
    "    #E-Step\n",
    "    #M-step\n",
    "    print(N,D,K)\n",
    "    print('W', W.shape)\n",
    "    numiter = 0\n",
    "    while numiter < it:\n",
    "        mu = (np.dot(W, trainX).transpose()/np.sum(W, axis = 1)).transpose()\n",
    "#     print('Mu', mu.shape)\n",
    "        sigma = np.zeros([K, D])\n",
    "        for idx in range(K):\n",
    "            sigma[idx] = np.sum(np.dot(np.dot(W[idx], trainX-mu[idx]), (trainX-mu[idx]).transpose()), axis=0)/np.sum(W[idx])\n",
    "        alpha = np.sum(W, axis = 0)/N\n",
    "        print(sigma)\n",
    "        for idx in range(K):\n",
    "            W[idx] = alpha[idx] * scipy.stats.multivariate_normal.pdf(trainX, mu[idx], sigma[idx])\n",
    "            W[idx] = W[idx]/np.sum(W[idx])\n",
    "        \n",
    "        numiter = numiter+1\n",
    "                   \n",
    "#     print('Sigma', sigma.shape)\n",
    "#     sigma = np.array( [np.square(euclideanDistance(trainX, mean)) for mean in mu])\n",
    "    \n",
    "   \n",
    "    \n",
    "    \n",
    "    \n",
    "    \n",
    "                   \n",
    "(X_train, y_train, X_val, y_val, X_test, y_test) = prepareMedicalData(scale = 1) \n",
    "gaussianMixtureModelEstimation(X_test, X_train, 50, 5)   "
   ]
  },
  {
   "cell_type": "markdown",
   "metadata": {},
   "source": [
    "# KNN on Medical Dataset\n"
   ]
  },
  {
   "cell_type": "code",
   "execution_count": 85,
   "metadata": {},
   "outputs": [
    {
     "name": "stdout",
     "output_type": "stream",
     "text": [
      "Data    abc\n",
      "Data    chebyschevDistance\n",
      "Data    manhattenDistance\n",
      "Normalized    abc\n",
      "Normalized    chebyschevDistance\n",
      "Normalized    manhattenDistance\n",
      "PCA    abc\n",
      "PCA    chebyschevDistance\n",
      "PCA    manhattenDistance\n",
      "90% PCA: p = 2    abc\n",
      "90% PCA: p = 2    chebyschevDistance\n",
      "90% PCA: p = 2    manhattenDistance\n",
      "Whitening    abc\n",
      "Whitening    chebyschevDistance\n",
      "Whitening    manhattenDistance\n",
      "\n",
      "\n",
      "\n",
      "\n",
      "\n",
      "                   Distance Metric Validation_K  Validation_Acc  Test_Acc\n",
      "Data                                                                     \n",
      "Data                           abc            1           0.886     0.880\n",
      "Data            chebyschevDistance           16           0.882     0.864\n",
      "Data             manhattenDistance            1           0.882     0.888\n",
      "Normalized                     abc            1           0.882     0.878\n",
      "Normalized      chebyschevDistance           16           0.884     0.868\n",
      "Normalized       manhattenDistance            1           0.882     0.890\n",
      "PCA                            abc            1           0.886     0.880\n",
      "PCA             chebyschevDistance           16           0.878     0.862\n",
      "PCA              manhattenDistance           16           0.880     0.866\n",
      "90% PCA: p = 2                 abc            4           0.828     0.794\n",
      "90% PCA: p = 2  chebyschevDistance            4           0.824     0.790\n",
      "90% PCA: p = 2   manhattenDistance            4           0.820     0.796\n",
      "Whitening                      abc            8           0.870     0.868\n",
      "Whitening       chebyschevDistance            8           0.876     0.856\n",
      "Whitening        manhattenDistance           16           0.874     0.866\n",
      "\n",
      "\n",
      "\n",
      "\n",
      "\n"
     ]
    },
    {
     "data": {
      "text/plain": [
       "'\\nplt.xlabel(\\'Accuracy\\')\\nplt.title(\\'Classifier Accuracy\\')\\n\\nsns.set_color_codes(\"muted\")\\nsns.barplot(x=\\'Accuracy\\', y=\\'Classifier\\', data=log, color=\"b\")\\n\\nprint(log)\\n'"
      ]
     },
     "execution_count": 85,
     "metadata": {},
     "output_type": "execute_result"
    }
   ],
   "source": [
    "distanceMetrics = [euclideanDistance, chebyschevDistance, manhattenDistance]\n",
    "K_vals = [1,2,4,8,16, 32, 64, 128, 256]\n",
    "params = {\"Data\": (0,-1,0), \"Normalized\": (1,-1,0), \"PCA\":(0,1,0), \"90% PCA: p = 2\": (0,0.9,0), \"Whitening\": (0,-1,1) }\n",
    "\n",
    "log_cols = [\"Data\" ,\"Distance Metric\", \"Validation_K\", \"Validation_Acc\", \"Test_Acc\"]\n",
    "log  = pd.DataFrame(columns=log_cols)\n",
    "acc_dict = {}\n",
    "\n",
    "\n",
    "for param in params:\n",
    "    (x,y,z) = params[param]\n",
    "    (X_train, y_train, X_val, y_val, X_test, y_test) = prepareMedicalData(x,y,z) \n",
    "\n",
    "    for dist in distanceMetrics:\n",
    "        print(param + \"    \" + dist.__name__)\n",
    "        maxAcc=0\n",
    "        maxK=1\n",
    "        for K in K_vals:\n",
    "            \n",
    "            name = dist.__name__ + \" \" + str(K)\n",
    "            y_pred = knnClassifier(X_val, X_train, y_train, K, dist)\n",
    "            acc = accuracy(y_pred, y_val)\n",
    "            acc_dict[name] = acc\n",
    "            if acc>maxAcc: \n",
    "                maxK = K\n",
    "                maxAcc = acc\n",
    "    \n",
    "        y_pred = knnClassifier(X_test, X_train, y_train, maxK, dist)\n",
    "        testAcc = accuracy(y_pred, y_test)\n",
    "    \n",
    "        classifier = [dist, maxK, maxAcc, testAcc]\n",
    "        log_entry = pd.DataFrame([[param, dist.__name__, maxK, maxAcc, testAcc]], columns = log_cols)\n",
    "        log = log.append(log_entry)\n",
    "\n",
    "log.set_index('Data', inplace = True)\n",
    "\n",
    "print('\\n\\n\\n\\n')\n",
    "print(log)\n",
    "print('\\n\\n\\n\\n')\n",
    "\n",
    "     \n",
    "\n"
   ]
  },
  {
   "cell_type": "markdown",
   "metadata": {},
   "source": [
    "# KNN on FMNIST Dataset"
   ]
  },
  {
   "cell_type": "code",
   "execution_count": 86,
   "metadata": {},
   "outputs": [
    {
     "name": "stdout",
     "output_type": "stream",
     "text": [
      "PCA_Threshold = 0.9, P = 84\n",
      "90% PCA    abc\n"
     ]
    },
    {
     "ename": "KeyboardInterrupt",
     "evalue": "",
     "output_type": "error",
     "traceback": [
      "\u001b[0;31m---------------------------------------------------------------------------\u001b[0m",
      "\u001b[0;31mKeyboardInterrupt\u001b[0m                         Traceback (most recent call last)",
      "\u001b[0;32m<ipython-input-86-c20256656b71>\u001b[0m in \u001b[0;36m<module>\u001b[0;34m()\u001b[0m\n\u001b[1;32m     21\u001b[0m \u001b[0;34m\u001b[0m\u001b[0m\n\u001b[1;32m     22\u001b[0m             \u001b[0mname\u001b[0m \u001b[0;34m=\u001b[0m \u001b[0mdist\u001b[0m\u001b[0;34m.\u001b[0m\u001b[0m__name__\u001b[0m \u001b[0;34m+\u001b[0m \u001b[0;34m\" \"\u001b[0m \u001b[0;34m+\u001b[0m \u001b[0mstr\u001b[0m\u001b[0;34m(\u001b[0m\u001b[0mK\u001b[0m\u001b[0;34m)\u001b[0m\u001b[0;34m\u001b[0m\u001b[0m\n\u001b[0;32m---> 23\u001b[0;31m             \u001b[0my_pred\u001b[0m \u001b[0;34m=\u001b[0m \u001b[0mknnClassifier\u001b[0m\u001b[0;34m(\u001b[0m\u001b[0mX_val\u001b[0m\u001b[0;34m,\u001b[0m \u001b[0mX_train\u001b[0m\u001b[0;34m,\u001b[0m \u001b[0my_train\u001b[0m\u001b[0;34m,\u001b[0m \u001b[0mK\u001b[0m\u001b[0;34m,\u001b[0m \u001b[0mdist\u001b[0m\u001b[0;34m)\u001b[0m\u001b[0;34m\u001b[0m\u001b[0m\n\u001b[0m\u001b[1;32m     24\u001b[0m             \u001b[0macc\u001b[0m \u001b[0;34m=\u001b[0m \u001b[0maccuracy\u001b[0m\u001b[0;34m(\u001b[0m\u001b[0my_pred\u001b[0m\u001b[0;34m,\u001b[0m \u001b[0my_val\u001b[0m\u001b[0;34m)\u001b[0m\u001b[0;34m\u001b[0m\u001b[0m\n\u001b[1;32m     25\u001b[0m             \u001b[0macc_dict\u001b[0m\u001b[0;34m[\u001b[0m\u001b[0mname\u001b[0m\u001b[0;34m]\u001b[0m \u001b[0;34m=\u001b[0m \u001b[0macc\u001b[0m\u001b[0;34m\u001b[0m\u001b[0m\n",
      "\u001b[0;32m~/IIT Delhi/ELL409 - Machine Learning/ELL409/Assigment_1/functions.py\u001b[0m in \u001b[0;36mknnClassifier\u001b[0;34m(testX, trainX, trainY, K, distanceMetric)\u001b[0m\n\u001b[1;32m    217\u001b[0m     \u001b[0;32mreturn\u001b[0m \u001b[0;34m[\u001b[0m\u001b[0mind\u001b[0m\u001b[0;34m,\u001b[0m \u001b[0mradius\u001b[0m \u001b[0;34m]\u001b[0m\u001b[0;34m\u001b[0m\u001b[0m\n\u001b[1;32m    218\u001b[0m \u001b[0;32mdef\u001b[0m \u001b[0mknnClassifier\u001b[0m\u001b[0;34m(\u001b[0m\u001b[0mtestX\u001b[0m\u001b[0;34m,\u001b[0m\u001b[0mtrainX\u001b[0m\u001b[0;34m,\u001b[0m\u001b[0mtrainY\u001b[0m\u001b[0;34m,\u001b[0m \u001b[0mK\u001b[0m \u001b[0;34m=\u001b[0m \u001b[0;36m1\u001b[0m\u001b[0;34m,\u001b[0m \u001b[0mdistanceMetric\u001b[0m \u001b[0;34m=\u001b[0m \u001b[0meuclideanDistance\u001b[0m\u001b[0;34m)\u001b[0m\u001b[0;34m:\u001b[0m\u001b[0;34m\u001b[0m\u001b[0m\n\u001b[0;32m--> 219\u001b[0;31m     \u001b[0mindices\u001b[0m \u001b[0;34m=\u001b[0m \u001b[0mgetKNeighbours\u001b[0m\u001b[0;34m(\u001b[0m\u001b[0mtestX\u001b[0m\u001b[0;34m,\u001b[0m \u001b[0mtrainX\u001b[0m\u001b[0;34m,\u001b[0m \u001b[0mK\u001b[0m\u001b[0;34m,\u001b[0m \u001b[0mdistanceMetric\u001b[0m\u001b[0;34m)\u001b[0m\u001b[0;34m[\u001b[0m\u001b[0;36m0\u001b[0m\u001b[0;34m]\u001b[0m\u001b[0;34m\u001b[0m\u001b[0m\n\u001b[0m\u001b[1;32m    220\u001b[0m     \u001b[0mfreqs\u001b[0m \u001b[0;34m=\u001b[0m \u001b[0mnp\u001b[0m\u001b[0;34m.\u001b[0m\u001b[0marray\u001b[0m\u001b[0;34m(\u001b[0m\u001b[0;34m[\u001b[0m\u001b[0mtrainY\u001b[0m\u001b[0;34m[\u001b[0m\u001b[0mindex\u001b[0m\u001b[0;34m]\u001b[0m \u001b[0;32mfor\u001b[0m \u001b[0mindex\u001b[0m \u001b[0;32min\u001b[0m \u001b[0mindices\u001b[0m\u001b[0;34m]\u001b[0m\u001b[0;34m)\u001b[0m\u001b[0;34m\u001b[0m\u001b[0m\n\u001b[1;32m    221\u001b[0m     \u001b[0mpredY\u001b[0m \u001b[0;34m=\u001b[0m \u001b[0;34m[\u001b[0m\u001b[0mnp\u001b[0m\u001b[0;34m.\u001b[0m\u001b[0mbincount\u001b[0m\u001b[0;34m(\u001b[0m\u001b[0mfreq\u001b[0m\u001b[0;34m)\u001b[0m\u001b[0;34m.\u001b[0m\u001b[0margmax\u001b[0m\u001b[0;34m(\u001b[0m\u001b[0;34m)\u001b[0m \u001b[0;32mfor\u001b[0m \u001b[0mfreq\u001b[0m \u001b[0;32min\u001b[0m \u001b[0mfreqs\u001b[0m\u001b[0;34m]\u001b[0m\u001b[0;34m\u001b[0m\u001b[0m\n",
      "\u001b[0;32m~/IIT Delhi/ELL409 - Machine Learning/ELL409/Assigment_1/functions.py\u001b[0m in \u001b[0;36mgetKNeighbours\u001b[0;34m(testX, trainX, K, distanceMetric)\u001b[0m\n\u001b[1;32m    212\u001b[0m \u001b[0;34m\u001b[0m\u001b[0m\n\u001b[1;32m    213\u001b[0m \u001b[0;32mdef\u001b[0m \u001b[0mgetKNeighbours\u001b[0m\u001b[0;34m(\u001b[0m\u001b[0mtestX\u001b[0m\u001b[0;34m,\u001b[0m \u001b[0mtrainX\u001b[0m\u001b[0;34m,\u001b[0m \u001b[0mK\u001b[0m \u001b[0;34m=\u001b[0m \u001b[0;36m1\u001b[0m\u001b[0;34m,\u001b[0m \u001b[0mdistanceMetric\u001b[0m \u001b[0;34m=\u001b[0m \u001b[0meuclideanDistance\u001b[0m\u001b[0;34m)\u001b[0m\u001b[0;34m:\u001b[0m\u001b[0;34m\u001b[0m\u001b[0m\n\u001b[0;32m--> 214\u001b[0;31m     \u001b[0mdists\u001b[0m \u001b[0;34m=\u001b[0m \u001b[0mnp\u001b[0m\u001b[0;34m.\u001b[0m\u001b[0marray\u001b[0m\u001b[0;34m(\u001b[0m\u001b[0;34m[\u001b[0m\u001b[0mdistanceMetric\u001b[0m\u001b[0;34m(\u001b[0m\u001b[0mtrainX\u001b[0m\u001b[0;34m,\u001b[0m \u001b[0mtestx\u001b[0m\u001b[0;34m)\u001b[0m \u001b[0;32mfor\u001b[0m \u001b[0mtestx\u001b[0m \u001b[0;32min\u001b[0m \u001b[0mtestX\u001b[0m\u001b[0;34m]\u001b[0m\u001b[0;34m)\u001b[0m\u001b[0;34m\u001b[0m\u001b[0m\n\u001b[0m\u001b[1;32m    215\u001b[0m     \u001b[0mind\u001b[0m \u001b[0;34m=\u001b[0m \u001b[0mnp\u001b[0m\u001b[0;34m.\u001b[0m\u001b[0margpartition\u001b[0m\u001b[0;34m(\u001b[0m\u001b[0mdists\u001b[0m\u001b[0;34m,\u001b[0m \u001b[0mK\u001b[0m\u001b[0;34m,\u001b[0m \u001b[0maxis\u001b[0m \u001b[0;34m=\u001b[0m \u001b[0;36m1\u001b[0m\u001b[0;34m)\u001b[0m\u001b[0;34m[\u001b[0m\u001b[0;34m:\u001b[0m\u001b[0;34m,\u001b[0m \u001b[0;36m0\u001b[0m\u001b[0;34m:\u001b[0m\u001b[0mK\u001b[0m\u001b[0;34m]\u001b[0m\u001b[0;34m\u001b[0m\u001b[0m\n\u001b[1;32m    216\u001b[0m     \u001b[0mradius\u001b[0m \u001b[0;34m=\u001b[0m \u001b[0mnp\u001b[0m\u001b[0;34m.\u001b[0m\u001b[0marray\u001b[0m\u001b[0;34m(\u001b[0m \u001b[0;34m[\u001b[0m\u001b[0mdists\u001b[0m\u001b[0;34m[\u001b[0m\u001b[0mrow\u001b[0m\u001b[0;34m,\u001b[0m \u001b[0mind\u001b[0m\u001b[0;34m[\u001b[0m\u001b[0mrow\u001b[0m\u001b[0;34m,\u001b[0m \u001b[0mK\u001b[0m\u001b[0;34m-\u001b[0m\u001b[0;36m1\u001b[0m\u001b[0;34m]\u001b[0m\u001b[0;34m]\u001b[0m \u001b[0;32mfor\u001b[0m \u001b[0mrow\u001b[0m \u001b[0;32min\u001b[0m \u001b[0mrange\u001b[0m\u001b[0;34m(\u001b[0m\u001b[0mtestX\u001b[0m\u001b[0;34m.\u001b[0m\u001b[0mshape\u001b[0m\u001b[0;34m[\u001b[0m\u001b[0;36m0\u001b[0m\u001b[0;34m]\u001b[0m\u001b[0;34m)\u001b[0m\u001b[0;34m]\u001b[0m\u001b[0;34m)\u001b[0m\u001b[0;34m\u001b[0m\u001b[0m\n",
      "\u001b[0;32m~/IIT Delhi/ELL409 - Machine Learning/ELL409/Assigment_1/functions.py\u001b[0m in \u001b[0;36m<listcomp>\u001b[0;34m(.0)\u001b[0m\n\u001b[1;32m    212\u001b[0m \u001b[0;34m\u001b[0m\u001b[0m\n\u001b[1;32m    213\u001b[0m \u001b[0;32mdef\u001b[0m \u001b[0mgetKNeighbours\u001b[0m\u001b[0;34m(\u001b[0m\u001b[0mtestX\u001b[0m\u001b[0;34m,\u001b[0m \u001b[0mtrainX\u001b[0m\u001b[0;34m,\u001b[0m \u001b[0mK\u001b[0m \u001b[0;34m=\u001b[0m \u001b[0;36m1\u001b[0m\u001b[0;34m,\u001b[0m \u001b[0mdistanceMetric\u001b[0m \u001b[0;34m=\u001b[0m \u001b[0meuclideanDistance\u001b[0m\u001b[0;34m)\u001b[0m\u001b[0;34m:\u001b[0m\u001b[0;34m\u001b[0m\u001b[0m\n\u001b[0;32m--> 214\u001b[0;31m     \u001b[0mdists\u001b[0m \u001b[0;34m=\u001b[0m \u001b[0mnp\u001b[0m\u001b[0;34m.\u001b[0m\u001b[0marray\u001b[0m\u001b[0;34m(\u001b[0m\u001b[0;34m[\u001b[0m\u001b[0mdistanceMetric\u001b[0m\u001b[0;34m(\u001b[0m\u001b[0mtrainX\u001b[0m\u001b[0;34m,\u001b[0m \u001b[0mtestx\u001b[0m\u001b[0;34m)\u001b[0m \u001b[0;32mfor\u001b[0m \u001b[0mtestx\u001b[0m \u001b[0;32min\u001b[0m \u001b[0mtestX\u001b[0m\u001b[0;34m]\u001b[0m\u001b[0;34m)\u001b[0m\u001b[0;34m\u001b[0m\u001b[0m\n\u001b[0m\u001b[1;32m    215\u001b[0m     \u001b[0mind\u001b[0m \u001b[0;34m=\u001b[0m \u001b[0mnp\u001b[0m\u001b[0;34m.\u001b[0m\u001b[0margpartition\u001b[0m\u001b[0;34m(\u001b[0m\u001b[0mdists\u001b[0m\u001b[0;34m,\u001b[0m \u001b[0mK\u001b[0m\u001b[0;34m,\u001b[0m \u001b[0maxis\u001b[0m \u001b[0;34m=\u001b[0m \u001b[0;36m1\u001b[0m\u001b[0;34m)\u001b[0m\u001b[0;34m[\u001b[0m\u001b[0;34m:\u001b[0m\u001b[0;34m,\u001b[0m \u001b[0;36m0\u001b[0m\u001b[0;34m:\u001b[0m\u001b[0mK\u001b[0m\u001b[0;34m]\u001b[0m\u001b[0;34m\u001b[0m\u001b[0m\n\u001b[1;32m    216\u001b[0m     \u001b[0mradius\u001b[0m \u001b[0;34m=\u001b[0m \u001b[0mnp\u001b[0m\u001b[0;34m.\u001b[0m\u001b[0marray\u001b[0m\u001b[0;34m(\u001b[0m \u001b[0;34m[\u001b[0m\u001b[0mdists\u001b[0m\u001b[0;34m[\u001b[0m\u001b[0mrow\u001b[0m\u001b[0;34m,\u001b[0m \u001b[0mind\u001b[0m\u001b[0;34m[\u001b[0m\u001b[0mrow\u001b[0m\u001b[0;34m,\u001b[0m \u001b[0mK\u001b[0m\u001b[0;34m-\u001b[0m\u001b[0;36m1\u001b[0m\u001b[0;34m]\u001b[0m\u001b[0;34m]\u001b[0m \u001b[0;32mfor\u001b[0m \u001b[0mrow\u001b[0m \u001b[0;32min\u001b[0m \u001b[0mrange\u001b[0m\u001b[0;34m(\u001b[0m\u001b[0mtestX\u001b[0m\u001b[0;34m.\u001b[0m\u001b[0mshape\u001b[0m\u001b[0;34m[\u001b[0m\u001b[0;36m0\u001b[0m\u001b[0;34m]\u001b[0m\u001b[0;34m)\u001b[0m\u001b[0;34m]\u001b[0m\u001b[0;34m)\u001b[0m\u001b[0;34m\u001b[0m\u001b[0m\n",
      "\u001b[0;32m~/IIT Delhi/ELL409 - Machine Learning/ELL409/Assigment_1/functions.py\u001b[0m in \u001b[0;36meuclideanDistance\u001b[0;34m(X, y)\u001b[0m\n\u001b[1;32m     44\u001b[0m \u001b[0;32mdef\u001b[0m \u001b[0meuclideanDistance\u001b[0m \u001b[0;34m(\u001b[0m\u001b[0mX\u001b[0m\u001b[0;34m,\u001b[0m\u001b[0my\u001b[0m\u001b[0;34m)\u001b[0m\u001b[0;34m:\u001b[0m\u001b[0;34m\u001b[0m\u001b[0m\n\u001b[1;32m     45\u001b[0m     \u001b[0;32mif\u001b[0m \u001b[0mlen\u001b[0m\u001b[0;34m(\u001b[0m\u001b[0mX\u001b[0m\u001b[0;34m.\u001b[0m\u001b[0mshape\u001b[0m\u001b[0;34m)\u001b[0m\u001b[0;34m==\u001b[0m\u001b[0;36m1\u001b[0m\u001b[0;34m:\u001b[0m \u001b[0;32mreturn\u001b[0m \u001b[0mnp\u001b[0m\u001b[0;34m.\u001b[0m\u001b[0msqrt\u001b[0m\u001b[0;34m(\u001b[0m\u001b[0mnp\u001b[0m\u001b[0;34m.\u001b[0m\u001b[0msum\u001b[0m\u001b[0;34m(\u001b[0m\u001b[0mnp\u001b[0m\u001b[0;34m.\u001b[0m\u001b[0msquare\u001b[0m\u001b[0;34m(\u001b[0m\u001b[0mX\u001b[0m\u001b[0;34m-\u001b[0m\u001b[0my\u001b[0m\u001b[0;34m)\u001b[0m\u001b[0;34m)\u001b[0m\u001b[0;34m)\u001b[0m\u001b[0;34m\u001b[0m\u001b[0m\n\u001b[0;32m---> 46\u001b[0;31m     \u001b[0;32melse\u001b[0m\u001b[0;34m:\u001b[0m \u001b[0;32mreturn\u001b[0m \u001b[0mnp\u001b[0m\u001b[0;34m.\u001b[0m\u001b[0msqrt\u001b[0m\u001b[0;34m(\u001b[0m\u001b[0mnp\u001b[0m\u001b[0;34m.\u001b[0m\u001b[0msum\u001b[0m\u001b[0;34m(\u001b[0m\u001b[0;34m(\u001b[0m\u001b[0mnp\u001b[0m\u001b[0;34m.\u001b[0m\u001b[0msquare\u001b[0m\u001b[0;34m(\u001b[0m\u001b[0mX\u001b[0m \u001b[0;34m-\u001b[0m \u001b[0my\u001b[0m\u001b[0;34m)\u001b[0m\u001b[0;34m)\u001b[0m\u001b[0;34m,\u001b[0m \u001b[0maxis\u001b[0m \u001b[0;34m=\u001b[0m \u001b[0;36m1\u001b[0m\u001b[0;34m)\u001b[0m\u001b[0;34m)\u001b[0m\u001b[0;34m\u001b[0m\u001b[0m\n\u001b[0m\u001b[1;32m     47\u001b[0m \u001b[0;32mdef\u001b[0m \u001b[0mmanhattenDistance\u001b[0m \u001b[0;34m(\u001b[0m\u001b[0mX\u001b[0m\u001b[0;34m,\u001b[0m\u001b[0my\u001b[0m\u001b[0;34m)\u001b[0m\u001b[0;34m:\u001b[0m\u001b[0;34m\u001b[0m\u001b[0m\n\u001b[1;32m     48\u001b[0m     \u001b[0;32mif\u001b[0m \u001b[0mlen\u001b[0m\u001b[0;34m(\u001b[0m\u001b[0mX\u001b[0m\u001b[0;34m.\u001b[0m\u001b[0mshape\u001b[0m\u001b[0;34m)\u001b[0m\u001b[0;34m==\u001b[0m\u001b[0;36m1\u001b[0m\u001b[0;34m:\u001b[0m \u001b[0;32mreturn\u001b[0m \u001b[0mnp\u001b[0m\u001b[0;34m.\u001b[0m\u001b[0msum\u001b[0m\u001b[0;34m(\u001b[0m\u001b[0mnp\u001b[0m\u001b[0;34m.\u001b[0m\u001b[0mabs\u001b[0m\u001b[0;34m(\u001b[0m\u001b[0mX\u001b[0m\u001b[0;34m-\u001b[0m\u001b[0my\u001b[0m\u001b[0;34m)\u001b[0m\u001b[0;34m)\u001b[0m\u001b[0;34m\u001b[0m\u001b[0m\n",
      "\u001b[0;31mKeyboardInterrupt\u001b[0m: "
     ]
    }
   ],
   "source": [
    "\n",
    "\n",
    "distanceMetrics = [euclideanDistance, chebyschevDistance, manhattenDistance]\n",
    "K_vals = [1,2,4,8,16, 32, 64, 128, 256, 512, 1024]\n",
    "params ={\"90% PCA\": (0,0.9,0)}\n",
    "\n",
    "log_cols = [\"Data\" ,\"Distance Metric\", \"Validation_K\", \"Validation_Acc\", \"Test_Acc\"]\n",
    "log  = pd.DataFrame(columns=log_cols)\n",
    "acc_dict = {}\n",
    "\n",
    "\n",
    "for param in params:\n",
    "    (x,y,z) = params[param]\n",
    "    (X_train, y_train, X_val, y_val, X_test, y_test) = prepareFMNISTData(x,y,z) \n",
    "\n",
    "    for dist in distanceMetrics:\n",
    "        print(param + \"    \" + dist.__name__)\n",
    "        maxAcc=0\n",
    "        maxK=1\n",
    "        for K in K_vals:\n",
    "            \n",
    "            name = dist.__name__ + \" \" + str(K)\n",
    "            y_pred = knnClassifier(X_val, X_train, y_train, K, dist)\n",
    "            acc = accuracy(y_pred, y_val)\n",
    "            acc_dict[name] = acc\n",
    "            if acc>maxAcc: \n",
    "                maxK = K\n",
    "                maxAcc = acc\n",
    "    \n",
    "        y_pred = knnClassifier(X_test, X_train, y_train, maxK, dist)\n",
    "        testAcc = accuracy(y_pred, y_test)\n",
    "    \n",
    "        classifier = [dist, maxK, maxAcc, testAcc]\n",
    "        log_entry = pd.DataFrame([[param, dist.__name__, maxK, maxAcc, testAcc]], columns = log_cols)\n",
    "        log = log.append(log_entry)\n",
    "\n",
    "log.set_index('Data', inplace = True)\n",
    "\n",
    "\n",
    "\n"
   ]
  },
  {
   "cell_type": "code",
   "execution_count": null,
   "metadata": {},
   "outputs": [],
   "source": [
    "euclideanDistance.__name__ = euclideanDistance"
   ]
  },
  {
   "cell_type": "code",
   "execution_count": 78,
   "metadata": {},
   "outputs": [
    {
     "name": "stderr",
     "output_type": "stream",
     "text": [
      "/anaconda3/lib/python3.6/site-packages/ipykernel_launcher.py:5: RuntimeWarning: divide by zero encountered in log\n",
      "  \"\"\"\n"
     ]
    },
    {
     "name": "stdout",
     "output_type": "stream",
     "text": [
      "1\n",
      "1.7390585774998577\n",
      "1.7314275985720848\n"
     ]
    },
    {
     "data": {
      "text/plain": [
       "array([0.27566158, 0.14539401, 0.13583499, 0.23157008, 0.17288689,\n",
       "       0.13692667, 0.18465583, 0.2593311 , 0.15157371, 0.112852  ,\n",
       "       0.24376282, 0.03989132, 0.0852233 , 0.07383135, 0.19689855,\n",
       "       0.28935204, 0.08731592, 0.3750283 , 0.09104794, 0.2488982 ,\n",
       "       0.29721789, 0.1605503 , 0.26502337, 0.35492586, 0.22014878,\n",
       "       0.29943297, 0.1861638 , 0.26757505, 0.24492069, 0.02394527,\n",
       "       0.14682844, 0.07190557, 0.18798436, 0.22944668, 0.26826862,\n",
       "       0.16304001, 0.21825885, 0.03635844, 0.24771874, 0.30801579,\n",
       "       0.09710418, 0.17284295, 0.31165608, 0.32520941, 0.31221608,\n",
       "       0.11461857, 0.18562218, 0.2072213 , 0.20353509, 0.36526896,\n",
       "       0.0679655 , 0.19162171, 0.12690881, 0.15226875, 0.22206663,\n",
       "       0.26269864, 0.33250663, 0.29582626, 0.36763885, 0.36672134,\n",
       "       0.23021698, 0.11860091, 0.17955081, 0.3628174 , 0.1520939 ,\n",
       "       0.24045343, 0.2707533 , 0.35623575, 0.23763785, 0.24071109,\n",
       "       0.17340554, 0.23861007, 0.12829043, 0.27379567, 0.13207827,\n",
       "       0.07969756, 0.24359456, 0.03906408, 0.22416769, 0.25330752,\n",
       "       0.25170851, 0.27974497, 0.16107065, 0.27407313, 0.27070088,\n",
       "       0.15348242, 0.1700136 , 0.20147217, 0.18846767, 0.00898678,\n",
       "       0.35033941, 0.19111988, 0.20459663, 0.18203672, 0.21444658,\n",
       "       0.07232945, 0.21176128, 0.32255572, 0.23297237, 0.13737522,\n",
       "       0.29009524, 0.03322525, 0.34323578, 0.05931317, 0.17575746,\n",
       "       0.23908174, 0.33292635, 0.28796665, 0.32150072, 0.33890197,\n",
       "       0.24188171, 0.35028259, 0.18675057, 0.24360343, 0.02885754,\n",
       "       0.2578395 , 0.23553267, 0.02377865, 0.09565122, 0.18607761,\n",
       "       0.15767533, 0.10445527, 0.13045953, 0.2581966 , 0.10449458,\n",
       "       0.03835623, 0.21985838, 0.34642294, 0.34711398, 0.01577417,\n",
       "       0.22361324, 0.14778383, 0.36820993, 0.14447131, 0.10647897,\n",
       "       0.19996178, 0.21979957, 0.23235834, 0.27701372, 0.36603435,\n",
       "       0.07582572, 0.17650826, 0.30607496, 0.23929971, 0.36032611,\n",
       "       0.05156325, 0.25860022, 0.14080941, 0.37167166, 0.2373491 ,\n",
       "       0.09115936, 0.35677097, 0.05144415, 0.14321292, 0.19899909,\n",
       "       0.16600205, 0.18258197, 0.20321958, 0.37817123, 0.24675752,\n",
       "       0.01595843, 0.25861712, 0.25284884, 0.14627214, 0.25941361,\n",
       "       0.30291782, 0.15269268, 0.28373466, 0.24967026, 0.1962603 ,\n",
       "       0.35043207, 0.35398542, 0.04272869, 0.22699815, 0.06557328,\n",
       "       0.19537372, 0.27528121, 0.2524582 , 0.05303244, 0.23138359,\n",
       "       0.14409343, 0.28159689, 0.34257545, 0.08621916, 0.34319235,\n",
       "       0.0758004 , 0.21703673, 0.18859691, 0.34376548, 0.08919328,\n",
       "       0.29748485, 0.12967575, 0.20859679, 0.18004578, 0.35222664,\n",
       "       0.19491653, 0.02959335, 0.07883352, 0.007177  , 0.07992709,\n",
       "       0.10736674, 0.34681381, 0.10464609, 0.28613093, 0.25524489,\n",
       "       0.16697958, 0.03038616, 0.22790472, 0.18706316, 0.37034174,\n",
       "       0.11350962, 0.0703153 , 0.21438327, 0.29380811, 0.16958453,\n",
       "       0.33343077, 0.27013012, 0.1143925 , 0.14874219, 0.10566772,\n",
       "       0.26827365, 0.23929145, 0.23666777, 0.19654255, 0.03467191,\n",
       "       0.15275484, 0.05714066, 0.27368859, 0.08151991, 0.02034973,\n",
       "       0.27934955, 0.32113479, 0.22718293, 0.13049397, 0.29223801,\n",
       "       0.22614239, 0.19334133, 0.26750051, 0.18661526, 0.23324109,\n",
       "       0.36148361, 0.05890484, 0.11031124, 0.19240915, 0.01878659,\n",
       "       0.22305236, 0.22952314, 0.11748255, 0.03505202, 0.23464259,\n",
       "       0.16128377, 0.18894475, 0.10365579, 0.02297925, 0.35293617,\n",
       "       0.23504587, 0.15784926, 0.35673728, 0.21771901, 0.25857891,\n",
       "       0.24795988, 0.36314741, 0.31084495, 0.10992644, 0.11573606,\n",
       "       0.13676288, 0.17609612, 0.1870988 , 0.28466121, 0.11785226,\n",
       "       0.07709685, 0.21962528, 0.3388345 , 0.22851079, 0.22374354,\n",
       "       0.09477904, 0.05548526, 0.21986212, 0.1774164 , 0.37332592,\n",
       "       0.37990683, 0.05497252, 0.09715306, 0.26977366, 0.28080978,\n",
       "       0.23001584, 0.14960434, 0.01094393, 0.26220025, 0.29725529,\n",
       "       0.08485801, 0.03205183, 0.35480117, 0.29375634, 0.35267263,\n",
       "       0.12341652, 0.26837813, 0.23585178, 0.31680178, 0.30272891,\n",
       "       0.34277827, 0.22142333, 0.21198374, 0.30165043, 0.23552355,\n",
       "       0.15560018, 0.04653558, 0.2354857 , 0.21847392, 0.10446531,\n",
       "       0.0847655 , 0.36941553, 0.37385415, 0.27948606, 0.25734624,\n",
       "       0.19686358, 0.20114147, 0.0851885 , 0.35361195, 0.20896711,\n",
       "       0.22554319, 0.17553613, 0.20362232, 0.10584775, 0.30087029,\n",
       "       0.22518446, 0.36746076, 0.35748219, 0.2276524 , 0.17664507,\n",
       "       0.21849655, 0.05309226, 0.06528305, 0.24818446, 0.22992339,\n",
       "       0.2447235 , 0.12180963, 0.13285906, 0.2141373 , 0.13342744,\n",
       "       0.18274558, 0.07543699, 0.25460446, 0.15442678, 0.21076089,\n",
       "       0.24981463, 0.05685439, 0.22963962, 0.05555513, 0.33334363,\n",
       "       0.20924536, 0.27471174, 0.37392097, 0.17462621, 0.21772525,\n",
       "       0.14989235, 0.32297846, 0.21419061, 0.29904969, 0.22041157,\n",
       "       0.15360635, 0.18800622, 0.29110728, 0.22592749, 0.17527231,\n",
       "       0.0703751 , 0.19087117, 0.23637365, 0.26606387, 0.3704327 ,\n",
       "       0.10811756, 0.23243963, 0.25410844, 0.18160876, 0.02663906,\n",
       "       0.26627552, 0.17799977, 0.2599002 , 0.13606602, 0.1398087 ,\n",
       "       0.07437189, 0.09836423, 0.28226323, 0.28507868, 0.28394619,\n",
       "       0.09067677, 0.17822511, 0.10399174, 0.3594625 , 0.37743549,\n",
       "       0.17141593, 0.14830229, 0.11037318, 0.26752371, 0.01177956,\n",
       "       0.27174782, 0.28644684, 0.12558973, 0.35542402, 0.029421  ,\n",
       "       0.00851803, 0.20298617, 0.27740609, 0.11337773, 0.1280185 ,\n",
       "       0.24214897, 0.13173447, 0.22810531, 0.16068261, 0.18036702,\n",
       "       0.3787518 , 0.15335019, 0.36736965, 0.19033163, 0.09419917,\n",
       "       0.19938755, 0.17843409, 0.38063698, 0.26441462, 0.33354854,\n",
       "       0.06758851, 0.07080313, 0.16927642, 0.22046211, 0.32699085,\n",
       "       0.11830491, 0.28065385, 0.21361978, 0.30311147, 0.03396588,\n",
       "       0.26675564, 0.25789993, 0.2574528 , 0.18771366, 0.13138708,\n",
       "       0.24759423, 0.33008242, 0.11926109, 0.2304645 , 0.22561467,\n",
       "       0.11571683, 0.2105073 , 0.18929999, 0.24406276, 0.18619057,\n",
       "       0.36769667, 0.01868015, 0.19567983, 0.18238312, 0.23278461,\n",
       "       0.12554713, 0.25776166, 0.15150772, 0.23900617, 0.03876907,\n",
       "       0.35400919, 0.26535914, 0.22517061, 0.23878406, 0.12529155,\n",
       "       0.07692974, 0.025451  , 0.01660874, 0.37315589, 0.3745069 ,\n",
       "       0.19378731, 0.14355423, 0.28034652, 0.1965292 , 0.37874166,\n",
       "       0.03294849, 0.09916433, 0.07548226, 0.29804563, 0.32327605,\n",
       "       0.28444126, 0.26597412, 0.11467258, 0.27899522, 0.14478114,\n",
       "       0.21000366, 0.2316903 , 0.10411353, 0.35249824, 0.1693376 ,\n",
       "       0.16743475, 0.38343966, 0.21989141, 0.12542829, 0.03753191,\n",
       "       0.14168939, 0.20859747, 0.32189457, 0.17239677, 0.21411013,\n",
       "       0.30545592, 0.36483741, 0.15935583, 0.24315369, 0.19491765])"
      ]
     },
     "execution_count": 78,
     "metadata": {},
     "output_type": "execute_result"
    }
   ],
   "source": []
  },
  {
   "cell_type": "code",
   "execution_count": 30,
   "metadata": {},
   "outputs": [
    {
     "name": "stdout",
     "output_type": "stream",
     "text": [
      "[]\n"
     ]
    }
   ],
   "source": [
    "print(X_val[np.where(y_val)==1])"
   ]
  },
  {
   "cell_type": "code",
   "execution_count": 106,
   "metadata": {},
   "outputs": [
    {
     "name": "stderr",
     "output_type": "stream",
     "text": [
      "/Users/eshan/IIT Delhi/ELL409 - Machine Learning/ELL409/Assigment_1/classifiers.py:57: RuntimeWarning: divide by zero encountered in log\n",
      "  logLikelyhood = np.sum(np.log(estimates), axis = 1)\n"
     ]
    },
    {
     "name": "stdout",
     "output_type": "stream",
     "text": [
      "accuracy_test:  0.796\n"
     ]
    }
   ],
   "source": [
    "# Auto tuned Parzen Window with Euclidean Distance\n",
    "(X_train, y_train, X_val, y_val, X_test, y_test) = prepareMedicalData(scale = 0)\n",
    "y_pred = bayesClassifierAuto(X_test, X_train, y_train, X_val, y_val, parzenWindowEstimationAuto_gaussian, euclideanDistance )\n",
    "acc = accuracy(y_pred, y_test)\n",
    "print(\"accuracy_test: \", acc)\n",
    "\n"
   ]
  },
  {
   "cell_type": "code",
   "execution_count": 107,
   "metadata": {},
   "outputs": [
    {
     "name": "stdout",
     "output_type": "stream",
     "text": [
      "\n",
      "\n",
      "\n",
      "\n",
      "H:  0.3\n",
      "accuracy_test:  0.87\n"
     ]
    }
   ],
   "source": [
    "#ParzenWindow Bayes\n",
    "(X_train, y_train, X_val, y_val, X_test, y_test) = prepareMedicalData(scale = 0)\n",
    "\n",
    "hMax = 0.001, \n",
    "accMax = 0\n",
    "for H in [0.001, 0.003, 0.01, 0.03, 0.1, 0.3, 1, 3, 10, 30, 100, 300]:\n",
    "    start = time.time()\n",
    "    y_pred = bayesClassifier(X_val, X_train, y_train, parzenWindowEstimation_gaussian, H)\n",
    "    acc = accuracy(y_pred, y_val)\n",
    "    end = time.time()\n",
    "    if acc>accMax: \n",
    "        hMax = H\n",
    "        accMax = acc\n",
    "\n",
    "    #print(\"H: \", H)\n",
    "    #print(\"accuracy_validation: \", acc)\n",
    "#    print(\"time taken: \", end-start)\n",
    "\n",
    "print(\"\\n\\n\\n\")\n",
    "#Accuracy peaks for H = 0.1\n",
    "H = hMax\n",
    "y_pred = bayesClassifier(X_test, X_train, y_train, parzenWindowEstimation_gaussian, H)\n",
    "acc = accuracy(y_pred, y_test)\n",
    "print(\"H: \", H)\n",
    "print(\"accuracy_test: \", acc)\n",
    "\n",
    "\n"
   ]
  },
  {
   "cell_type": "code",
   "execution_count": 120,
   "metadata": {},
   "outputs": [
    {
     "name": "stdout",
     "output_type": "stream",
     "text": [
      "accuracy_test:  0.864\n"
     ]
    }
   ],
   "source": [
    "# Auto tuned kNN with Euclidean Distance\n",
    "(X_train, y_train, X_val, y_val, X_test, y_test) = prepareMedicalData(Whitening = 1)\n",
    "y_pred = bayesClassifierAuto(X_test, X_train, y_train, X_val, y_val, kNearestNeighboursEstimationAuto, euclideanDistance )\n",
    "acc = accuracy(y_pred, y_test)\n",
    "print(\"accuracy_test: \", acc)\n",
    "\n",
    "\n"
   ]
  },
  {
   "cell_type": "code",
   "execution_count": 123,
   "metadata": {},
   "outputs": [
    {
     "name": "stdout",
     "output_type": "stream",
     "text": [
      "H:  <function <listcomp>.<lambda> at 0x10c66a7b8>\n",
      "accuracy_validation:  0.718\n",
      "time taken:  0.09042477607727051\n",
      "H:  <function <listcomp>.<lambda> at 0x10c66abf8>\n",
      "accuracy_validation:  0.718\n",
      "time taken:  0.08697032928466797\n",
      "H:  <function <listcomp>.<lambda> at 0x10c66a9d8>\n",
      "accuracy_validation:  0.718\n",
      "time taken:  0.08308291435241699\n",
      "H:  <function <listcomp>.<lambda> at 0x10c66ad08>\n",
      "accuracy_validation:  0.718\n",
      "time taken:  0.08910679817199707\n",
      "H:  <function <listcomp>.<lambda> at 0x10c66a268>\n",
      "accuracy_validation:  0.718\n",
      "time taken:  0.08362483978271484\n",
      "H:  <function <listcomp>.<lambda> at 0x10c66a598>\n",
      "accuracy_validation:  0.718\n",
      "time taken:  0.08349990844726562\n",
      "H:  <function <listcomp>.<lambda> at 0x10c66a0d0>\n",
      "accuracy_validation:  0.718\n",
      "time taken:  0.09331202507019043\n",
      "H:  <function <listcomp>.<lambda> at 0x10c66a8c8>\n",
      "accuracy_validation:  0.718\n",
      "time taken:  0.08924484252929688\n",
      "H:  <function <listcomp>.<lambda> at 0x10c66aae8>\n",
      "accuracy_validation:  0.718\n",
      "time taken:  0.08455514907836914\n",
      "H:  <function <listcomp>.<lambda> at 0x10c66a950>\n",
      "accuracy_validation:  0.718\n",
      "time taken:  0.08656573295593262\n",
      "\n",
      "\n",
      "\n",
      "\n",
      "H:  <ufunc 'log'>\n",
      "accuracy_test:  0.864\n"
     ]
    }
   ],
   "source": [
    "#ParzenWindow  Bayes\n",
    "(X_train, y_train, X_val, y_val, X_test, y_test) = prepareMedicalData(Whitening = 1)\n",
    "#for H in [np.sqrt, np.abs, np.log, lambda n: n/2]:\n",
    "for H in [(lambda n: k) for k in [1,2,4,8,16,32,64,128,256,512]]: \n",
    "    start = time.time()\n",
    "    y_pred = bayesClassifier(X_val, X_train, y_train, kNearestNeighboursEstimation, H)\n",
    "    acc = accuracy(y_pred, y_val)\n",
    "    end = time.time()\n",
    "    print(\"H: \", H)\n",
    "    print(\"accuracy_validation: \", acc)\n",
    "    print(\"time taken: \", end-start)\n",
    "\n",
    "print(\"\\n\\n\\n\")\n",
    "#Accuracy peaks for H = 0.1\n",
    "H = np.log\n",
    "y_pred = bayesClassifier(X_test, X_train, y_train, kNearestNeighboursEstimation, H)\n",
    "acc = accuracy(y_pred, y_test)\n",
    "print(\"H: \", H)\n",
    "print(\"accuracy_test: \", acc)\n",
    "\n"
   ]
  },
  {
   "cell_type": "code",
   "execution_count": 23,
   "metadata": {
    "scrolled": true
   },
   "outputs": [
    {
     "name": "stdout",
     "output_type": "stream",
     "text": [
      "1 0 0.322\n",
      "2 0 0.57\n",
      "4 0 0.752\n",
      "8 0 0.806\n",
      "16 0 0.83\n",
      "32 0 0.842\n",
      "64 0 0.874\n",
      "128 0 0.872\n",
      "256 0 0.88\n",
      "512 0 0.878\n",
      "256\n",
      "0.85\n",
      "0.88\n"
     ]
    }
   ],
   "source": [
    "(X_train, y_train, X_val, y_val, X_test, y_test) = prepareMedicalData(scale = 1)\n",
    "[y_pred,k, valAcc] = kMeansClassifierAuto(X_test, X_train, y_train, X_val, y_val, it = 1, distanceMetric = euclideanDistance)\n",
    "print(k)\n",
    "acc = accuracy(y_pred, y_test)\n",
    "print(acc)\n",
    "print(valAcc)\n"
   ]
  },
  {
   "cell_type": "code",
   "execution_count": 87,
   "metadata": {},
   "outputs": [
    {
     "name": "stdout",
     "output_type": "stream",
     "text": [
      "Data    euclideanDistance\n"
     ]
    },
    {
     "name": "stderr",
     "output_type": "stream",
     "text": [
      "/home/sid/ELL409/Assigment_1/classifiers.py:65: RuntimeWarning: divide by zero encountered in log\n",
      "  logLikelyhood = np.sum(np.log(estimates), axis = 1)\n"
     ]
    },
    {
     "ename": "AssertionError",
     "evalue": "5 columns passed, passed data had 3 columns",
     "output_type": "error",
     "traceback": [
      "\u001b[0;31m---------------------------------------------------------------------------\u001b[0m",
      "\u001b[0;31mAssertionError\u001b[0m                            Traceback (most recent call last)",
      "\u001b[0;32m<ipython-input-87-c8aadebf6ce4>\u001b[0m in \u001b[0;36m<module>\u001b[0;34m()\u001b[0m\n\u001b[1;32m     17\u001b[0m         \u001b[0mtestAcc\u001b[0m \u001b[0;34m=\u001b[0m \u001b[0maccuracy\u001b[0m\u001b[0;34m(\u001b[0m\u001b[0my_pred\u001b[0m\u001b[0;34m,\u001b[0m \u001b[0my_test\u001b[0m\u001b[0;34m)\u001b[0m\u001b[0;34m\u001b[0m\u001b[0m\n\u001b[1;32m     18\u001b[0m \u001b[0;34m\u001b[0m\u001b[0m\n\u001b[0;32m---> 19\u001b[0;31m         \u001b[0mlog_entry\u001b[0m \u001b[0;34m=\u001b[0m \u001b[0mpd\u001b[0m\u001b[0;34m.\u001b[0m\u001b[0mDataFrame\u001b[0m\u001b[0;34m(\u001b[0m\u001b[0;34m[\u001b[0m\u001b[0;34m[\u001b[0m\u001b[0mparam\u001b[0m\u001b[0;34m,\u001b[0m \u001b[0mdist\u001b[0m\u001b[0;34m.\u001b[0m\u001b[0m__name__\u001b[0m\u001b[0;34m,\u001b[0m \u001b[0mtestAcc\u001b[0m\u001b[0;34m]\u001b[0m\u001b[0;34m]\u001b[0m\u001b[0;34m,\u001b[0m \u001b[0mcolumns\u001b[0m \u001b[0;34m=\u001b[0m \u001b[0mlog_cols\u001b[0m\u001b[0;34m)\u001b[0m\u001b[0;34m\u001b[0m\u001b[0m\n\u001b[0m\u001b[1;32m     20\u001b[0m         \u001b[0mlog\u001b[0m \u001b[0;34m=\u001b[0m \u001b[0mlog\u001b[0m\u001b[0;34m.\u001b[0m\u001b[0mappend\u001b[0m\u001b[0;34m(\u001b[0m\u001b[0mlog_entry\u001b[0m\u001b[0;34m)\u001b[0m\u001b[0;34m\u001b[0m\u001b[0m\n\u001b[1;32m     21\u001b[0m \u001b[0;34m\u001b[0m\u001b[0m\n",
      "\u001b[0;32m/usr/local/lib/python3.6/dist-packages/pandas/core/frame.py\u001b[0m in \u001b[0;36m__init__\u001b[0;34m(self, data, index, columns, dtype, copy)\u001b[0m\n\u001b[1;32m    385\u001b[0m                     \u001b[0;32mif\u001b[0m \u001b[0mis_named_tuple\u001b[0m\u001b[0;34m(\u001b[0m\u001b[0mdata\u001b[0m\u001b[0;34m[\u001b[0m\u001b[0;36m0\u001b[0m\u001b[0;34m]\u001b[0m\u001b[0;34m)\u001b[0m \u001b[0;32mand\u001b[0m \u001b[0mcolumns\u001b[0m \u001b[0;32mis\u001b[0m \u001b[0;32mNone\u001b[0m\u001b[0;34m:\u001b[0m\u001b[0;34m\u001b[0m\u001b[0m\n\u001b[1;32m    386\u001b[0m                         \u001b[0mcolumns\u001b[0m \u001b[0;34m=\u001b[0m \u001b[0mdata\u001b[0m\u001b[0;34m[\u001b[0m\u001b[0;36m0\u001b[0m\u001b[0;34m]\u001b[0m\u001b[0;34m.\u001b[0m\u001b[0m_fields\u001b[0m\u001b[0;34m\u001b[0m\u001b[0m\n\u001b[0;32m--> 387\u001b[0;31m                     \u001b[0marrays\u001b[0m\u001b[0;34m,\u001b[0m \u001b[0mcolumns\u001b[0m \u001b[0;34m=\u001b[0m \u001b[0m_to_arrays\u001b[0m\u001b[0;34m(\u001b[0m\u001b[0mdata\u001b[0m\u001b[0;34m,\u001b[0m \u001b[0mcolumns\u001b[0m\u001b[0;34m,\u001b[0m \u001b[0mdtype\u001b[0m\u001b[0;34m=\u001b[0m\u001b[0mdtype\u001b[0m\u001b[0;34m)\u001b[0m\u001b[0;34m\u001b[0m\u001b[0m\n\u001b[0m\u001b[1;32m    388\u001b[0m                     \u001b[0mcolumns\u001b[0m \u001b[0;34m=\u001b[0m \u001b[0m_ensure_index\u001b[0m\u001b[0;34m(\u001b[0m\u001b[0mcolumns\u001b[0m\u001b[0;34m)\u001b[0m\u001b[0;34m\u001b[0m\u001b[0m\n\u001b[1;32m    389\u001b[0m \u001b[0;34m\u001b[0m\u001b[0m\n",
      "\u001b[0;32m/usr/local/lib/python3.6/dist-packages/pandas/core/frame.py\u001b[0m in \u001b[0;36m_to_arrays\u001b[0;34m(data, columns, coerce_float, dtype)\u001b[0m\n\u001b[1;32m   7432\u001b[0m     \u001b[0;32mif\u001b[0m \u001b[0misinstance\u001b[0m\u001b[0;34m(\u001b[0m\u001b[0mdata\u001b[0m\u001b[0;34m[\u001b[0m\u001b[0;36m0\u001b[0m\u001b[0;34m]\u001b[0m\u001b[0;34m,\u001b[0m \u001b[0;34m(\u001b[0m\u001b[0mlist\u001b[0m\u001b[0;34m,\u001b[0m \u001b[0mtuple\u001b[0m\u001b[0;34m)\u001b[0m\u001b[0;34m)\u001b[0m\u001b[0;34m:\u001b[0m\u001b[0;34m\u001b[0m\u001b[0m\n\u001b[1;32m   7433\u001b[0m         return _list_to_arrays(data, columns, coerce_float=coerce_float,\n\u001b[0;32m-> 7434\u001b[0;31m                                dtype=dtype)\n\u001b[0m\u001b[1;32m   7435\u001b[0m     \u001b[0;32melif\u001b[0m \u001b[0misinstance\u001b[0m\u001b[0;34m(\u001b[0m\u001b[0mdata\u001b[0m\u001b[0;34m[\u001b[0m\u001b[0;36m0\u001b[0m\u001b[0;34m]\u001b[0m\u001b[0;34m,\u001b[0m \u001b[0mcollections\u001b[0m\u001b[0;34m.\u001b[0m\u001b[0mMapping\u001b[0m\u001b[0;34m)\u001b[0m\u001b[0;34m:\u001b[0m\u001b[0;34m\u001b[0m\u001b[0m\n\u001b[1;32m   7436\u001b[0m         return _list_of_dict_to_arrays(data, columns,\n",
      "\u001b[0;32m/usr/local/lib/python3.6/dist-packages/pandas/core/frame.py\u001b[0m in \u001b[0;36m_list_to_arrays\u001b[0;34m(data, columns, coerce_float, dtype)\u001b[0m\n\u001b[1;32m   7511\u001b[0m         \u001b[0mcontent\u001b[0m \u001b[0;34m=\u001b[0m \u001b[0mlist\u001b[0m\u001b[0;34m(\u001b[0m\u001b[0mlib\u001b[0m\u001b[0;34m.\u001b[0m\u001b[0mto_object_array\u001b[0m\u001b[0;34m(\u001b[0m\u001b[0mdata\u001b[0m\u001b[0;34m)\u001b[0m\u001b[0;34m.\u001b[0m\u001b[0mT\u001b[0m\u001b[0;34m)\u001b[0m\u001b[0;34m\u001b[0m\u001b[0m\n\u001b[1;32m   7512\u001b[0m     return _convert_object_array(content, columns, dtype=dtype,\n\u001b[0;32m-> 7513\u001b[0;31m                                  coerce_float=coerce_float)\n\u001b[0m\u001b[1;32m   7514\u001b[0m \u001b[0;34m\u001b[0m\u001b[0m\n\u001b[1;32m   7515\u001b[0m \u001b[0;34m\u001b[0m\u001b[0m\n",
      "\u001b[0;32m/usr/local/lib/python3.6/dist-packages/pandas/core/frame.py\u001b[0m in \u001b[0;36m_convert_object_array\u001b[0;34m(content, columns, coerce_float, dtype)\u001b[0m\n\u001b[1;32m   7569\u001b[0m             raise AssertionError('{col:d} columns passed, passed data had '\n\u001b[1;32m   7570\u001b[0m                                  '{con} columns'.format(col=len(columns),\n\u001b[0;32m-> 7571\u001b[0;31m                                                         con=len(content)))\n\u001b[0m\u001b[1;32m   7572\u001b[0m \u001b[0;34m\u001b[0m\u001b[0m\n\u001b[1;32m   7573\u001b[0m     \u001b[0;31m# provide soft conversion of object dtypes\u001b[0m\u001b[0;34m\u001b[0m\u001b[0;34m\u001b[0m\u001b[0m\n",
      "\u001b[0;31mAssertionError\u001b[0m: 5 columns passed, passed data had 3 columns"
     ]
    }
   ],
   "source": [
    "distanceMetrics = [euclideanDistance]\n",
    "params = {\"Data\": (0,-1,0), \"Normalized\": (1,-1,0), \"PCA\":(0,1,0), \"90% PCA: p = 2\": (0,0.9,0), \"Whitening\": (0,-1,1), \"Whitening + PCA\": (0,1,1), \"Normalized+PCA\": (1,1,0) }\n",
    "log_cols = [\"Data\" ,\"Distance Metric\", \"Validation_K\", \"Validation_Acc\", \"Test_Acc\"]\n",
    "log  = pd.DataFrame(columns=log_cols)\n",
    "acc_dict = {}\n",
    "\n",
    "\n",
    "for param in params:\n",
    "    (x,y,z) = params[param]\n",
    "    (X_train, y_train, X_val, y_val, X_test, y_test) = prepareMedicalData(x,y,z) \n",
    "\n",
    "    for dist in distanceMetrics:\n",
    "        print(param + \"    \" + dist.__name__)\n",
    "\n",
    "        y_pred = bayesClassifierAuto(X_test, X_train, y_train, X_val, y_val, parzenWindowEstimationAuto_gaussian, distanceMetric = dist)\n",
    "        \n",
    "        testAcc = accuracy(y_pred, y_test)\n",
    "    \n",
    "        log_entry = pd.DataFrame([[param, dist.__name__, testAcc]], columns = log_cols)\n",
    "        log = log.append(log_entry)\n",
    "\n",
    "log.set_index('Data', inplace = True)\n",
    "\n",
    "print('\\n\\n\\n\\n')\n",
    "print(log)\n",
    "print('\\n\\n\\n\\n')\n",
    "\n",
    "     \n",
    "\n"
   ]
  },
  {
   "cell_type": "code",
   "execution_count": 222,
   "metadata": {},
   "outputs": [
    {
     "name": "stdout",
     "output_type": "stream",
     "text": [
      "PCA_Threshold = 0.9, P = 84\n"
     ]
    }
   ],
   "source": [
    "(X_train, y_train, X_val, y_val, X_test, y_test) = prepareFMNISTData(PCA_threshold=0.9)\n",
    "\n"
   ]
  },
  {
   "cell_type": "code",
   "execution_count": 248,
   "metadata": {},
   "outputs": [
    {
     "name": "stdout",
     "output_type": "stream",
     "text": [
      "(541, 5)\n",
      "(332, 5)\n"
     ]
    }
   ],
   "source": [
    "(X_train, y_train, X_val, y_val, X_test, y_test) = prepareRailwayData()\n",
    "print(X_train[np.where(y_train==1)].shape)\n",
    "print(X_train[np.where(y_train==0)].shape)"
   ]
  },
  {
   "cell_type": "code",
   "execution_count": null,
   "metadata": {},
   "outputs": [],
   "source": []
  }
 ],
 "metadata": {
  "kernelspec": {
   "display_name": "Python 3",
   "language": "python",
   "name": "python3"
  },
  "language_info": {
   "codemirror_mode": {
    "name": "ipython",
    "version": 3
   },
   "file_extension": ".py",
   "mimetype": "text/x-python",
   "name": "python",
   "nbconvert_exporter": "python",
   "pygments_lexer": "ipython3",
   "version": "3.6.5"
  }
 },
 "nbformat": 4,
 "nbformat_minor": 2
}
