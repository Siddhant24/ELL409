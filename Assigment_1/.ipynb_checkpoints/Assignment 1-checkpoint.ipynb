{
 "cells": [
  {
   "cell_type": "code",
   "execution_count": 88,
   "metadata": {},
   "outputs": [
    {
     "name": "stdout",
     "output_type": "stream",
     "text": [
      "The autoreload extension is already loaded. To reload it, use:\n",
      "  %reload_ext autoreload\n"
     ]
    }
   ],
   "source": [
    "%load_ext autoreload\n",
    "%autoreload 2\n",
    "#Reloads import libraries before every piece of code is run so that changes in function.py reflect immediately\n",
    "\n",
    "\n",
    "import numpy as np\n",
    "import pandas as pd\n",
    "import matplotlib.pyplot as plt\n",
    "\n",
    "import time\n",
    "import random\n",
    "RANDOM_SEED = 42\n",
    "random.seed(RANDOM_SEED)\n",
    "np.random.seed(RANDOM_SEED)\n",
    "\n",
    "#import functions\n",
    "\n",
    "from dataset_import import prepareFMNISTData, prepareRailwayData, prepareMedicalData\n",
    "from distance_metrics import euclideanDistance, manhattenDistance, chebyschevDistance\n",
    "from PCA import PCA, project\n",
    "from evaluation_metrics import accuracy, precision, recall, f1Score\n",
    "from classifiers import knnClassifier, bayesClassifier, naiveBayesClassifier, KMeansClassifier\n",
    "from estimators import kNearestNeighboursEstimation, parzenWindowEstimation_gaussian\n",
    "\n",
    "# import sys\n",
    "# !{sys.executable} -m pip3 install --upgrade pip\n",
    "# !{sys.executable} -m pip3 install python-mnist\n"
   ]
  },
  {
   "cell_type": "code",
   "execution_count": null,
   "metadata": {},
   "outputs": [],
   "source": [
    "\n"
   ]
  },
  {
   "cell_type": "code",
   "execution_count": 10,
   "metadata": {},
   "outputs": [
    {
     "name": "stdout",
     "output_type": "stream",
     "text": [
      "(48000, 84)\n",
      "(12000, 84)\n",
      "(10000, 84)\n",
      "n_samples =  200\n",
      "K:  1\n",
      "accuracy:  0.105\n",
      "time taken:  5.184755802154541\n",
      "K:  3\n",
      "accuracy:  0.105\n",
      "time taken:  5.059077739715576\n",
      "K:  10\n",
      "accuracy:  0.235\n",
      "time taken:  5.047269821166992\n",
      "K:  30\n",
      "accuracy:  0.835\n",
      "time taken:  5.05842399597168\n",
      "K:  100\n",
      "accuracy:  0.835\n",
      "time taken:  5.292791843414307\n",
      "K:  300\n",
      "accuracy:  0.855\n",
      "time taken:  6.1775500774383545\n",
      "K:  1000\n",
      "accuracy:  0.7\n",
      "time taken:  5.8208959102630615\n",
      "K:  3000\n",
      "accuracy:  0.62\n",
      "time taken:  5.079872131347656\n",
      "K:  30\n",
      "accuracy_test:  0.83\n"
     ]
    }
   ],
   "source": [
    "(X_train, y_train, X_val, y_val, X_test, y_test) = prepareFMNISTData(0, 0.9);\n",
    "print(X_train.shape)\n",
    "print(X_val.shape)\n",
    "print(X_test.shape)\n",
    "\n",
    "\n",
    "n_samples = 200\n",
    "print(\"n_samples = \", n_samples)\n",
    "indices = random.sample(range(0, 10000), n_samples)\n",
    "for K in [1, 3, 10, 30, 100, 300, 1000, 3000]:\n",
    "    start = time.time()\n",
    "    print(\"K: \", K)\n",
    "    y_pred = bayesClassifier(X_val[indices], X_train, y_train, parzenWindowEstimation_gaussian, K) \n",
    "    #print(y_pred, y_test[indices])\n",
    "    acc = accuracy(y_pred, y_val[indices])\n",
    "    end = time.time()\n",
    "\n",
    "    print(\"accuracy: \", acc)\n",
    "    print(\"time taken: \", end-start)\n",
    "\n",
    "    \n",
    "#Accuracy peaks for K=30\n",
    "K = 30\n",
    "y_pred = bayesClassifier(X_test[indices], X_train, y_train, parzenWindowEstimation_gaussian, K) \n",
    "acc = accuracy(y_pred, y_test[indices])\n",
    "print(\"K: \", K)\n",
    "print(\"accuracy_test: \", acc)\n",
    "\n"
   ]
  },
  {
   "cell_type": "code",
   "execution_count": 3,
   "metadata": {},
   "outputs": [
    {
     "name": "stdout",
     "output_type": "stream",
     "text": [
      "\n",
      "Train, Validation, Test\n",
      "(2000, 3) (2000,)\n",
      "(500, 3) (500,)\n",
      "(500, 3) (500,)\n"
     ]
    }
   ],
   "source": [
    "##MEDICAL DATA\n",
    "(X_train, y_train, X_val, y_val, X_test, y_test) = prepareMedicalData()\n",
    "print()\n",
    "print(\"Train, Validation, Test\")\n",
    "print(X_train.shape, y_train.shape)\n",
    "print(X_val.shape, y_val.shape)\n",
    "print(X_test.shape, y_test.shape)\n",
    "\n",
    "\n"
   ]
  },
  {
   "cell_type": "code",
   "execution_count": 4,
   "metadata": {},
   "outputs": [
    {
     "name": "stdout",
     "output_type": "stream",
     "text": [
      "K:  1\n",
      "accuracy_validation:  0.886\n",
      "K:  3\n",
      "accuracy_validation:  0.874\n",
      "K:  10\n",
      "accuracy_validation:  0.868\n",
      "K:  30\n",
      "accuracy_validation:  0.87\n",
      "K:  100\n",
      "accuracy_validation:  0.856\n",
      "K:  300\n",
      "accuracy_validation:  0.796\n",
      "\n",
      "\n",
      "\n",
      "\n",
      "K:  1\n",
      "accuracy_test:  0.88\n"
     ]
    }
   ],
   "source": [
    "#KNN\n",
    "(X_train, y_train, X_val, y_val, X_test, y_test) = prepareMedicalData(0)\n",
    "for K in [1, 3, 10, 30, 100, 300]:\n",
    "    start = time.time()\n",
    "    y_pred = knnClassifier(X_val, X_train, y_train, K, euclideanDistance )\n",
    "    acc = accuracy(y_pred, y_val)\n",
    "    end = time.time()\n",
    "    print(\"K: \", K)\n",
    "    print(\"accuracy_validation: \", acc)\n",
    "    #print(\"time taken: \", end-start)\n",
    "\n",
    "print(\"\\n\\n\\n\")\n",
    "#Accuracy peaks for K=1\n",
    "K = 1\n",
    "y_pred = knnClassifier(X_test, X_train, y_train, K, euclideanDistance )\n",
    "acc = accuracy(y_pred, y_test)\n",
    "print(\"K: \", K)\n",
    "print(\"accuracy_test: \", acc)\n",
    "\n"
   ]
  },
  {
   "cell_type": "code",
   "execution_count": null,
   "metadata": {
    "collapsed": true
   },
   "outputs": [],
   "source": []
  },
  {
   "cell_type": "code",
   "execution_count": 2,
   "metadata": {},
   "outputs": [
    {
     "name": "stdout",
     "output_type": "stream",
     "text": [
      "K:  1\n",
      "accuracy_validation:  0.882\n",
      "K:  3\n",
      "accuracy_validation:  0.87\n",
      "K:  10\n",
      "accuracy_validation:  0.87\n",
      "K:  30\n",
      "accuracy_validation:  0.874\n",
      "K:  100\n",
      "accuracy_validation:  0.858\n",
      "K:  300\n",
      "accuracy_validation:  0.802\n",
      "\n",
      "\n",
      "\n",
      "\n",
      "K:  1\n",
      "accuracy_test:  0.878\n"
     ]
    }
   ],
   "source": [
    "#Normalized KNN\n",
    "(X_train, y_train, X_val, y_val, X_test, y_test) = prepareMedicalData(1)\n",
    "for K in [1, 3, 10, 30, 100, 300]:\n",
    "    start = time.time()\n",
    "    y_pred = knnClassifier(X_val, X_train, y_train, K, euclideanDistance )\n",
    "    acc = accuracy(y_pred, y_val)\n",
    "    end = time.time()\n",
    "    print(\"K: \", K)\n",
    "    print(\"accuracy_validation: \", acc)\n",
    "    #print(\"time taken: \", end-start)\n",
    "\n",
    "print(\"\\n\\n\\n\")\n",
    "#Accuracy peaks for K=1\n",
    "K = 1\n",
    "y_pred = knnClassifier(X_test, X_train, y_train, K, euclideanDistance )\n",
    "acc = accuracy(y_pred, y_test)\n",
    "print(\"K: \", K)\n",
    "print(\"accuracy_test: \", acc)\n",
    "\n",
    "\n"
   ]
  },
  {
   "cell_type": "code",
   "execution_count": 6,
   "metadata": {},
   "outputs": [
    {
     "name": "stdout",
     "output_type": "stream",
     "text": [
      "H:  <ufunc 'sqrt'>\n",
      "accuracy_validation:  0.85\n",
      "time taken:  0.09196090698242188\n",
      "H:  <ufunc 'absolute'>\n",
      "accuracy_validation:  0.526\n",
      "time taken:  0.07190608978271484\n",
      "H:  <ufunc 'log'>\n",
      "accuracy_validation:  0.876\n",
      "time taken:  0.08338785171508789\n",
      "H:  <function <lambda> at 0x10b0ca730>\n",
      "accuracy_validation:  0.73\n",
      "time taken:  0.09158515930175781\n",
      "\n",
      "\n",
      "\n",
      "\n",
      "H:  <ufunc 'log'>\n",
      "accuracy_test:  0.86\n"
     ]
    }
   ],
   "source": [
    "#ParzenWindow  Bayes\n",
    "(X_train, y_train, X_val, y_val, X_test, y_test) = prepareMedicalData(1)\n",
    "for H in [np.sqrt, np.abs, np.log, lambda n: n/2]:\n",
    "    start = time.time()\n",
    "    y_pred = bayesClassifier(X_val, X_train, y_train, kNearestNeighboursEstimation, H)\n",
    "    \n",
    "    acc = accuracy(y_pred, y_val)\n",
    "    end = time.time()\n",
    "    print(\"H: \", H)\n",
    "    print(\"accuracy_validation: \", acc)\n",
    "    print(\"time taken: \", end-start)\n",
    "\n",
    "print(\"\\n\\n\\n\")\n",
    "#Accuracy peaks for H = 0.1\n",
    "H = np.log\n",
    "y_pred = bayesClassifier(X_test, X_train, y_train, kNearestNeighboursEstimation, H)\n",
    "acc = accuracy(y_pred, y_test)\n",
    "print(\"H: \", H)\n",
    "print(\"accuracy_test: \", acc)\n",
    "\n"
   ]
  },
  {
   "cell_type": "code",
   "execution_count": 6,
   "metadata": {},
   "outputs": [
    {
     "name": "stdout",
     "output_type": "stream",
     "text": [
      "H:  0.001\n",
      "accuracy_validation:  0.368\n",
      "time taken:  0.11341190338134766\n",
      "H:  0.003\n",
      "accuracy_validation:  0.664\n",
      "time taken:  0.10904097557067871\n",
      "H:  0.01\n",
      "accuracy_validation:  0.874\n",
      "time taken:  0.12460708618164062\n",
      "H:  0.03\n",
      "accuracy_validation:  0.884\n",
      "time taken:  0.12711501121520996\n",
      "H:  0.1\n",
      "accuracy_validation:  0.89\n",
      "time taken:  0.12891173362731934\n",
      "H:  0.3\n",
      "accuracy_validation:  0.882\n",
      "time taken:  0.1110081672668457\n",
      "H:  1\n",
      "accuracy_validation:  0.796\n",
      "time taken:  0.12150907516479492\n",
      "H:  3\n",
      "accuracy_validation:  0.716\n",
      "time taken:  0.11344218254089355\n",
      "H:  10\n",
      "accuracy_validation:  0.322\n",
      "time taken:  0.12047219276428223\n",
      "H:  30\n",
      "accuracy_validation:  0.322\n",
      "time taken:  0.11778998374938965\n",
      "H:  100\n",
      "accuracy_validation:  0.322\n",
      "time taken:  0.130295991897583\n",
      "H:  300\n",
      "accuracy_validation:  0.322\n",
      "time taken:  0.12284183502197266\n",
      "\n",
      "\n",
      "\n",
      "\n",
      "H:  0.1\n",
      "accuracy_test:  0.882\n"
     ]
    }
   ],
   "source": [
    "#ParzenWindow Bayes\n",
    "(X_train, y_train, X_val, y_val, X_test, y_test) = prepareMedicalData(1)\n",
    "for H in [0.001, 0.003, 0.01, 0.03, 0.1, 0.3, 1, 3, 10, 30, 100, 300]:\n",
    "    start = time.time()\n",
    "    y_pred = bayesClassifier(X_val, X_train, y_train, parzenWindowEstimation_gaussian, H)\n",
    "    acc = accuracy(y_pred, y_val)\n",
    "    end = time.time()\n",
    "    print(\"H: \", H)\n",
    "    print(\"accuracy_validation: \", acc)\n",
    "    print(\"time taken: \", end-start)\n",
    "\n",
    "print(\"\\n\\n\\n\")\n",
    "#Accuracy peaks for H = 0.1\n",
    "H = 0.1\n",
    "y_pred = bayesClassifier(X_test, X_train, y_train, parzenWindowEstimation_gaussian, H)\n",
    "acc = accuracy(y_pred, y_test)\n",
    "print(\"H: \", H)\n",
    "print(\"accuracy_test: \", acc)\n",
    "\n",
    "\n"
   ]
  },
  {
   "cell_type": "code",
   "execution_count": 7,
   "metadata": {},
   "outputs": [
    {
     "name": "stdout",
     "output_type": "stream",
     "text": [
      "Train, Validation, Test\n",
      "(873, 5) (873,)\n",
      "(218, 5) (218,)\n",
      "(219, 5) (219,)\n"
     ]
    }
   ],
   "source": [
    "\n",
    "\n",
    "\n",
    "(X_train, y_train, X_val, y_val, X_test, y_test) = prepareRailwayData()\n",
    "#print(railwayData.head())\n",
    "#print()\n",
    "#print(\"GROUPED Mean\")\n",
    "#print(railwayData[['boarded', 'budget', 'preferredClass', 'memberCount', 'sex', 'age']].groupby('sex').mean())\n",
    "#print()\n",
    "print(\"Train, Validation, Test\")\n",
    "print(X_train.shape, y_train.shape)\n",
    "print(X_val.shape, y_val.shape)\n",
    "print(X_test.shape, y_test.shape)\n",
    "\n"
   ]
  },
  {
   "cell_type": "code",
   "execution_count": 8,
   "metadata": {
    "scrolled": true
   },
   "outputs": [
    {
     "name": "stdout",
     "output_type": "stream",
     "text": [
      "K:  1\n",
      "accuracy_validation:  0.7155963302752294\n",
      "K:  3\n",
      "accuracy_validation:  0.7844036697247706\n",
      "K:  10\n",
      "accuracy_validation:  0.7477064220183486\n",
      "K:  30\n",
      "accuracy_validation:  0.7385321100917431\n",
      "K:  100\n",
      "accuracy_validation:  0.6788990825688074\n",
      "K:  300\n",
      "accuracy_validation:  0.6972477064220184\n",
      "\n",
      "\n",
      "\n",
      "\n",
      "K:  3\n",
      "accuracy_test:  0.6940639269406392\n"
     ]
    }
   ],
   "source": [
    "\n",
    "#Unnormalized KNN with Euclidean Distance\n",
    "(X_train, y_train, X_val, y_val, X_test, y_test) = prepareRailwayData(scale = 0)\n",
    "for K in [1, 3, 10, 30, 100, 300]:\n",
    "    start = time.time()\n",
    "    y_pred = knnClassifier(X_val, X_train, y_train, K, euclideanDistance )\n",
    "    acc = accuracy(y_pred, y_val)\n",
    "    end = time.time()\n",
    "    print(\"K: \", K)\n",
    "    print(\"accuracy_validation: \", acc)\n",
    "    #print(\"time taken: \", end-start)\n",
    "\n",
    "print(\"\\n\\n\\n\")\n",
    "#Accuracy peaks for K=3\n",
    "K = 3\n",
    "y_pred = knnClassifier(X_test, X_train, y_train, K, euclideanDistance )\n",
    "acc = accuracy(y_pred, y_test)\n",
    "print(\"K: \", K)\n",
    "print(\"accuracy_test: \", acc)\n",
    "\n"
   ]
  },
  {
   "cell_type": "code",
   "execution_count": 3,
   "metadata": {
    "scrolled": true
   },
   "outputs": [
    {
     "name": "stdout",
     "output_type": "stream",
     "text": [
      "K:  1\n",
      "accuracy_validation:  0.7155963302752294\n",
      "K:  3\n",
      "accuracy_validation:  0.7889908256880734\n",
      "K:  10\n",
      "accuracy_validation:  0.7889908256880734\n",
      "K:  30\n",
      "accuracy_validation:  0.7935779816513762\n",
      "K:  100\n",
      "accuracy_validation:  0.7752293577981652\n",
      "K:  300\n",
      "accuracy_validation:  0.8027522935779816\n",
      "\n",
      "\n",
      "\n",
      "\n",
      "K:  30\n",
      "accuracy_test:  0.7488584474885844\n"
     ]
    }
   ],
   "source": [
    "# Normalized KNN with Euclidean Distance\n",
    "(X_train, y_train, X_val, y_val, X_test, y_test) = prepareRailwayData(scale = 1)\n",
    "for K in [1, 3, 10, 30, 100, 300]:\n",
    "    start = time.time()\n",
    "    y_pred = knnClassifier(X_val, X_train, y_train, K, euclideanDistance )\n",
    "    acc = accuracy(y_pred, y_val)\n",
    "    end = time.time()\n",
    "    print(\"K: \", K)\n",
    "    print(\"accuracy_validation: \", acc)\n",
    "    #print(\"time taken: \", end-start)\n",
    "\n",
    "print(\"\\n\\n\\n\")\n",
    "#Accuracy peaks for K=30\n",
    "K = 30\n",
    "y_pred = knnClassifier(X_test, X_train, y_train, K, euclideanDistance)\n",
    "acc = accuracy(y_pred, y_test)\n",
    "print(\"K: \", K)\n",
    "print(\"accuracy_test: \", acc)\n",
    "\n",
    "\n",
    "\n"
   ]
  },
  {
   "cell_type": "code",
   "execution_count": 212,
   "metadata": {},
   "outputs": [],
   "source": [
    "\n",
    "    \n"
   ]
  },
  {
   "cell_type": "code",
   "execution_count": 167,
   "metadata": {},
   "outputs": [],
   "source": [
    "(X_train, y_train, X_val, y_val, X_test, y_test) = prepareFMNISTData(0)"
   ]
  },
  {
   "cell_type": "code",
   "execution_count": 171,
   "metadata": {},
   "outputs": [],
   "source": [
    "[Z, p, X, U, W] = PCA(X_train)"
   ]
  },
  {
   "cell_type": "code",
   "execution_count": 176,
   "metadata": {},
   "outputs": [
    {
     "data": {
      "text/plain": [
       "<matplotlib.image.AxesImage at 0x112239438>"
      ]
     },
     "execution_count": 176,
     "metadata": {},
     "output_type": "execute_result"
    },
    {
     "data": {
      "image/png": "[encoded data removed]",
      "text/plain": [
       "<Figure size 432x288 with 1 Axes>"
      ]
     },
     "metadata": {},
     "output_type": "display_data"
    }
   ],
   "source": [
    "#plt.imshow(X_train[0].reshape(28,28))\n",
    "plt.imshow(X[0].reshape(28,28))"
   ]
  },
  {
   "cell_type": "code",
   "execution_count": 220,
   "metadata": {
    "scrolled": false
   },
   "outputs": [
    {
     "data": {
      "image/png": "[encoded data removed]",
      "text/plain": [
       "<Figure size 648x648 with 9 Axes>"
      ]
     },
     "metadata": {},
     "output_type": "display_data"
    }
   ],
   "source": [
    "fig=plt.figure(figsize=(9, 9))\n",
    "columns = 3\n",
    "rows = 3\n",
    "for i in range(1, columns*rows +1):\n",
    "    threshold = 0.75 + i/(columns*rows*4)\n",
    "    [Z, p, X, U, W] = PCA(X_train, threshold)\n",
    "    img = X[0].reshape(28, 28)\n",
    "    ax = fig.add_subplot(rows, columns, i)\n",
    "    ax.imshow(img)\n",
    "    ax.set_title(str(round(threshold*100,3))+ '%, '+ ' P = ' + str(p)+ ' ') \n",
    "\n",
    "fig.tight_layout()\n",
    "plt.show()\n",
    "\n"
   ]
  },
  {
   "cell_type": "code",
   "execution_count": 217,
   "metadata": {},
   "outputs": [
    {
     "data": {
      "text/plain": [
       "'5.53'"
      ]
     },
     "execution_count": 217,
     "metadata": {},
     "output_type": "execute_result"
    }
   ],
   "source": [
    "str(round(5.5345345345,2))"
   ]
  },
  {
   "cell_type": "code",
   "execution_count": null,
   "metadata": {},
   "outputs": [],
   "source": []
  },
  {
   "cell_type": "code",
   "execution_count": null,
   "metadata": {},
   "outputs": [],
   "source": []
  },
  {
   "cell_type": "code",
   "execution_count": null,
   "metadata": {},
   "outputs": [],
   "source": []
  },
  {
   "cell_type": "code",
   "execution_count": null,
   "metadata": {},
   "outputs": [],
   "source": []
  },
  {
   "cell_type": "code",
   "execution_count": null,
   "metadata": {},
   "outputs": [],
   "source": []
  },
  {
   "cell_type": "markdown",
   "metadata": {},
   "source": [
    "# To Do: GMM Estimator\n",
    "    Input: Training Data, Test Data, Estimation\n",
    "    HyperParameter = K>=1: No. of Mixtures\n",
    "    Predict: Ai, Ui, Si for i = [1, 2 ... K]\n",
    "\n",
    "    WHAT IS A GOOD K?: Hard to measure directly. Check different K values on cross-validation set\n",
    "    - Expect K to be similar to that of ideal choice for K-means clustering. \n",
    "    - GMM is quite similar to to the Parzen-window estimate where the larger K in PWE (due to number of training points) will make up for the provision of different Variances and Mixture Sizes in GMM. \n",
    "    \n",
    "    Use Estimation for Bayes Classifier.\n",
    "    \n",
    "    "
   ]
  },
  {
   "cell_type": "code",
   "execution_count": 37,
   "metadata": {},
   "outputs": [
    {
     "name": "stdout",
     "output_type": "stream",
     "text": [
      "2000 3 50\n",
      "W (50, 2000)\n",
      "Mu (50, 3)\n",
      "Sigma (50, 1)\n",
      "Sigma (50, 2000)\n"
     ]
    }
   ],
   "source": [
    "def gaussianMixtureModelEstimation(testX, trainX, K=1, distanceMetric = euclideanDistance):\n",
    "    #Alpha(S) is a scalar\n",
    "    #Nu(S) is a vector\n",
    "    #Sigma(S) is a scalar, SI gives covariance matrix\n",
    "    \n",
    "    #Wt(ij): Probability of i'th point being in j'th matrix\n",
    "    #Wt: N*K, W: K*N\n",
    "    #trainX: n*d\n",
    "\n",
    "    [N,D] = trainX.shape\n",
    "    W = np.random.rand(K, N)\n",
    "    W = W/np.sum(W, axis = 0)     #Probabilities across columns add to one\n",
    "\n",
    "    mu = np.random.rand(K,D)\n",
    "    sigma = np.random.rand(K, 1)\n",
    "    alpha = np.random.rand(K, 1)\n",
    "    alpha = alpha / np.sum(alpha, 1)\n",
    "    \n",
    "    #E-Step\n",
    "    #M-step\n",
    "    print(N,D,K)\n",
    "    print('W', W.shape)\n",
    "    mu = (np.matmul(W, trainX).transpose()/np.sum(W, axis = 1)).transpose()\n",
    "    print('Mu', mu.shape)\n",
    "    print('Sigma', sigma.shape)\n",
    "    sigma = np.array( [np.square(euclideanDistance(trainX, mean)) for mean in mu])\n",
    "    print('Sigma', sigma.shape)\n",
    "    \n",
    "   \n",
    "    \n",
    "    \n",
    "    \n",
    "    \n",
    "(X_train, y_train, X_val, y_val, X_test, y_test) = prepareMedicalData(scale = 1) \n",
    "gaussianMixtureModelEstimation(X_test, X_train, 50)   \n",
    "    "
   ]
  },
  {
   "cell_type": "markdown",
   "metadata": {},
   "source": [
    "# KNN on Medical Dataset\n"
   ]
  },
  {
   "cell_type": "code",
   "execution_count": 85,
   "metadata": {},
   "outputs": [
    {
     "name": "stdout",
     "output_type": "stream",
     "text": [
      "Data    abc\n",
      "Data    chebyschevDistance\n",
      "Data    manhattenDistance\n",
      "Normalized    abc\n",
      "Normalized    chebyschevDistance\n",
      "Normalized    manhattenDistance\n",
      "PCA    abc\n",
      "PCA    chebyschevDistance\n",
      "PCA    manhattenDistance\n",
      "90% PCA: p = 2    abc\n",
      "90% PCA: p = 2    chebyschevDistance\n",
      "90% PCA: p = 2    manhattenDistance\n",
      "Whitening    abc\n",
      "Whitening    chebyschevDistance\n",
      "Whitening    manhattenDistance\n",
      "\n",
      "\n",
      "\n",
      "\n",
      "\n",
      "                   Distance Metric Validation_K  Validation_Acc  Test_Acc\n",
      "Data                                                                     \n",
      "Data                           abc            1           0.886     0.880\n",
      "Data            chebyschevDistance           16           0.882     0.864\n",
      "Data             manhattenDistance            1           0.882     0.888\n",
      "Normalized                     abc            1           0.882     0.878\n",
      "Normalized      chebyschevDistance           16           0.884     0.868\n",
      "Normalized       manhattenDistance            1           0.882     0.890\n",
      "PCA                            abc            1           0.886     0.880\n",
      "PCA             chebyschevDistance           16           0.878     0.862\n",
      "PCA              manhattenDistance           16           0.880     0.866\n",
      "90% PCA: p = 2                 abc            4           0.828     0.794\n",
      "90% PCA: p = 2  chebyschevDistance            4           0.824     0.790\n",
      "90% PCA: p = 2   manhattenDistance            4           0.820     0.796\n",
      "Whitening                      abc            8           0.870     0.868\n",
      "Whitening       chebyschevDistance            8           0.876     0.856\n",
      "Whitening        manhattenDistance           16           0.874     0.866\n",
      "\n",
      "\n",
      "\n",
      "\n",
      "\n"
     ]
    },
    {
     "data": {
      "text/plain": [
       "'\\nplt.xlabel(\\'Accuracy\\')\\nplt.title(\\'Classifier Accuracy\\')\\n\\nsns.set_color_codes(\"muted\")\\nsns.barplot(x=\\'Accuracy\\', y=\\'Classifier\\', data=log, color=\"b\")\\n\\nprint(log)\\n'"
      ]
     },
     "execution_count": 85,
     "metadata": {},
     "output_type": "execute_result"
    }
   ],
   "source": [
    "distanceMetrics = [euclideanDistance, chebyschevDistance, manhattenDistance]\n",
    "K_vals = [1,2,4,8,16, 32, 64, 128, 256]\n",
    "params = {\"Data\": (0,-1,0), \"Normalized\": (1,-1,0), \"PCA\":(0,1,0), \"90% PCA: p = 2\": (0,0.9,0), \"Whitening\": (0,-1,1) }\n",
    "\n",
    "log_cols = [\"Data\" ,\"Distance Metric\", \"Validation_K\", \"Validation_Acc\", \"Test_Acc\"]\n",
    "log  = pd.DataFrame(columns=log_cols)\n",
    "acc_dict = {}\n",
    "\n",
    "\n",
    "for param in params:\n",
    "    (x,y,z) = params[param]\n",
    "    (X_train, y_train, X_val, y_val, X_test, y_test) = prepareMedicalData(x,y,z) \n",
    "\n",
    "    for dist in distanceMetrics:\n",
    "        print(param + \"    \" + dist.__name__)\n",
    "        maxAcc=0\n",
    "        maxK=1\n",
    "        for K in K_vals:\n",
    "            \n",
    "            name = dist.__name__ + \" \" + str(K)\n",
    "            y_pred = knnClassifier(X_val, X_train, y_train, K, dist)\n",
    "            acc = accuracy(y_pred, y_val)\n",
    "            acc_dict[name] = acc\n",
    "            if acc>maxAcc: \n",
    "                maxK = K\n",
    "                maxAcc = acc\n",
    "    \n",
    "        y_pred = knnClassifier(X_test, X_train, y_train, maxK, dist)\n",
    "        testAcc = accuracy(y_pred, y_test)\n",
    "    \n",
    "        classifier = [dist, maxK, maxAcc, testAcc]\n",
    "        log_entry = pd.DataFrame([[param, dist.__name__, maxK, maxAcc, testAcc]], columns = log_cols)\n",
    "        log = log.append(log_entry)\n",
    "\n",
    "log.set_index('Data', inplace = True)\n",
    "\n",
    "print('\\n\\n\\n\\n')\n",
    "print(log)\n",
    "print('\\n\\n\\n\\n')\n",
    "\n",
    "     \n",
    "\n"
   ]
  },
  {
   "cell_type": "markdown",
   "metadata": {},
   "source": [
    "# KNN on FMNIST Dataset"
   ]
  },
  {
   "cell_type": "code",
   "execution_count": 86,
   "metadata": {},
   "outputs": [
    {
     "name": "stdout",
     "output_type": "stream",
     "text": [
      "PCA_Threshold = 0.9, P = 84\n",
      "90% PCA    abc\n"
     ]
    },
    {
     "ename": "KeyboardInterrupt",
     "evalue": "",
     "output_type": "error",
     "traceback": [
      "\u001b[0;31m---------------------------------------------------------------------------\u001b[0m",
      "\u001b[0;31mKeyboardInterrupt\u001b[0m                         Traceback (most recent call last)",
      "\u001b[0;32m<ipython-input-86-c20256656b71>\u001b[0m in \u001b[0;36m<module>\u001b[0;34m()\u001b[0m\n\u001b[1;32m     21\u001b[0m \u001b[0;34m\u001b[0m\u001b[0m\n\u001b[1;32m     22\u001b[0m             \u001b[0mname\u001b[0m \u001b[0;34m=\u001b[0m \u001b[0mdist\u001b[0m\u001b[0;34m.\u001b[0m\u001b[0m__name__\u001b[0m \u001b[0;34m+\u001b[0m \u001b[0;34m\" \"\u001b[0m \u001b[0;34m+\u001b[0m \u001b[0mstr\u001b[0m\u001b[0;34m(\u001b[0m\u001b[0mK\u001b[0m\u001b[0;34m)\u001b[0m\u001b[0;34m\u001b[0m\u001b[0m\n\u001b[0;32m---> 23\u001b[0;31m             \u001b[0my_pred\u001b[0m \u001b[0;34m=\u001b[0m \u001b[0mknnClassifier\u001b[0m\u001b[0;34m(\u001b[0m\u001b[0mX_val\u001b[0m\u001b[0;34m,\u001b[0m \u001b[0mX_train\u001b[0m\u001b[0;34m,\u001b[0m \u001b[0my_train\u001b[0m\u001b[0;34m,\u001b[0m \u001b[0mK\u001b[0m\u001b[0;34m,\u001b[0m \u001b[0mdist\u001b[0m\u001b[0;34m)\u001b[0m\u001b[0;34m\u001b[0m\u001b[0m\n\u001b[0m\u001b[1;32m     24\u001b[0m             \u001b[0macc\u001b[0m \u001b[0;34m=\u001b[0m \u001b[0maccuracy\u001b[0m\u001b[0;34m(\u001b[0m\u001b[0my_pred\u001b[0m\u001b[0;34m,\u001b[0m \u001b[0my_val\u001b[0m\u001b[0;34m)\u001b[0m\u001b[0;34m\u001b[0m\u001b[0m\n\u001b[1;32m     25\u001b[0m             \u001b[0macc_dict\u001b[0m\u001b[0;34m[\u001b[0m\u001b[0mname\u001b[0m\u001b[0;34m]\u001b[0m \u001b[0;34m=\u001b[0m \u001b[0macc\u001b[0m\u001b[0;34m\u001b[0m\u001b[0m\n",
      "\u001b[0;32m~/IIT Delhi/ELL409 - Machine Learning/ELL409/Assigment_1/functions.py\u001b[0m in \u001b[0;36mknnClassifier\u001b[0;34m(testX, trainX, trainY, K, distanceMetric)\u001b[0m\n\u001b[1;32m    217\u001b[0m     \u001b[0;32mreturn\u001b[0m \u001b[0;34m[\u001b[0m\u001b[0mind\u001b[0m\u001b[0;34m,\u001b[0m \u001b[0mradius\u001b[0m \u001b[0;34m]\u001b[0m\u001b[0;34m\u001b[0m\u001b[0m\n\u001b[1;32m    218\u001b[0m \u001b[0;32mdef\u001b[0m \u001b[0mknnClassifier\u001b[0m\u001b[0;34m(\u001b[0m\u001b[0mtestX\u001b[0m\u001b[0;34m,\u001b[0m\u001b[0mtrainX\u001b[0m\u001b[0;34m,\u001b[0m\u001b[0mtrainY\u001b[0m\u001b[0;34m,\u001b[0m \u001b[0mK\u001b[0m \u001b[0;34m=\u001b[0m \u001b[0;36m1\u001b[0m\u001b[0;34m,\u001b[0m \u001b[0mdistanceMetric\u001b[0m \u001b[0;34m=\u001b[0m \u001b[0meuclideanDistance\u001b[0m\u001b[0;34m)\u001b[0m\u001b[0;34m:\u001b[0m\u001b[0;34m\u001b[0m\u001b[0m\n\u001b[0;32m--> 219\u001b[0;31m     \u001b[0mindices\u001b[0m \u001b[0;34m=\u001b[0m \u001b[0mgetKNeighbours\u001b[0m\u001b[0;34m(\u001b[0m\u001b[0mtestX\u001b[0m\u001b[0;34m,\u001b[0m \u001b[0mtrainX\u001b[0m\u001b[0;34m,\u001b[0m \u001b[0mK\u001b[0m\u001b[0;34m,\u001b[0m \u001b[0mdistanceMetric\u001b[0m\u001b[0;34m)\u001b[0m\u001b[0;34m[\u001b[0m\u001b[0;36m0\u001b[0m\u001b[0;34m]\u001b[0m\u001b[0;34m\u001b[0m\u001b[0m\n\u001b[0m\u001b[1;32m    220\u001b[0m     \u001b[0mfreqs\u001b[0m \u001b[0;34m=\u001b[0m \u001b[0mnp\u001b[0m\u001b[0;34m.\u001b[0m\u001b[0marray\u001b[0m\u001b[0;34m(\u001b[0m\u001b[0;34m[\u001b[0m\u001b[0mtrainY\u001b[0m\u001b[0;34m[\u001b[0m\u001b[0mindex\u001b[0m\u001b[0;34m]\u001b[0m \u001b[0;32mfor\u001b[0m \u001b[0mindex\u001b[0m \u001b[0;32min\u001b[0m \u001b[0mindices\u001b[0m\u001b[0;34m]\u001b[0m\u001b[0;34m)\u001b[0m\u001b[0;34m\u001b[0m\u001b[0m\n\u001b[1;32m    221\u001b[0m     \u001b[0mpredY\u001b[0m \u001b[0;34m=\u001b[0m \u001b[0;34m[\u001b[0m\u001b[0mnp\u001b[0m\u001b[0;34m.\u001b[0m\u001b[0mbincount\u001b[0m\u001b[0;34m(\u001b[0m\u001b[0mfreq\u001b[0m\u001b[0;34m)\u001b[0m\u001b[0;34m.\u001b[0m\u001b[0margmax\u001b[0m\u001b[0;34m(\u001b[0m\u001b[0;34m)\u001b[0m \u001b[0;32mfor\u001b[0m \u001b[0mfreq\u001b[0m \u001b[0;32min\u001b[0m \u001b[0mfreqs\u001b[0m\u001b[0;34m]\u001b[0m\u001b[0;34m\u001b[0m\u001b[0m\n",
      "\u001b[0;32m~/IIT Delhi/ELL409 - Machine Learning/ELL409/Assigment_1/functions.py\u001b[0m in \u001b[0;36mgetKNeighbours\u001b[0;34m(testX, trainX, K, distanceMetric)\u001b[0m\n\u001b[1;32m    212\u001b[0m \u001b[0;34m\u001b[0m\u001b[0m\n\u001b[1;32m    213\u001b[0m \u001b[0;32mdef\u001b[0m \u001b[0mgetKNeighbours\u001b[0m\u001b[0;34m(\u001b[0m\u001b[0mtestX\u001b[0m\u001b[0;34m,\u001b[0m \u001b[0mtrainX\u001b[0m\u001b[0;34m,\u001b[0m \u001b[0mK\u001b[0m \u001b[0;34m=\u001b[0m \u001b[0;36m1\u001b[0m\u001b[0;34m,\u001b[0m \u001b[0mdistanceMetric\u001b[0m \u001b[0;34m=\u001b[0m \u001b[0meuclideanDistance\u001b[0m\u001b[0;34m)\u001b[0m\u001b[0;34m:\u001b[0m\u001b[0;34m\u001b[0m\u001b[0m\n\u001b[0;32m--> 214\u001b[0;31m     \u001b[0mdists\u001b[0m \u001b[0;34m=\u001b[0m \u001b[0mnp\u001b[0m\u001b[0;34m.\u001b[0m\u001b[0marray\u001b[0m\u001b[0;34m(\u001b[0m\u001b[0;34m[\u001b[0m\u001b[0mdistanceMetric\u001b[0m\u001b[0;34m(\u001b[0m\u001b[0mtrainX\u001b[0m\u001b[0;34m,\u001b[0m \u001b[0mtestx\u001b[0m\u001b[0;34m)\u001b[0m \u001b[0;32mfor\u001b[0m \u001b[0mtestx\u001b[0m \u001b[0;32min\u001b[0m \u001b[0mtestX\u001b[0m\u001b[0;34m]\u001b[0m\u001b[0;34m)\u001b[0m\u001b[0;34m\u001b[0m\u001b[0m\n\u001b[0m\u001b[1;32m    215\u001b[0m     \u001b[0mind\u001b[0m \u001b[0;34m=\u001b[0m \u001b[0mnp\u001b[0m\u001b[0;34m.\u001b[0m\u001b[0margpartition\u001b[0m\u001b[0;34m(\u001b[0m\u001b[0mdists\u001b[0m\u001b[0;34m,\u001b[0m \u001b[0mK\u001b[0m\u001b[0;34m,\u001b[0m \u001b[0maxis\u001b[0m \u001b[0;34m=\u001b[0m \u001b[0;36m1\u001b[0m\u001b[0;34m)\u001b[0m\u001b[0;34m[\u001b[0m\u001b[0;34m:\u001b[0m\u001b[0;34m,\u001b[0m \u001b[0;36m0\u001b[0m\u001b[0;34m:\u001b[0m\u001b[0mK\u001b[0m\u001b[0;34m]\u001b[0m\u001b[0;34m\u001b[0m\u001b[0m\n\u001b[1;32m    216\u001b[0m     \u001b[0mradius\u001b[0m \u001b[0;34m=\u001b[0m \u001b[0mnp\u001b[0m\u001b[0;34m.\u001b[0m\u001b[0marray\u001b[0m\u001b[0;34m(\u001b[0m \u001b[0;34m[\u001b[0m\u001b[0mdists\u001b[0m\u001b[0;34m[\u001b[0m\u001b[0mrow\u001b[0m\u001b[0;34m,\u001b[0m \u001b[0mind\u001b[0m\u001b[0;34m[\u001b[0m\u001b[0mrow\u001b[0m\u001b[0;34m,\u001b[0m \u001b[0mK\u001b[0m\u001b[0;34m-\u001b[0m\u001b[0;36m1\u001b[0m\u001b[0;34m]\u001b[0m\u001b[0;34m]\u001b[0m \u001b[0;32mfor\u001b[0m \u001b[0mrow\u001b[0m \u001b[0;32min\u001b[0m \u001b[0mrange\u001b[0m\u001b[0;34m(\u001b[0m\u001b[0mtestX\u001b[0m\u001b[0;34m.\u001b[0m\u001b[0mshape\u001b[0m\u001b[0;34m[\u001b[0m\u001b[0;36m0\u001b[0m\u001b[0;34m]\u001b[0m\u001b[0;34m)\u001b[0m\u001b[0;34m]\u001b[0m\u001b[0;34m)\u001b[0m\u001b[0;34m\u001b[0m\u001b[0m\n",
      "\u001b[0;32m~/IIT Delhi/ELL409 - Machine Learning/ELL409/Assigment_1/functions.py\u001b[0m in \u001b[0;36m<listcomp>\u001b[0;34m(.0)\u001b[0m\n\u001b[1;32m    212\u001b[0m \u001b[0;34m\u001b[0m\u001b[0m\n\u001b[1;32m    213\u001b[0m \u001b[0;32mdef\u001b[0m \u001b[0mgetKNeighbours\u001b[0m\u001b[0;34m(\u001b[0m\u001b[0mtestX\u001b[0m\u001b[0;34m,\u001b[0m \u001b[0mtrainX\u001b[0m\u001b[0;34m,\u001b[0m \u001b[0mK\u001b[0m \u001b[0;34m=\u001b[0m \u001b[0;36m1\u001b[0m\u001b[0;34m,\u001b[0m \u001b[0mdistanceMetric\u001b[0m \u001b[0;34m=\u001b[0m \u001b[0meuclideanDistance\u001b[0m\u001b[0;34m)\u001b[0m\u001b[0;34m:\u001b[0m\u001b[0;34m\u001b[0m\u001b[0m\n\u001b[0;32m--> 214\u001b[0;31m     \u001b[0mdists\u001b[0m \u001b[0;34m=\u001b[0m \u001b[0mnp\u001b[0m\u001b[0;34m.\u001b[0m\u001b[0marray\u001b[0m\u001b[0;34m(\u001b[0m\u001b[0;34m[\u001b[0m\u001b[0mdistanceMetric\u001b[0m\u001b[0;34m(\u001b[0m\u001b[0mtrainX\u001b[0m\u001b[0;34m,\u001b[0m \u001b[0mtestx\u001b[0m\u001b[0;34m)\u001b[0m \u001b[0;32mfor\u001b[0m \u001b[0mtestx\u001b[0m \u001b[0;32min\u001b[0m \u001b[0mtestX\u001b[0m\u001b[0;34m]\u001b[0m\u001b[0;34m)\u001b[0m\u001b[0;34m\u001b[0m\u001b[0m\n\u001b[0m\u001b[1;32m    215\u001b[0m     \u001b[0mind\u001b[0m \u001b[0;34m=\u001b[0m \u001b[0mnp\u001b[0m\u001b[0;34m.\u001b[0m\u001b[0margpartition\u001b[0m\u001b[0;34m(\u001b[0m\u001b[0mdists\u001b[0m\u001b[0;34m,\u001b[0m \u001b[0mK\u001b[0m\u001b[0;34m,\u001b[0m \u001b[0maxis\u001b[0m \u001b[0;34m=\u001b[0m \u001b[0;36m1\u001b[0m\u001b[0;34m)\u001b[0m\u001b[0;34m[\u001b[0m\u001b[0;34m:\u001b[0m\u001b[0;34m,\u001b[0m \u001b[0;36m0\u001b[0m\u001b[0;34m:\u001b[0m\u001b[0mK\u001b[0m\u001b[0;34m]\u001b[0m\u001b[0;34m\u001b[0m\u001b[0m\n\u001b[1;32m    216\u001b[0m     \u001b[0mradius\u001b[0m \u001b[0;34m=\u001b[0m \u001b[0mnp\u001b[0m\u001b[0;34m.\u001b[0m\u001b[0marray\u001b[0m\u001b[0;34m(\u001b[0m \u001b[0;34m[\u001b[0m\u001b[0mdists\u001b[0m\u001b[0;34m[\u001b[0m\u001b[0mrow\u001b[0m\u001b[0;34m,\u001b[0m \u001b[0mind\u001b[0m\u001b[0;34m[\u001b[0m\u001b[0mrow\u001b[0m\u001b[0;34m,\u001b[0m \u001b[0mK\u001b[0m\u001b[0;34m-\u001b[0m\u001b[0;36m1\u001b[0m\u001b[0;34m]\u001b[0m\u001b[0;34m]\u001b[0m \u001b[0;32mfor\u001b[0m \u001b[0mrow\u001b[0m \u001b[0;32min\u001b[0m \u001b[0mrange\u001b[0m\u001b[0;34m(\u001b[0m\u001b[0mtestX\u001b[0m\u001b[0;34m.\u001b[0m\u001b[0mshape\u001b[0m\u001b[0;34m[\u001b[0m\u001b[0;36m0\u001b[0m\u001b[0;34m]\u001b[0m\u001b[0;34m)\u001b[0m\u001b[0;34m]\u001b[0m\u001b[0;34m)\u001b[0m\u001b[0;34m\u001b[0m\u001b[0m\n",
      "\u001b[0;32m~/IIT Delhi/ELL409 - Machine Learning/ELL409/Assigment_1/functions.py\u001b[0m in \u001b[0;36meuclideanDistance\u001b[0;34m(X, y)\u001b[0m\n\u001b[1;32m     44\u001b[0m \u001b[0;32mdef\u001b[0m \u001b[0meuclideanDistance\u001b[0m \u001b[0;34m(\u001b[0m\u001b[0mX\u001b[0m\u001b[0;34m,\u001b[0m\u001b[0my\u001b[0m\u001b[0;34m)\u001b[0m\u001b[0;34m:\u001b[0m\u001b[0;34m\u001b[0m\u001b[0m\n\u001b[1;32m     45\u001b[0m     \u001b[0;32mif\u001b[0m \u001b[0mlen\u001b[0m\u001b[0;34m(\u001b[0m\u001b[0mX\u001b[0m\u001b[0;34m.\u001b[0m\u001b[0mshape\u001b[0m\u001b[0;34m)\u001b[0m\u001b[0;34m==\u001b[0m\u001b[0;36m1\u001b[0m\u001b[0;34m:\u001b[0m \u001b[0;32mreturn\u001b[0m \u001b[0mnp\u001b[0m\u001b[0;34m.\u001b[0m\u001b[0msqrt\u001b[0m\u001b[0;34m(\u001b[0m\u001b[0mnp\u001b[0m\u001b[0;34m.\u001b[0m\u001b[0msum\u001b[0m\u001b[0;34m(\u001b[0m\u001b[0mnp\u001b[0m\u001b[0;34m.\u001b[0m\u001b[0msquare\u001b[0m\u001b[0;34m(\u001b[0m\u001b[0mX\u001b[0m\u001b[0;34m-\u001b[0m\u001b[0my\u001b[0m\u001b[0;34m)\u001b[0m\u001b[0;34m)\u001b[0m\u001b[0;34m)\u001b[0m\u001b[0;34m\u001b[0m\u001b[0m\n\u001b[0;32m---> 46\u001b[0;31m     \u001b[0;32melse\u001b[0m\u001b[0;34m:\u001b[0m \u001b[0;32mreturn\u001b[0m \u001b[0mnp\u001b[0m\u001b[0;34m.\u001b[0m\u001b[0msqrt\u001b[0m\u001b[0;34m(\u001b[0m\u001b[0mnp\u001b[0m\u001b[0;34m.\u001b[0m\u001b[0msum\u001b[0m\u001b[0;34m(\u001b[0m\u001b[0;34m(\u001b[0m\u001b[0mnp\u001b[0m\u001b[0;34m.\u001b[0m\u001b[0msquare\u001b[0m\u001b[0;34m(\u001b[0m\u001b[0mX\u001b[0m \u001b[0;34m-\u001b[0m \u001b[0my\u001b[0m\u001b[0;34m)\u001b[0m\u001b[0;34m)\u001b[0m\u001b[0;34m,\u001b[0m \u001b[0maxis\u001b[0m \u001b[0;34m=\u001b[0m \u001b[0;36m1\u001b[0m\u001b[0;34m)\u001b[0m\u001b[0;34m)\u001b[0m\u001b[0;34m\u001b[0m\u001b[0m\n\u001b[0m\u001b[1;32m     47\u001b[0m \u001b[0;32mdef\u001b[0m \u001b[0mmanhattenDistance\u001b[0m \u001b[0;34m(\u001b[0m\u001b[0mX\u001b[0m\u001b[0;34m,\u001b[0m\u001b[0my\u001b[0m\u001b[0;34m)\u001b[0m\u001b[0;34m:\u001b[0m\u001b[0;34m\u001b[0m\u001b[0m\n\u001b[1;32m     48\u001b[0m     \u001b[0;32mif\u001b[0m \u001b[0mlen\u001b[0m\u001b[0;34m(\u001b[0m\u001b[0mX\u001b[0m\u001b[0;34m.\u001b[0m\u001b[0mshape\u001b[0m\u001b[0;34m)\u001b[0m\u001b[0;34m==\u001b[0m\u001b[0;36m1\u001b[0m\u001b[0;34m:\u001b[0m \u001b[0;32mreturn\u001b[0m \u001b[0mnp\u001b[0m\u001b[0;34m.\u001b[0m\u001b[0msum\u001b[0m\u001b[0;34m(\u001b[0m\u001b[0mnp\u001b[0m\u001b[0;34m.\u001b[0m\u001b[0mabs\u001b[0m\u001b[0;34m(\u001b[0m\u001b[0mX\u001b[0m\u001b[0;34m-\u001b[0m\u001b[0my\u001b[0m\u001b[0;34m)\u001b[0m\u001b[0;34m)\u001b[0m\u001b[0;34m\u001b[0m\u001b[0m\n",
      "\u001b[0;31mKeyboardInterrupt\u001b[0m: "
     ]
    }
   ],
   "source": [
    "import seaborn as sns\n",
    "\n",
    "distanceMetrics = [euclideanDistance, chebyschevDistance, manhattenDistance]\n",
    "K_vals = [1,2,4,8,16, 32, 64, 128, 256, 512, 1024]\n",
    "params ={\"90% PCA\": (0,0.9,0)}\n",
    "\n",
    "log_cols = [\"Data\" ,\"Distance Metric\", \"Validation_K\", \"Validation_Acc\", \"Test_Acc\"]\n",
    "log  = pd.DataFrame(columns=log_cols)\n",
    "acc_dict = {}\n",
    "\n",
    "\n",
    "for param in params:\n",
    "    (x,y,z) = params[param]\n",
    "    (X_train, y_train, X_val, y_val, X_test, y_test) = prepareFMNISTData(x,y,z) \n",
    "\n",
    "    for dist in distanceMetrics:\n",
    "        print(param + \"    \" + dist.__name__)\n",
    "        maxAcc=0\n",
    "        maxK=1\n",
    "        for K in K_vals:\n",
    "            \n",
    "            name = dist.__name__ + \" \" + str(K)\n",
    "            y_pred = knnClassifier(X_val, X_train, y_train, K, dist)\n",
    "            acc = accuracy(y_pred, y_val)\n",
    "            acc_dict[name] = acc\n",
    "            if acc>maxAcc: \n",
    "                maxK = K\n",
    "                maxAcc = acc\n",
    "    \n",
    "        y_pred = knnClassifier(X_test, X_train, y_train, maxK, dist)\n",
    "        testAcc = accuracy(y_pred, y_test)\n",
    "    \n",
    "        classifier = [dist, maxK, maxAcc, testAcc]\n",
    "        log_entry = pd.DataFrame([[param, dist.__name__, maxK, maxAcc, testAcc]], columns = log_cols)\n",
    "        log = log.append(log_entry)\n",
    "\n",
    "log.set_index('Data', inplace = True)\n",
    "\n",
    "\n",
    "\n"
   ]
  },
  {
   "cell_type": "code",
   "execution_count": null,
   "metadata": {},
   "outputs": [],
   "source": [
    "euclideanDistance.__name__ = euclideanDistance"
   ]
  },
  {
   "cell_type": "code",
   "execution_count": 94,
   "metadata": {},
   "outputs": [
    {
     "data": {
      "text/plain": [
       "1.0"
      ]
     },
     "execution_count": 94,
     "metadata": {},
     "output_type": "execute_result"
    }
   ],
   "source": []
  },
  {
   "cell_type": "code",
   "execution_count": null,
   "metadata": {},
   "outputs": [],
   "source": []
  }
 ],
 "metadata": {
  "kernelspec": {
   "display_name": "Python 3",
   "language": "python",
   "name": "python3"
  },
  "language_info": {
   "codemirror_mode": {
    "name": "ipython",
    "version": 3
   },
   "file_extension": ".py",
   "mimetype": "text/x-python",
   "name": "python",
   "nbconvert_exporter": "python",
   "pygments_lexer": "ipython3",
   "version": "3.6.5"
  }
 },
 "nbformat": 4,
 "nbformat_minor": 2
}
